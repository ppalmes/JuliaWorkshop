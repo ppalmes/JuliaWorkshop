{
 "cells": [
  {
   "cell_type": "code",
   "execution_count": null,
   "id": "69ce3643",
   "metadata": {},
   "outputs": [],
   "source": [
    "# ----------------------------------\n",
    "# Implementation\n",
    "# ----------------------------------\n",
    "\n",
    "using Distributed\n",
    "nprocs() == 1 && addprocs(; exeflags = \"--project\")\n",
    "workers()\n",
    "\n",
    "@everywhere using AutoMLPipeline\n",
    "@everywhere using DataFrames\n",
    "@everywhere using AutoMLPipeline: score\n",
    "@everywhere using Random\n",
    "ENV[\"COLUMNS\"]=1000\n",
    "ENV[\"LINES\"]=100\n",
    "# disable truncation of dataframes columns\n",
    "import Base.show\n",
    "show(df::AbstractDataFrame) = show(df,truncate=0)\n",
    "show(io::IO,df::AbstractDataFrame) = show(io,df;truncate=0)"
   ]
  },
  {
   "cell_type": "code",
   "execution_count": null,
   "id": "8729cd06",
   "metadata": {},
   "outputs": [],
   "source": [
    "# brief overview of AutoMLPipeline package\n",
    "# more details is in my Juliacon2020 presentation about this package\n",
    "# we use AutoMLPipeline to develop the pipeline optimizer\n",
    "\n",
    "# define scalers\n",
    "rb     = SKPreprocessor(\"RobustScaler\",Dict(:name=>\"rb\"))\n",
    "pt     = SKPreprocessor(\"PowerTransformer\",Dict(:name=>\"pt\"))\n",
    "norm   = SKPreprocessor(\"Normalizer\",Dict(:name=>\"norm\"))\n",
    "mx     = SKPreprocessor(\"MinMaxScaler\",Dict(:name=>\"mx\"))\n",
    "std    = SKPreprocessor(\"StandardScaler\",Dict(:name=>\"std\"))\n",
    "# define extractors\n",
    "pca    = SKPreprocessor(\"PCA\",Dict(:name=>\"pca\"))\n",
    "fa     = SKPreprocessor(\"FactorAnalysis\",Dict(:name=>\"fa\"))\n",
    "ica    = SKPreprocessor(\"FastICA\",Dict(:name=>\"ica\"))\n",
    "# define learners\n",
    "rf     = SKLearner(\"RandomForestClassifier\",Dict(:name => \"rf\"))\n",
    "ada    = SKLearner(\"AdaBoostClassifier\",Dict(:name => \"ada\"))\n",
    "gb     = SKLearner(\"GradientBoostingClassifier\",Dict(:name => \"gb\"))\n",
    "lsvc   = SKLearner(\"LinearSVC\",Dict(:name => \"lsvc\"))\n",
    "rbfsvc = SKLearner(\"SVC\",Dict(:name => \"rbfsvc\"))\n",
    "dt     = SKLearner(\"DecisionTreeClassifier\",Dict(:name =>\"dt\"))\n",
    "# preprocessing\n",
    "noop = Identity(Dict(:name =>\"noop\"))\n",
    "ohe  = OneHotEncoder(Dict(:name=>\"ohe\"))\n",
    "catf = CatFeatureSelector(Dict(:name=>\"catf\"))\n",
    "numf = NumFeatureSelector(Dict(:name=>\"numf\"))\n",
    "\n",
    "vscalers =    [rb,pt,norm,mx,std,noop]\n",
    "vextractors = [pca,fa,ica,noop]\n",
    "vlearners =   [rf,gb,lsvc,rbfsvc,ada,dt]\n",
    "\n",
    "dataset = getiris()\n",
    "X = dataset[:,1:4]\n",
    "Y = dataset[:,5] |> collect;"
   ]
  },
  {
   "cell_type": "code",
   "execution_count": null,
   "id": "262a90fc",
   "metadata": {},
   "outputs": [],
   "source": [
    "# one-block pipeline\n",
    "prep = @pipeline (catf |> ohe) + numf\n",
    "ppl1 = @pipeline prep |> (mx |> pca) |> rf\n",
    "crossvalidate(ppl1,X,Y)"
   ]
  },
  {
   "cell_type": "code",
   "execution_count": null,
   "id": "48578e75",
   "metadata": {},
   "outputs": [],
   "source": [
    "# two-block pipeline\n",
    "ppl2 = @pipeline prep |> ((norm |> ica) + (pt |> pca)) |> lsvc\n",
    "crossvalidate(ppl2,X,Y)"
   ]
  },
  {
   "cell_type": "code",
   "execution_count": null,
   "id": "f383bbf9",
   "metadata": {},
   "outputs": [],
   "source": [
    "function oneblock_pipeline_factory(scalers,extractors,learners)\n",
    "   results = @distributed (vcat) for lr in learners\n",
    "      @distributed (vcat) for xt in extractors\n",
    "         @distributed (vcat) for sc in scalers\n",
    "            # baseline preprocessing\n",
    "            prep = @pipeline ((catf |> ohe) + numf)\n",
    "            # one-block prp\n",
    "            expx = @pipeline prep |> (sc |> xt) |> lr\n",
    "            scn   = sc.name[1:end - 4];xtn = xt.name[1:end - 4]; lrn = lr.name[1:end - 4]\n",
    "            pname = \"($scn |> $xtn) |> $lrn\"\n",
    "            DataFrame(Description=pname,Pipeline=expx)\n",
    "         end\n",
    "      end\n",
    "   end\n",
    "   return results\n",
    "end"
   ]
  },
  {
   "cell_type": "code",
   "execution_count": null,
   "id": "083c8a03",
   "metadata": {
    "scrolled": true
   },
   "outputs": [],
   "source": [
    "res_oneblock = oneblock_pipeline_factory(vscalers,vextractors,vlearners)"
   ]
  },
  {
   "cell_type": "code",
   "execution_count": null,
   "id": "05b49292",
   "metadata": {},
   "outputs": [],
   "source": [
    "function evaluate_pipeline(dfpipelines,X,Y;folds=3)\n",
    "   res=@distributed (vcat) for prow in eachrow(dfpipelines)\n",
    "      perf = crossvalidate(prow.Pipeline,X,Y;nfolds=folds)\n",
    "      DataFrame(Description=prow.Description,mean=perf.mean,sd=perf.std)\n",
    "   end\n",
    "   return res\n",
    "end"
   ]
  },
  {
   "cell_type": "code",
   "execution_count": null,
   "id": "64d21699",
   "metadata": {},
   "outputs": [],
   "source": [
    "cross_res_oneblock = evaluate_pipeline(res_oneblock,X,Y)"
   ]
  },
  {
   "cell_type": "code",
   "execution_count": null,
   "id": "3b25ded8",
   "metadata": {
    "scrolled": true
   },
   "outputs": [],
   "source": [
    "sort!(cross_res_oneblock,:mean, rev = true)"
   ]
  },
  {
   "cell_type": "code",
   "execution_count": null,
   "id": "b4fa6c48",
   "metadata": {
    "scrolled": true
   },
   "outputs": [],
   "source": [
    "function twoblock_pipeline_factory(scalers,extractors,learners)\n",
    "   results = @distributed (vcat) for lr in learners\n",
    "      @distributed (vcat) for xt1 in extractors\n",
    "         @distributed (vcat) for xt2 in extractors\n",
    "            @distributed (vcat) for sc1 in scalers\n",
    "               @distributed (vcat) for sc2 in scalers\n",
    "                  prep = @pipeline ((catf |> ohe) + numf)\n",
    "                  expx = @pipeline prep |> ((sc1 |> xt1) + (sc2 |> xt2)) |> lr\n",
    "                  scn1   = sc1.name[1:end - 4];xtn1 = xt1.name[1:end - 4];\n",
    "                  scn2   = sc2.name[1:end - 4];xtn2 = xt2.name[1:end - 4];\n",
    "                  lrn = lr.name[1:end - 4]\n",
    "                  pname = \"($scn1 |> $xtn1) + ($scn2 |> $xtn2) |> $lrn\"\n",
    "                  DataFrame(Description=pname,Pipeline=expx)\n",
    "               end\n",
    "            end\n",
    "         end\n",
    "      end\n",
    "   end\n",
    "   return results\n",
    "end\n",
    "res_twoblock = twoblock_pipeline_factory(vscalers,vextractors,vlearners)"
   ]
  },
  {
   "cell_type": "code",
   "execution_count": null,
   "id": "f6c2d733",
   "metadata": {},
   "outputs": [],
   "source": [
    "function model_selection_pipeline(learners)\n",
    "   results = @distributed (vcat) for lr in learners\n",
    "      prep = @pipeline ((catf |> ohe) + numf)\n",
    "      expx = @pipeline prep |> (rb |> pca)  |> lr\n",
    "      pname = \"(rb |> pca) |> $(lr.name[1:end-4])\"\n",
    "      DataFrame(Description=pname,Pipeline=expx)\n",
    "   end\n",
    "   return results\n",
    "end\n",
    "dfpipes = model_selection_pipeline(vlearners)"
   ]
  },
  {
   "cell_type": "code",
   "execution_count": null,
   "id": "58b0b75d",
   "metadata": {},
   "outputs": [],
   "source": [
    "# find the best model\n",
    "@everywhere Random.seed!(10)\n",
    "res = evaluate_pipeline(dfpipes,X,Y;folds=10)\n",
    "sort!(res,:mean, rev = true)"
   ]
  },
  {
   "cell_type": "code",
   "execution_count": null,
   "id": "81d9b5a2",
   "metadata": {},
   "outputs": [],
   "source": [
    "# use the best model to generate pipeline search\n",
    "dfp = twoblock_pipeline_factory(vscalers,vextractors,[rbfsvc])"
   ]
  },
  {
   "cell_type": "code",
   "execution_count": null,
   "id": "22a16ba3",
   "metadata": {},
   "outputs": [],
   "source": [
    "# evaluate the pipeline\n",
    "@everywhere Random.seed!(10)\n",
    "bestp=evaluate_pipeline(dfp,X,Y;folds=3)"
   ]
  },
  {
   "cell_type": "code",
   "execution_count": null,
   "id": "331a6e31",
   "metadata": {},
   "outputs": [],
   "source": [
    "sort!(bestp,:mean, rev = true)"
   ]
  },
  {
   "cell_type": "code",
   "execution_count": null,
   "id": "7a911f1f",
   "metadata": {},
   "outputs": [],
   "source": [
    "show(bestp;allrows=true,truncate=0,allcols=true)"
   ]
  },
  {
   "cell_type": "code",
   "execution_count": null,
   "id": "078c1463",
   "metadata": {},
   "outputs": [],
   "source": []
  }
 ],
 "metadata": {
  "kernelspec": {
   "display_name": "Julia 1.7.2",
   "language": "julia",
   "name": "julia-1.7"
  },
  "language_info": {
   "file_extension": ".jl",
   "mimetype": "application/julia",
   "name": "julia",
   "version": "1.7.2"
  }
 },
 "nbformat": 4,
 "nbformat_minor": 5
}
