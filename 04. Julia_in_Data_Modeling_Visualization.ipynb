{
 "cells": [
  {
   "cell_type": "markdown",
   "metadata": {},
   "source": [
    "## Julia in Data Modeling and Exploration"
   ]
  },
  {
   "cell_type": "code",
   "execution_count": null,
   "metadata": {},
   "outputs": [],
   "source": [
    "using CSVFiles # loading/saving csv\n",
    "using DataFrames\n",
    "using DataFramesMeta\n",
    "using Dates\n",
    "using RCall\n",
    "using PyCall\n",
    "using VegaDatasets\n",
    "using Statistics\n",
    "using DataVoyager\n",
    "using VegaDatasets\n",
    "ENV[\"COLUMNS\"]=1000; # for dataframe column size"
   ]
  },
  {
   "cell_type": "code",
   "execution_count": null,
   "metadata": {},
   "outputs": [],
   "source": [
    "top5(x::DataFrame) = first(x,5)\n",
    "last5(x::DataFrame) = last(x,5)"
   ]
  },
  {
   "cell_type": "markdown",
   "metadata": {},
   "source": [
    "Let's use the `cars` dataset from VegaDatasets for modeling "
   ]
  },
  {
   "cell_type": "code",
   "execution_count": null,
   "metadata": {},
   "outputs": [],
   "source": [
    "cars = dataset(\"cars\") |> DataFrame\n",
    "cars |> top5"
   ]
  },
  {
   "cell_type": "markdown",
   "metadata": {},
   "source": [
    "## Data Voyager"
   ]
  },
  {
   "cell_type": "markdown",
   "metadata": {},
   "source": [
    "Let's feed the `cars` dataset to the Voyager visualization tool and perform some exploratory visualization."
   ]
  },
  {
   "cell_type": "markdown",
   "metadata": {},
   "source": [
    "Note: This won't work in remote notebooks."
   ]
  },
  {
   "cell_type": "code",
   "execution_count": null,
   "metadata": {},
   "outputs": [],
   "source": [
    "# cars |> Voyager()"
   ]
  },
  {
   "cell_type": "markdown",
   "metadata": {},
   "source": [
    "## Julia SQL-like data processing workflow"
   ]
  },
  {
   "cell_type": "raw",
   "metadata": {},
   "source": [
    "Julia             dplyr            LINQ\n",
    "---------------------------------------------\n",
    "@where            filter           Where  --------> take subset of rows\n",
    "@transform        mutate           Select --------> add columns\n",
    "@by                                GroupBy\n",
    "groupby           group_by\n",
    "@based_on         summarise/do\n",
    "@orderby          arrange          OrderBy\n",
    "@select           select           Select --------> take subset of columns"
   ]
  },
  {
   "cell_type": "markdown",
   "metadata": {},
   "source": [
    "## High-level queries to manipulate data"
   ]
  },
  {
   "cell_type": "markdown",
   "metadata": {},
   "source": [
    "### Filter rows"
   ]
  },
  {
   "cell_type": "code",
   "execution_count": null,
   "metadata": {},
   "outputs": [],
   "source": [
    "@linq cars |> \n",
    "   where(:Origin .== \"USA\") |> \n",
    "   top5"
   ]
  },
  {
   "cell_type": "code",
   "execution_count": null,
   "metadata": {},
   "outputs": [],
   "source": [
    "@subset(cars,:Origin .== \"USA\") |> last5"
   ]
  },
  {
   "cell_type": "markdown",
   "metadata": {},
   "source": [
    "### Filter rows and columns"
   ]
  },
  {
   "cell_type": "code",
   "execution_count": null,
   "metadata": {},
   "outputs": [],
   "source": [
    "@linq cars |> \n",
    "      where(:Origin .== \"Europe\") |> # filter rows\n",
    "      select(:Name,:Year) |>         # subset of columns\n",
    "      top5"
   ]
  },
  {
   "cell_type": "markdown",
   "metadata": {},
   "source": [
    "### Grouping, Aggregation, and Sorting"
   ]
  },
  {
   "cell_type": "code",
   "execution_count": null,
   "metadata": {},
   "outputs": [],
   "source": [
    "mymean(x)=mean(skipmissing(x))"
   ]
  },
  {
   "cell_type": "code",
   "execution_count": null,
   "metadata": {},
   "outputs": [],
   "source": [
    "@linq cars |> \n",
    "      by(:Origin,\n",
    "          meanAcc = mymean(:Acceleration),\n",
    "          meanDisp = mymean(:Displacement),\n",
    "          meanMPG=mymean(:Miles_per_Gallon)\n",
    "      ) "
   ]
  },
  {
   "cell_type": "code",
   "execution_count": null,
   "metadata": {},
   "outputs": [],
   "source": [
    "region_stats = @linq  cars |>\n",
    "                      by([:Origin,:Cylinders],\n",
    "                          MeanAcceleration=mymean(:Acceleration),\n",
    "                          MeanHorsepower=mymean(:Horsepower)) |>\n",
    "                      orderby(:Origin,:Cylinders)"
   ]
  },
  {
   "cell_type": "code",
   "execution_count": null,
   "metadata": {},
   "outputs": [],
   "source": [
    "res=combine(groupby(cars,[:Origin,:Cylinders])) do x\n",
    "    macc=mymean(x.Acceleration)\n",
    "    mincy=mymean(x.Horsepower)\n",
    "    DataFrame(MeanAcceleration=macc,MeanHorsepower=mincy)\n",
    "end"
   ]
  },
  {
   "cell_type": "code",
   "execution_count": null,
   "metadata": {},
   "outputs": [],
   "source": [
    "sort!(res,[:Origin,:Cylinders])"
   ]
  },
  {
   "cell_type": "markdown",
   "metadata": {},
   "source": [
    "## R SQL-like data processing workflow"
   ]
  },
  {
   "cell_type": "raw",
   "metadata": {},
   "source": [
    "Julia             dplyr            LINQ\n",
    "---------------------------------------------\n",
    "@where            filter           Where  --------> take subset of rows\n",
    "@transform        mutate           Select --------> add columns\n",
    "@by                                GroupBy\n",
    "groupby           group_by\n",
    "@based_on         summarise/do\n",
    "@orderby          arrange          OrderBy\n",
    "@select           select           Select --------> take subset of columns"
   ]
  },
  {
   "cell_type": "code",
   "execution_count": null,
   "metadata": {},
   "outputs": [],
   "source": [
    "R\"\"\"\n",
    "library(tidyverse)\n",
    "library(ggplot2)\n",
    "\"\"\""
   ]
  },
  {
   "cell_type": "code",
   "execution_count": null,
   "metadata": {},
   "outputs": [],
   "source": [
    "rcars = cars\n",
    "@rput rcars; # copy rcars to R environment"
   ]
  },
  {
   "cell_type": "code",
   "execution_count": null,
   "metadata": {},
   "outputs": [],
   "source": [
    "# rcars is visible in R\n",
    "R\"\"\"\n",
    "rcars %>%\n",
    "  filter(Origin == \"USA\") %>%\n",
    "  select(Origin,Cylinders,Horsepower) %>%\n",
    "  head\n",
    "\"\"\""
   ]
  },
  {
   "cell_type": "code",
   "execution_count": null,
   "metadata": {},
   "outputs": [],
   "source": [
    "R\"\"\"\n",
    "results = rcars %>%\n",
    "          group_by(Origin,Cylinders) %>%\n",
    "          summarise(\n",
    "               MeanAcceleration=mean(Acceleration),\n",
    "               MinHorsepower=min(Horsepower)\n",
    "          )\n",
    "\"\"\""
   ]
  },
  {
   "cell_type": "code",
   "execution_count": null,
   "metadata": {},
   "outputs": [],
   "source": [
    "@rget results # copy results to Julia environment"
   ]
  },
  {
   "cell_type": "markdown",
   "metadata": {},
   "source": [
    "## Data Visualization"
   ]
  },
  {
   "cell_type": "code",
   "execution_count": null,
   "metadata": {},
   "outputs": [],
   "source": [
    "R\"\"\"\n",
    "library(ggplot2)\n",
    "\n",
    "ggplot(rcars,aes(Horsepower,Acceleration)) +\n",
    "   geom_point(aes(color=as.factor(Cylinders))) + \n",
    "   stat_smooth(method='lm')+\n",
    "   facet_wrap( ~ Origin) \n",
    "\"\"\""
   ]
  },
  {
   "cell_type": "code",
   "execution_count": null,
   "metadata": {},
   "outputs": [],
   "source": [
    "R\"names(rcars)\""
   ]
  },
  {
   "cell_type": "code",
   "execution_count": null,
   "metadata": {},
   "outputs": [],
   "source": [
    "R\"\"\"\n",
    "library(ggplot2)\n",
    "\n",
    "ggplot(rcars,aes(Horsepower,Miles_per_Gallon)) +\n",
    "   geom_point(aes(color=as.factor(Cylinders))) +\n",
    "   stat_smooth(method='auto')\n",
    "\"\"\""
   ]
  },
  {
   "cell_type": "code",
   "execution_count": null,
   "metadata": {},
   "outputs": [],
   "source": [
    "R\"\"\"\n",
    "library(ggplot2)\n",
    "\n",
    "ggplot(rcars,aes(Displacement,Miles_per_Gallon)) +\n",
    "   geom_point(aes(color=as.factor(Cylinders))) + \n",
    "   stat_smooth()\n",
    "\"\"\""
   ]
  },
  {
   "cell_type": "code",
   "execution_count": null,
   "metadata": {},
   "outputs": [],
   "source": [
    "R\"\"\"\n",
    "library(ggplot2)\n",
    "\n",
    "ggplot(rcars,aes(Weight_in_lbs,Miles_per_Gallon)) +\n",
    "   geom_point(aes(color=as.factor(Cylinders))) +\n",
    "   stat_smooth()\n",
    "\"\"\""
   ]
  },
  {
   "cell_type": "code",
   "execution_count": null,
   "metadata": {},
   "outputs": [],
   "source": [
    "sort(cars,:Acceleration) |> top5"
   ]
  },
  {
   "cell_type": "code",
   "execution_count": null,
   "metadata": {},
   "outputs": [],
   "source": [
    "R\"\"\"\n",
    "library(randomForest)\n",
    "\n",
    "ccars=rcars[complete.cases(rcars),]\n",
    "\n",
    "rf_model = randomForest(Miles_per_Gallon ~ Cylinders + Displacement + \n",
    "                     Horsepower + Acceleration + Weight_in_lbs, data=ccars)\n",
    "\"\"\""
   ]
  },
  {
   "cell_type": "code",
   "execution_count": null,
   "metadata": {},
   "outputs": [],
   "source": [
    "R\"varImpPlot(rf_model)\""
   ]
  },
  {
   "cell_type": "code",
   "execution_count": null,
   "metadata": {},
   "outputs": [],
   "source": [
    "R\"\"\"\n",
    "\n",
    "ccars=rcars[complete.cases(rcars),]\n",
    "\n",
    "lm_model = lm(Miles_per_Gallon ~ Cylinders + Displacement + \n",
    "              Horsepower + Acceleration + Weight_in_lbs, data=ccars)\n",
    "\"\"\""
   ]
  },
  {
   "cell_type": "code",
   "execution_count": null,
   "metadata": {},
   "outputs": [],
   "source": [
    "R\"summary(lm_model)\""
   ]
  },
  {
   "cell_type": "code",
   "execution_count": null,
   "metadata": {},
   "outputs": [],
   "source": [
    "R\"\"\"\n",
    "library(caret)\n",
    "\n",
    "ccars=rcars[complete.cases(rcars),]\n",
    "\n",
    "crt_model = train(Miles_per_Gallon ~ Cylinders + Displacement + \n",
    "                     Horsepower + Acceleration + Weight_in_lbs, data=ccars,method='rf')\n",
    "\"\"\""
   ]
  },
  {
   "cell_type": "code",
   "execution_count": null,
   "metadata": {},
   "outputs": [],
   "source": [
    "R\"crt_model$finalModel\""
   ]
  },
  {
   "cell_type": "code",
   "execution_count": null,
   "metadata": {},
   "outputs": [],
   "source": [
    "R\"varImpPlot(crt_model$finalModel)\""
   ]
  }
 ],
 "metadata": {
  "@webio": {
   "lastCommId": null,
   "lastKernelId": null
  },
  "kernelspec": {
   "display_name": "Julia 1.7.2",
   "language": "julia",
   "name": "julia-1.7"
  },
  "language_info": {
   "file_extension": ".jl",
   "mimetype": "application/julia",
   "name": "julia",
   "version": "1.7.2"
  }
 },
 "nbformat": 4,
 "nbformat_minor": 2
}
