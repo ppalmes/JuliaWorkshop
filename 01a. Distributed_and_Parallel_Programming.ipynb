{
 "cells": [
  {
   "cell_type": "markdown",
   "metadata": {},
   "source": [
    "## Add available processors"
   ]
  },
  {
   "cell_type": "markdown",
   "metadata": {},
   "source": [
    "Julia interpreter starts with one core process (main julia server)"
   ]
  },
  {
   "cell_type": "code",
   "execution_count": 1,
   "metadata": {},
   "outputs": [
    {
     "data": {
      "text/plain": [
       "1"
      ]
     },
     "execution_count": 1,
     "metadata": {},
     "output_type": "execute_result"
    }
   ],
   "source": [
    "ENV[\"LINES\"] = 10\n",
    "ENV[\"JULIA_NUM_THREADS\"] = 4\n",
    "using Distributed\n",
    "nprocs()"
   ]
  },
  {
   "cell_type": "markdown",
   "metadata": {},
   "source": [
    "To avoid over-allocating the number of workers, we check first if currently we have one processor and then allocate 3 more processors."
   ]
  },
  {
   "cell_type": "code",
   "execution_count": 2,
   "metadata": {},
   "outputs": [
    {
     "data": {
      "text/plain": [
       "8-element Vector{Int64}:\n",
       " 2\n",
       " 3\n",
       " 4\n",
       " ⋮\n",
       " 8\n",
       " 9"
      ]
     },
     "execution_count": 2,
     "metadata": {},
     "output_type": "execute_result"
    }
   ],
   "source": [
    "nprocs() == 1 && addprocs(; exeflags=\"--project\")"
   ]
  },
  {
   "cell_type": "markdown",
   "metadata": {},
   "source": [
    "Let's validate the number of workers we have, not counting the main Julia server (worker id=1)."
   ]
  },
  {
   "cell_type": "code",
   "execution_count": 3,
   "metadata": {},
   "outputs": [
    {
     "data": {
      "text/plain": [
       "8-element Vector{Int64}:\n",
       " 2\n",
       " 3\n",
       " 4\n",
       " ⋮\n",
       " 8\n",
       " 9"
      ]
     },
     "execution_count": 3,
     "metadata": {},
     "output_type": "execute_result"
    }
   ],
   "source": [
    "workers()"
   ]
  },
  {
   "cell_type": "markdown",
   "metadata": {},
   "source": [
    "## Remote Calls and References"
   ]
  },
  {
   "cell_type": "markdown",
   "metadata": {},
   "source": [
    "We use `@spawn` macro to dynamically assign a task to an available remote worker."
   ]
  },
  {
   "cell_type": "code",
   "execution_count": 4,
   "metadata": {},
   "outputs": [
    {
     "data": {
      "text/plain": [
       "Future(2, 1, 10, ReentrantLock(nothing, Base.GenericCondition{Base.Threads.SpinLock}(Base.InvasiveLinkedList{Task}(nothing, nothing), Base.Threads.SpinLock(0)), 0), nothing)"
      ]
     },
     "execution_count": 4,
     "metadata": {},
     "output_type": "execute_result"
    }
   ],
   "source": [
    "ref = @spawn sin(π/5)"
   ]
  },
  {
   "cell_type": "markdown",
   "metadata": {},
   "source": [
    "The return type is a Future because the value may happen in the future or later due to network/communication delays. This is a non-blocking call which means Julia main processor does not wait for the task to finish. If you want for Julia to wait, you can use `@sync` command but it will defeat the purpose of parallelization if you wait for the remote call to finish before doing other independent tasks."
   ]
  },
  {
   "cell_type": "markdown",
   "metadata": {},
   "source": [
    "To get the value at a later time, you can use `fetch`. This is a blocking call so Julia waits until the `fetch` call gets its value."
   ]
  },
  {
   "cell_type": "code",
   "execution_count": 5,
   "metadata": {},
   "outputs": [
    {
     "data": {
      "text/plain": [
       "0.5877852522924731"
      ]
     },
     "execution_count": 5,
     "metadata": {},
     "output_type": "execute_result"
    }
   ],
   "source": [
    "fetch(ref)"
   ]
  },
  {
   "cell_type": "markdown",
   "metadata": {},
   "source": [
    "Here's an example of loops with remote calls. For simpler discussion, we use `sin` task but ideally, the task ideal for remote calls are those that takes time so that they can be run in parallel in the background."
   ]
  },
  {
   "cell_type": "markdown",
   "metadata": {},
   "source": [
    "We declare first an `Array` of `Futures` which will be populated by `Future` values by `@spawn` inside the loop."
   ]
  },
  {
   "cell_type": "code",
   "execution_count": 6,
   "metadata": {},
   "outputs": [],
   "source": [
    "n=10\n",
    "refs = Array{Future,1}(undef,n)\n",
    "for i = 1:n\n",
    "    refs[i] = @spawn sin(i)\n",
    "end"
   ]
  },
  {
   "cell_type": "markdown",
   "metadata": {},
   "source": [
    "`refs` now contain an Array of Futures."
   ]
  },
  {
   "cell_type": "code",
   "execution_count": 7,
   "metadata": {},
   "outputs": [
    {
     "data": {
      "text/plain": [
       "10-element Vector{Future}:\n",
       " Future(3, 1, 12, ReentrantLock(nothing, Base.GenericCondition{Base.Threads.SpinLock}(Base.InvasiveLinkedList{Task}(nothing, nothing), Base.Threads.SpinLock(0)), 0), nothing)\n",
       " Future(4, 1, 13, ReentrantLock(nothing, Base.GenericCondition{Base.Threads.SpinLock}(Base.InvasiveLinkedList{Task}(nothing, nothing), Base.Threads.SpinLock(0)), 0), nothing)\n",
       " Future(5, 1, 14, ReentrantLock(nothing, Base.GenericCondition{Base.Threads.SpinLock}(Base.InvasiveLinkedList{Task}(nothing, nothing), Base.Threads.SpinLock(0)), 0), nothing)\n",
       " ⋮\n",
       " Future(3, 1, 20, ReentrantLock(nothing, Base.GenericCondition{Base.Threads.SpinLock}(Base.InvasiveLinkedList{Task}(nothing, nothing), Base.Threads.SpinLock(0)), 0), nothing)\n",
       " Future(4, 1, 21, ReentrantLock(nothing, Base.GenericCondition{Base.Threads.SpinLock}(Base.InvasiveLinkedList{Task}(nothing, nothing), Base.Threads.SpinLock(0)), 0), nothing)"
      ]
     },
     "execution_count": 7,
     "metadata": {},
     "output_type": "execute_result"
    }
   ],
   "source": [
    "refs"
   ]
  },
  {
   "cell_type": "markdown",
   "metadata": {},
   "source": [
    "We can map the `fetch` function to each of the `Futures` and aggregate (reduce) them by getting the sum."
   ]
  },
  {
   "cell_type": "code",
   "execution_count": 8,
   "metadata": {},
   "outputs": [
    {
     "data": {
      "text/plain": [
       "1.4111883712180104"
      ]
     },
     "execution_count": 8,
     "metadata": {},
     "output_type": "execute_result"
    }
   ],
   "source": [
    "reduce(+,map(fetch,refs))"
   ]
  },
  {
   "cell_type": "markdown",
   "metadata": {},
   "source": [
    "A more elegant way to do this is using `@distributed` as show below."
   ]
  },
  {
   "cell_type": "code",
   "execution_count": 9,
   "metadata": {},
   "outputs": [
    {
     "data": {
      "text/plain": [
       "10-element Vector{Float64}:\n",
       "  0.8414709848078965\n",
       "  0.9092974268256817\n",
       "  0.1411200080598672\n",
       "  ⋮\n",
       "  0.4121184852417566\n",
       " -0.5440211108893698"
      ]
     },
     "execution_count": 9,
     "metadata": {},
     "output_type": "execute_result"
    }
   ],
   "source": [
    "res=@distributed (vcat) for i=1:n\n",
    "    sin(i)\n",
    "end"
   ]
  },
  {
   "cell_type": "code",
   "execution_count": 10,
   "metadata": {},
   "outputs": [
    {
     "data": {
      "text/plain": [
       "1.4111883712180104"
      ]
     },
     "execution_count": 10,
     "metadata": {},
     "output_type": "execute_result"
    }
   ],
   "source": [
    "reduce(+,res)"
   ]
  },
  {
   "cell_type": "markdown",
   "metadata": {},
   "source": [
    "You can also replace (vcat) by (+) in the `@distributed`."
   ]
  },
  {
   "cell_type": "code",
   "execution_count": 11,
   "metadata": {},
   "outputs": [
    {
     "name": "stdout",
     "output_type": "stream",
     "text": [
      "      From worker 3:\tprocessing: 3\n",
      "      From worker 5:\tprocessing: 6\n"
     ]
    },
    {
     "data": {
      "text/plain": [
       "1.4111883712180104"
      ]
     },
     "execution_count": 11,
     "metadata": {},
     "output_type": "execute_result"
    },
    {
     "name": "stdout",
     "output_type": "stream",
     "text": [
      "      From worker 2:\tprocessing: 1\n",
      "      From worker 2:\tprocessing: 2\n",
      "      From worker 4:\tprocessing: 5\n"
     ]
    }
   ],
   "source": [
    "res = @distributed (+) for i in 1:10\n",
    "    println(\"processing: \",i)\n",
    "    sin(i)\n",
    "end"
   ]
  },
  {
   "cell_type": "code",
   "execution_count": 12,
   "metadata": {},
   "outputs": [
    {
     "name": "stdout",
     "output_type": "stream",
     "text": [
      "      From worker 6:\tprocessing: 7\n",
      "      From worker 9:\tprocessing: 10\n",
      "      From worker 8:\tprocessing: 9\n",
      "      From worker 7:\tprocessing: 8\n",
      "      From worker 3:\tprocessing: 4\n"
     ]
    },
    {
     "data": {
      "text/plain": [
       "1.4111883712180104"
      ]
     },
     "execution_count": 12,
     "metadata": {},
     "output_type": "execute_result"
    }
   ],
   "source": [
    "[@spawn sin(i) for i in 1:10]  .|> fetch   |> sum"
   ]
  },
  {
   "cell_type": "markdown",
   "metadata": {},
   "source": [
    "Here's another example which concatenates each `DataFrame` containing worker and their corresponding task result."
   ]
  },
  {
   "cell_type": "markdown",
   "metadata": {},
   "source": [
    "You will notice the pattern of task assignment. Workers are rotated sequentially in the beginning and then any idle worker will get the next task."
   ]
  },
  {
   "cell_type": "code",
   "execution_count": 13,
   "metadata": {},
   "outputs": [
    {
     "name": "stdout",
     "output_type": "stream",
     "text": [
      "      From worker 7:\t(8, 0.9893582466233818)\n",
      "      From worker 6:\t(7, 0.6569865987187891)\n",
      "      From worker 8:\t(9, 0.4121184852417566)\n",
      "      From worker 9:\t(10, -0.5440211108893698)\n",
      "      From worker 4:\t(5, -0.9589242746631385)\n",
      "      From worker 5:\t(6, -0.27941549819892586)\n",
      "      From worker 2:\t(1, 0.8414709848078965)\n",
      "      From worker 3:\t(3, 0.1411200080598672)\n",
      "      From worker 2:\t(2, 0.9092974268256817)\n",
      "      From worker 3:\t(4, -0.7568024953079282)\n"
     ]
    },
    {
     "data": {
      "text/html": [
       "<div class=\"data-frame\"><p>10 rows × 2 columns</p><table class=\"data-frame\"><thead><tr><th></th><th>worker</th><th>vals</th></tr><tr><th></th><th title=\"Int64\">Int64</th><th title=\"Float64\">Float64</th></tr></thead><tbody><tr><th>1</th><td>2</td><td>0.841471</td></tr><tr><th>2</th><td>2</td><td>0.909297</td></tr><tr><th>3</th><td>3</td><td>0.14112</td></tr><tr><th>4</th><td>3</td><td>-0.756802</td></tr><tr><th>5</th><td>4</td><td>-0.958924</td></tr><tr><th>6</th><td>5</td><td>-0.279415</td></tr><tr><th>7</th><td>6</td><td>0.656987</td></tr><tr><th>8</th><td>7</td><td>0.989358</td></tr><tr><th>9</th><td>8</td><td>0.412118</td></tr><tr><th>10</th><td>9</td><td>-0.544021</td></tr></tbody></table></div>"
      ],
      "text/latex": [
       "\\begin{tabular}{r|cc}\n",
       "\t& worker & vals\\\\\n",
       "\t\\hline\n",
       "\t& Int64 & Float64\\\\\n",
       "\t\\hline\n",
       "\t1 & 2 & 0.841471 \\\\\n",
       "\t2 & 2 & 0.909297 \\\\\n",
       "\t3 & 3 & 0.14112 \\\\\n",
       "\t4 & 3 & -0.756802 \\\\\n",
       "\t5 & 4 & -0.958924 \\\\\n",
       "\t6 & 5 & -0.279415 \\\\\n",
       "\t7 & 6 & 0.656987 \\\\\n",
       "\t8 & 7 & 0.989358 \\\\\n",
       "\t9 & 8 & 0.412118 \\\\\n",
       "\t10 & 9 & -0.544021 \\\\\n",
       "\\end{tabular}\n"
      ],
      "text/plain": [
       "\u001b[1m10×2 DataFrame\u001b[0m\n",
       "\u001b[1m Row \u001b[0m│\u001b[1m worker \u001b[0m\u001b[1m vals      \u001b[0m\n",
       "\u001b[1m     \u001b[0m│\u001b[90m Int64  \u001b[0m\u001b[90m Float64   \u001b[0m\n",
       "─────┼───────────────────\n",
       "   1 │      2   0.841471\n",
       "  ⋮  │   ⋮         ⋮\n",
       "\u001b[36m           9 rows omitted\u001b[0m"
      ]
     },
     "execution_count": 13,
     "metadata": {},
     "output_type": "execute_result"
    }
   ],
   "source": [
    "@everywhere using DataFrames\n",
    "res=@distributed (vcat) for i = 1:10\n",
    "    println((i,sin(i)))\n",
    "    DataFrame(worker=myid(), vals=sin(i))\n",
    "end\n",
    "res"
   ]
  },
  {
   "cell_type": "markdown",
   "metadata": {},
   "source": [
    "## Channel"
   ]
  },
  {
   "cell_type": "code",
   "execution_count": 14,
   "metadata": {},
   "outputs": [
    {
     "data": {
      "text/plain": [
       "producer (generic function with 1 method)"
      ]
     },
     "execution_count": 14,
     "metadata": {},
     "output_type": "execute_result"
    }
   ],
   "source": [
    "function producer(c::Channel)     \n",
    "    for n=1:10\n",
    "       put!(c, n*n)\n",
    "    end\n",
    "end"
   ]
  },
  {
   "cell_type": "code",
   "execution_count": 15,
   "metadata": {},
   "outputs": [
    {
     "data": {
      "text/plain": [
       "Channel{Any}(0) (1 item available)"
      ]
     },
     "execution_count": 15,
     "metadata": {},
     "output_type": "execute_result"
    }
   ],
   "source": [
    "task = Channel(producer)"
   ]
  },
  {
   "cell_type": "code",
   "execution_count": 16,
   "metadata": {},
   "outputs": [
    {
     "data": {
      "text/plain": [
       "1"
      ]
     },
     "execution_count": 16,
     "metadata": {},
     "output_type": "execute_result"
    }
   ],
   "source": [
    "take!(task)"
   ]
  },
  {
   "cell_type": "code",
   "execution_count": 17,
   "metadata": {},
   "outputs": [
    {
     "name": "stdout",
     "output_type": "stream",
     "text": [
      "      From worker 3:\treceived task: 25\n",
      "      From worker 2:\treceived task: 16\n",
      "      From worker 5:\treceived task: 49\n",
      "      From worker 7:\treceived task: 1\n",
      "      From worker 7:\treceived task: 81\n"
     ]
    }
   ],
   "source": [
    "for tsk in Channel(producer)\n",
    "    @spawn println(\"received task: \",tsk)\n",
    "end"
   ]
  },
  {
   "cell_type": "code",
   "execution_count": 18,
   "metadata": {},
   "outputs": [
    {
     "name": "stdout",
     "output_type": "stream",
     "text": [
      "      From worker 9:\treceived task: 9\n",
      "      From worker 6:\treceived task: 64\n",
      "      From worker 8:\treceived task: 4\n",
      "      From worker 8:\treceived task: 100\n",
      "      From worker 4:\treceived task: 36\n"
     ]
    },
    {
     "data": {
      "text/plain": [
       "385"
      ]
     },
     "execution_count": 18,
     "metadata": {},
     "output_type": "execute_result"
    }
   ],
   "source": [
    "[ @spawn tsk for tsk in Channel(producer)] .|> fetch |> sum"
   ]
  },
  {
   "cell_type": "markdown",
   "metadata": {},
   "source": [
    "## Multi-threading"
   ]
  },
  {
   "cell_type": "code",
   "execution_count": 19,
   "metadata": {},
   "outputs": [
    {
     "name": "stderr",
     "output_type": "stream",
     "text": [
      "WARNING: using Threads.@spawn in module Main conflicts with an existing identifier.\n"
     ]
    }
   ],
   "source": [
    "@everywhere using Base.Threads"
   ]
  },
  {
   "cell_type": "code",
   "execution_count": 20,
   "metadata": {},
   "outputs": [
    {
     "data": {
      "text/plain": [
       "4"
      ]
     },
     "execution_count": 20,
     "metadata": {},
     "output_type": "execute_result"
    }
   ],
   "source": [
    "nthreads()"
   ]
  },
  {
   "cell_type": "code",
   "execution_count": 21,
   "metadata": {},
   "outputs": [
    {
     "name": "stdout",
     "output_type": "stream",
     "text": [
      "threaid: 2\n",
      "threaid: 4\n",
      "threaid: 4\n",
      "threaid: 2\n",
      "threaid: 2\n",
      "threaid: 1\n",
      "threaid: 1\n",
      "threaid: 1\n",
      "threaid: 3\n",
      "threaid: 3\n"
     ]
    }
   ],
   "source": [
    "@threads for i = 1:10\n",
    "    id = threadid() \n",
    "    println(\"threaid: \",id)\n",
    "end"
   ]
  },
  {
   "cell_type": "code",
   "execution_count": 22,
   "metadata": {},
   "outputs": [
    {
     "name": "stdout",
     "output_type": "stream",
     "text": [
      "      From worker 4:\tthreaid: 2\n",
      "      From worker 7:\tthreaid: 2\n",
      "      From worker 8:\tthreaid: 2\n",
      "      From worker 6:\tthreaid: 2\n",
      "      From worker 5:\tthreaid: 2\n",
      "      From worker 8:\tthreaid: 1\n",
      "      From worker 6:\tthreaid: 3\n",
      "      From worker 5:\tthreaid: 3\n",
      "      From worker 7:\tthreaid: 4\n",
      "      From worker 5:\tthreaid: 4\n",
      "      From worker 4:\tthreaid: 3\n",
      "      From worker 8:\tthreaid: 4\n",
      "      From worker 6:\tthreaid: 4\n",
      "      From worker 7:\tthreaid: 3\n",
      "      From worker 4:\tthreaid: 4\n",
      "      From worker 8:\tthreaid: 3\n",
      "      From worker 2:\tthreaid: 2\n",
      "      From worker 6:\tthreaid: 1\n",
      "      From worker 7:\tthreaid: 1\n",
      "      From worker 4:\tthreaid: 1\n",
      "      From worker 5:\tthreaid: 1\n",
      "      From worker 3:\tthreaid: 1\n",
      "      From worker 2:\tthreaid: 3\n",
      "      From worker 3:\tthreaid: 4\n",
      "      From worker 2:\tthreaid: 4\n",
      "      From worker 3:\tthreaid: 2\n",
      "      From worker 2:\tthreaid: 1\n",
      "      From worker 3:\tthreaid: 3\n",
      "      From worker 3:\tthreaid: 1\n",
      "      From worker 3:\tthreaid: 3\n",
      "      From worker 3:\tthreaid: 4\n",
      "      From worker 3:\tthreaid: 2\n",
      "      From worker 9:\tthreaid: 2\n",
      "      From worker 9:\tthreaid: 3\n",
      "      From worker 9:\tthreaid: 4\n",
      "      From worker 9:\tthreaid: 1\n"
     ]
    },
    {
     "data": {
      "text/plain": [
       "Task (done) @0x0000000111dece80"
      ]
     },
     "execution_count": 22,
     "metadata": {},
     "output_type": "execute_result"
    }
   ],
   "source": [
    "@sync @distributed for i=1:nprocs()\n",
    "    @threads for j=1:nthreads()\n",
    "        id = Threads.threadid() \n",
    "        println(\"threaid: \",id)\n",
    "    end\n",
    "end"
   ]
  },
  {
   "cell_type": "markdown",
   "metadata": {},
   "source": [
    "## Monte-Carlo Simulation to estimate $\\pi$"
   ]
  },
  {
   "cell_type": "code",
   "execution_count": 23,
   "metadata": {},
   "outputs": [],
   "source": [
    "#==========================#\n",
    "# monte-carlo simulation\n",
    "# π r^2 / 4 r^2 = s/n \n",
    "#==========================#\n",
    "\n",
    "\n",
    "@everywhere function isInside() \n",
    "    x = rand()\n",
    "    y = rand()\n",
    "    x^2 + y^2 < 1 ? 1 : 0\n",
    "end;\n",
    "\n",
    "@everywhere function ppi(n)\n",
    "    s=@distributed (+) for i = 1:n\n",
    "        isInside()\n",
    "    end\n",
    "    4s/n\n",
    "end;\n",
    "\n",
    "function pi(n)\n",
    "    s=0.0\n",
    "    for i = 1:n\n",
    "        s+=isInside()\n",
    "    end\n",
    "    4s/n\n",
    "end;\n"
   ]
  },
  {
   "cell_type": "code",
   "execution_count": 24,
   "metadata": {},
   "outputs": [
    {
     "name": "stdout",
     "output_type": "stream",
     "text": [
      "  2.148993 seconds (72.60 k allocations: 3.829 MiB, 1.97% compilation time)\n"
     ]
    },
    {
     "data": {
      "text/plain": [
       "3.141583216"
      ]
     },
     "execution_count": 24,
     "metadata": {},
     "output_type": "execute_result"
    }
   ],
   "source": [
    "@time ppi(10^9)"
   ]
  },
  {
   "cell_type": "code",
   "execution_count": 25,
   "metadata": {},
   "outputs": [
    {
     "name": "stdout",
     "output_type": "stream",
     "text": [
      "  8.299566 seconds\n"
     ]
    },
    {
     "data": {
      "text/plain": [
       "3.14163316"
      ]
     },
     "execution_count": 25,
     "metadata": {},
     "output_type": "execute_result"
    }
   ],
   "source": [
    "@time pi(10^9)"
   ]
  },
  {
   "cell_type": "markdown",
   "metadata": {},
   "source": [
    "## Cross-validation in parallel"
   ]
  },
  {
   "cell_type": "code",
   "execution_count": 26,
   "metadata": {},
   "outputs": [],
   "source": [
    "@everywhere using RDatasets\n",
    "@everywhere using Statistics\n",
    "@everywhere using DecisionTree\n",
    "@everywhere using Random\n",
    "\n",
    "@everywhere function partitionTrainTest(data, at = 0.7)\n",
    "    n = nrow(data)\n",
    "    idx = shuffle(1:n)\n",
    "    train_idx = view(idx, 1:floor(Int, at*n))\n",
    "    test_idx = view(idx, (floor(Int, at*n)+1):n)\n",
    "    return (data[train_idx,:], data[test_idx,:])\n",
    "end\n",
    "\n",
    "\n",
    "@everywhere function irisAcc() \n",
    "    iris = dataset(\"datasets\", \"iris\")\n",
    "    train,test = partitionTrainTest(iris, 0.7) # 70% train\n",
    "    xtrain = train[:, 1:4] |>Matrix;\n",
    "    ytrain = train[:, 5] |> Vector{String}\n",
    "    xtest = test[:, 1:4] |>Matrix;\n",
    "    ytest = test[:, 5] |> Vector{String}\n",
    "    model = build_forest(ytrain, xtrain, 2, 4, 0.5, 6);\n",
    "    pred = apply_forest(model,xtest);\n",
    "    sum(ytest .== pred) / length(pred)\n",
    "end"
   ]
  },
  {
   "cell_type": "code",
   "execution_count": 27,
   "metadata": {},
   "outputs": [
    {
     "data": {
      "text/plain": [
       "0.9333333333333333"
      ]
     },
     "execution_count": 27,
     "metadata": {},
     "output_type": "execute_result"
    }
   ],
   "source": [
    "irisAcc()"
   ]
  },
  {
   "cell_type": "code",
   "execution_count": 30,
   "metadata": {},
   "outputs": [
    {
     "name": "stdout",
     "output_type": "stream",
     "text": [
      "  4.865286 seconds (10.81 M allocations: 1.585 GiB, 4.31% gc time)\n"
     ]
    },
    {
     "data": {
      "text/plain": [
       "94.63488888889106"
      ]
     },
     "execution_count": 30,
     "metadata": {},
     "output_type": "execute_result"
    }
   ],
   "source": [
    "function mserial(n)\n",
    "    sm=0.0\n",
    "    for i=1:n\n",
    "         sm += irisAcc()\n",
    "    end\n",
    "    return sm/n*100.0\n",
    "end\n",
    "@time mserial(10000)"
   ]
  },
  {
   "cell_type": "code",
   "execution_count": 31,
   "metadata": {},
   "outputs": [
    {
     "name": "stdout",
     "output_type": "stream",
     "text": [
      "  1.711370 seconds (27.06 k allocations: 1.411 MiB, 0.49% gc time, 2.22% compilation time)\n"
     ]
    },
    {
     "data": {
      "text/plain": [
       "94.61222222222166"
      ]
     },
     "execution_count": 31,
     "metadata": {},
     "output_type": "execute_result"
    }
   ],
   "source": [
    "function mparallel(n)\n",
    "    s=@distributed (+) for i=1:n\n",
    "        irisAcc()\n",
    "    end\n",
    "    return s/n*100.0\n",
    "end\n",
    "@time  mparallel(10000)"
   ]
  },
  {
   "cell_type": "code",
   "execution_count": null,
   "metadata": {},
   "outputs": [],
   "source": []
  }
 ],
 "metadata": {
  "@webio": {
   "lastCommId": null,
   "lastKernelId": null
  },
  "kernelspec": {
   "display_name": "Julia 1.7.2",
   "language": "julia",
   "name": "julia-1.7"
  },
  "language_info": {
   "file_extension": ".jl",
   "mimetype": "application/julia",
   "name": "julia",
   "version": "1.7.2"
  }
 },
 "nbformat": 4,
 "nbformat_minor": 2
}
