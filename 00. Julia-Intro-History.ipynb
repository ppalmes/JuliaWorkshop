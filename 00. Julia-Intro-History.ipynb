{
 "cells": [
  {
   "cell_type": "markdown",
   "metadata": {},
   "source": [
    "# Outline\n",
    "- ## Introduction to Julia\n",
    "- ## HPC in Julia\n",
    "- ## Julia in Data Science (with R and Python and Lale)\n",
    "- ## Use-case: Covid Data Explorations, ML Pipeline Optimization"
   ]
  },
  {
   "cell_type": "markdown",
   "metadata": {},
   "source": [
    "# What were the languages designed for?\n",
    "- ### Fortran: for HPC and technical computing (IBM, 1950s, 71 years ago)\n",
    "- ### LISP: for symbolic programming (MIT, 1958)\n",
    "- ### C: to write Unix OS (Bell labs,1970s, 50 years ago)\n",
    "- ### IDL: for data analysis (Univ. of Colorado, 1970s)\n",
    "- ### S or R: for statistical analysis (Bell labs, 1976, 45 years ago)\n",
    "- ### Matlab: for numerical computing (University of New Mexico, 1984)\n",
    "- ### C++: for system programming, embedded, large systems (Bell labs, 1978/1985)\n",
    "- ### PERL: for generating reports (Unisys, 1987)\n",
    "- ### Ruby: general purpose, object-oriented scripting language (University of Tsukuba, 1990, 30 years ago)\n",
    "- ### Java: cross-platform, hand-held devices, interactive television (Sun Microsystems, 1991, 30 years ago)\n",
    "- ### Python: general-purpose programming (Centrum Wiskunde & Informatica, 1991, 30 years ago)\n",
    "- ### Lua: for embedded systems, extend applications, customisation (Pontifical Catholic University, 1993)\n",
    "- ### Scala: as a better Java (EPFL, 2004)\n",
    "- ### Rust: designed for performance and safety, especially safe concurrency (Mozilla, 2012, 9 years ago)\n",
    "- ### Julia: optimised for HPC, scientific computing, general purpose programming (MIT, 2012, 9 years ago)¶"
   ]
  },
  {
   "cell_type": "markdown",
   "metadata": {},
   "source": [
    "# Programming\n",
    "\n",
    "- ### INPUT => PROCESS => OUTPUT\n",
    "\n",
    "- ### translating high-level language (for humans) into low-level language (for Machines)"
   ]
  },
  {
   "cell_type": "markdown",
   "metadata": {},
   "source": [
    "# Programming Language Types\n",
    "- ### Interpreter (R, Python, Perl) - highly interactive, real time translation\n",
    "     - #### REPL: Read, Eval, Print, Loop (line-by-line)\n",
    "- ### Compiler (Fotran, C, C++, Rust) - batch/offline translation\n",
    "- ### Bytecode Interpreter (Java, Scala) - batch/offline translation\n",
    "- ### Just-in-time Compiler (Julia, Lua) - highly interactive, just-in-time batch translation\n",
    "    - #### REPL: Read, Eval, Print, Loop (batch and cached)"
   ]
  },
  {
   "cell_type": "markdown",
   "metadata": {},
   "source": [
    "# Easy enough function to understand: $ sum(x) = \\sum_{i=1}^{n} x_{i} $"
   ]
  },
  {
   "cell_type": "code",
   "execution_count": null,
   "metadata": {},
   "outputs": [],
   "source": [
    "x = rand(10^8)"
   ]
  },
  {
   "cell_type": "code",
   "execution_count": null,
   "metadata": {},
   "outputs": [],
   "source": [
    "function jsum(v)\n",
    "    s = 0\n",
    "    for i in v\n",
    "        s = s + i\n",
    "    end\n",
    "    return s\n",
    "end"
   ]
  },
  {
   "cell_type": "code",
   "execution_count": null,
   "metadata": {},
   "outputs": [],
   "source": [
    "@time jsum(x)"
   ]
  },
  {
   "cell_type": "code",
   "execution_count": null,
   "metadata": {},
   "outputs": [],
   "source": [
    "using Libdl\n",
    "C_code = \"\"\"\n",
    "#include <stddef.h>\n",
    "double c_sum(size_t n, double *X) {\n",
    "    double s = 0.0;\n",
    "    for (size_t i = 0; i < n; ++i) {\n",
    "        s += X[i];\n",
    "    }\n",
    "    return s;\n",
    "}\n",
    "\"\"\"\n",
    "const Clib = tempname()   # make a temporary file\n",
    "open(`gcc -fPIC -O3 -msse3 -xc -shared -o $(Clib * \".\" * Libdl.dlext) -`, \"w\") do f\n",
    "    print(f, C_code) \n",
    "end\n",
    "c_sum(X::Array{Float64}) = ccall((\"c_sum\", Clib), Float64, (Csize_t, Ptr{Float64}), length(X), X)"
   ]
  },
  {
   "cell_type": "code",
   "execution_count": null,
   "metadata": {},
   "outputs": [],
   "source": [
    "@time c_sum(x)"
   ]
  },
  {
   "cell_type": "code",
   "execution_count": null,
   "metadata": {},
   "outputs": [],
   "source": [
    "using RCall\n",
    "R\"\"\"\n",
    "rsum <- function(v) {\n",
    "  s = 0\n",
    "  for(i in v){\n",
    "    s = s + i\n",
    "  }\n",
    "  return(s)\n",
    "}\n",
    "\"\"\";"
   ]
  },
  {
   "cell_type": "code",
   "execution_count": null,
   "metadata": {},
   "outputs": [],
   "source": [
    "@time R\"rsum($x)\" |> rcopy"
   ]
  },
  {
   "cell_type": "code",
   "execution_count": null,
   "metadata": {},
   "outputs": [],
   "source": [
    "using PyCall\n",
    "py\"\"\"\n",
    "def psum(v):\n",
    "   s=0\n",
    "   for i in v:\n",
    "     s = s + i\n",
    "   return s\n",
    "\"\"\""
   ]
  },
  {
   "cell_type": "code",
   "execution_count": null,
   "metadata": {},
   "outputs": [],
   "source": [
    "@time py\"psum\"(x)"
   ]
  },
  {
   "cell_type": "code",
   "execution_count": null,
   "metadata": {},
   "outputs": [],
   "source": [
    "@code_native jsum(x)"
   ]
  },
  {
   "cell_type": "markdown",
   "metadata": {},
   "source": [
    "## Brief History of Julia\n",
    "- ### 2009: initial work started by Jeff Bezanson, Stefan Karpinski, Viral B. Shah, and Prof. Alan Edelman\n",
    "- ### 2012: Julia public announcement\n",
    "- ### 2014-2017: versions 0.3-0.7 (yearly release of major features towards 1.0)\n",
    "- ### 2015: **Julia Computing** was founded by Julia creators for production support\n",
    "- ### 2017: **IBM PowerPC port of Julia sponsored by IBM**\n",
    "- ### 2018: 1.0 Stable (LTS version) \n",
    "- ### 2020: latest version is Julia 1.6.2, with Julia 1.0.5 as LTS\n",
    "- ### 2020: 13M downloads, used by 1500+ Universities\n",
    "- ### 2021: 29M+ downloads, 203k+ github stars, 5.9k packages\n",
    "     - ### runs in Windows, MacOS, Linux, FreeBSD OS\n",
    "     - ### runs in X86, ARM, PowerPC hardwares\n"
   ]
  },
  {
   "cell_type": "markdown",
   "metadata": {},
   "source": [
    "# Benchmarks\n",
    "- ### https://julialang.org/benchmarks/"
   ]
  },
  {
   "cell_type": "markdown",
   "metadata": {},
   "source": [
    "# Links\n",
    "- ### **Julia Language**: https://julialang.org/\n",
    "- ### **Julia Download**: https://julialang.org/downloads/\n",
    "- ### **Julia Computing**: https://juliacomputing.com/\n",
    "- ### **Julia in Industry**: https://juliacomputing.com/case-studies/\n",
    "- ### **Julia Community Help Channel**: https://discourse.julialang.org/\n",
    "- ### **Julia Youtube Channel**: https://www.youtube.com/user/julialanguage"
   ]
  },
  {
   "cell_type": "markdown",
   "metadata": {},
   "source": [
    "# Julia Conference 2022\n",
    "- ### **Julia Conference 2022**: https://juliacon.org/2022/\n",
    "    - free registration\n"
   ]
  },
  {
   "cell_type": "markdown",
   "metadata": {},
   "source": [
    "# My Github Repo\n",
    "- ### Main Link: https://github.com/ppalmes\n",
    "- ### Online Workshop: https://github.com/ppalmes/JuliaWorkshop"
   ]
  },
  {
   "cell_type": "code",
   "execution_count": null,
   "metadata": {},
   "outputs": [],
   "source": []
  }
 ],
 "metadata": {
  "@webio": {
   "lastCommId": null,
   "lastKernelId": null
  },
  "kernelspec": {
   "display_name": "Julia 1.7.2",
   "language": "julia",
   "name": "julia-1.7"
  },
  "language_info": {
   "file_extension": ".jl",
   "mimetype": "application/julia",
   "name": "julia",
   "version": "1.7.2"
  }
 },
 "nbformat": 4,
 "nbformat_minor": 2
}
