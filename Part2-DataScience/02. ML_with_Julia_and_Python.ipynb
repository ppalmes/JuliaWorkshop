{
 "cells": [
  {
   "cell_type": "markdown",
   "metadata": {},
   "source": [
    "## Julia Interfacing with R and Python"
   ]
  },
  {
   "cell_type": "code",
   "execution_count": null,
   "metadata": {},
   "outputs": [],
   "source": [
    "using PyCall\n",
    "using DecisionTree\n",
    "using DataFrames\n",
    "using Statistics\n",
    "ENV[\"COLUMNS\"]=1000; # for dataframe column size"
   ]
  },
  {
   "cell_type": "markdown",
   "metadata": {},
   "source": [
    "### py\"\" String Macro"
   ]
  },
  {
   "cell_type": "markdown",
   "metadata": {},
   "source": [
    "- py\"\" executes Python commands with implicit conversion of python objects into Julia data type."
   ]
  },
  {
   "cell_type": "code",
   "execution_count": null,
   "metadata": {},
   "outputs": [],
   "source": [
    "py\"1+1\" # returns julia numeric value by implicit conversion"
   ]
  },
  {
   "cell_type": "markdown",
   "metadata": {},
   "source": [
    "### Defining a function in Python"
   ]
  },
  {
   "cell_type": "code",
   "execution_count": null,
   "metadata": {},
   "outputs": [],
   "source": [
    "py\"\"\"\n",
    "\n",
    "import numpy as np\n",
    "\n",
    "def mysin(x):\n",
    "   return np.sin(x)\n",
    "\"\"\""
   ]
  },
  {
   "cell_type": "code",
   "execution_count": null,
   "metadata": {},
   "outputs": [],
   "source": [
    "py\"mysin(10)\" # calling python function"
   ]
  },
  {
   "cell_type": "code",
   "execution_count": null,
   "metadata": {},
   "outputs": [],
   "source": [
    "py\"np.sin(10)\"  # calling directly numpy sin function"
   ]
  },
  {
   "cell_type": "code",
   "execution_count": null,
   "metadata": {},
   "outputs": [],
   "source": [
    "pyimport(\"numpy\").sin(10) # import numpy and call sin directly"
   ]
  },
  {
   "cell_type": "markdown",
   "metadata": {},
   "source": [
    "### Plotting with Python"
   ]
  },
  {
   "cell_type": "code",
   "execution_count": null,
   "metadata": {},
   "outputs": [],
   "source": [
    "using PyPlot\n",
    "x = range(0; stop=2*pi, length=1000); y = sin.(3 * x + 4 * cos.(2 * x));\n",
    "plot(x, y, color=\"red\", linewidth=2.0, linestyle=\"--\")\n",
    "title(\"A sinusoidally modulated sinusoid\")"
   ]
  },
  {
   "cell_type": "markdown",
   "metadata": {},
   "source": [
    "###   Scikitlearn classifiers using Julia bindings of Python (PyCall.jl)"
   ]
  },
  {
   "cell_type": "markdown",
   "metadata": {},
   "source": [
    "Let's load the `car` dataset for this example."
   ]
  },
  {
   "cell_type": "code",
   "execution_count": null,
   "metadata": {},
   "outputs": [],
   "source": [
    "using VegaDatasets\n",
    "cars=dataset(\"cars\") |> DataFrame;\n",
    "first(cars,5)"
   ]
  },
  {
   "cell_type": "code",
   "execution_count": null,
   "metadata": {},
   "outputs": [],
   "source": [
    "cars = cars[completecases(cars),:]; # remove rows with missing values"
   ]
  },
  {
   "cell_type": "code",
   "execution_count": null,
   "metadata": {},
   "outputs": [],
   "source": [
    "ENS = pyimport(\"sklearn.ensemble\")\n",
    "learner=ENS.RandomForestClassifier()\n",
    "\n",
    "x=cars[:,[2,4,5,6,7]] |> Array\n",
    "y=cars[:,:Cylinders] .|> string\n",
    "\n",
    "model=learner.fit(x, y)\n",
    "yhat = model.predict(x)\n",
    "accuracy = sum(yhat .== y) / length(y)\n",
    "println(\"accuracy: $accuracy\")"
   ]
  },
  {
   "cell_type": "code",
   "execution_count": null,
   "metadata": {},
   "outputs": [],
   "source": [
    "using ScikitLearn.CrossValidation: cross_val_score\n",
    "\n",
    "KNN = pyimport(\"sklearn.neighbors\")\n",
    "modelKNN = KNN.KNeighborsClassifier(3)\n",
    "\n",
    "cross_val_score(modelKNN, x, y; cv=10)  # 5-fold"
   ]
  },
  {
   "cell_type": "code",
   "execution_count": null,
   "metadata": {},
   "outputs": [],
   "source": [
    "using PyCall\n",
    "const EN=pyimport(\"sklearn.ensemble\")\n",
    "const LM=pyimport(\"sklearn.linear_model\")\n",
    "const DA=pyimport(\"sklearn.discriminant_analysis\")\n",
    "const NN=pyimport(\"sklearn.neighbors\")\n",
    "const SVM=pyimport(\"sklearn.svm\")\n",
    "const TREE=pyimport(\"sklearn.tree\")\n",
    "const ANN=pyimport(\"sklearn.neural_network\")\n",
    "const GP=pyimport(\"sklearn.gaussian_process\")\n",
    "const KR=pyimport(\"sklearn.kernel_ridge\")\n",
    "const NB=pyimport(\"sklearn.naive_bayes\")\n",
    "const ISO=pyimport(\"sklearn.isotonic\")"
   ]
  },
  {
   "cell_type": "code",
   "execution_count": null,
   "metadata": {},
   "outputs": [],
   "source": [
    "learners = Dict(\n",
    "  \"AdaBoostClassifier\" => ENS.AdaBoostClassifier,\n",
    "  \"BaggingClassifier\" => ENS.BaggingClassifier,\n",
    "  \"ExtraTreesClassifier\" => ENS.ExtraTreesClassifier,\n",
    "  \"VotingClassifier\" => ENS.VotingClassifier,\n",
    "  \"GradientBoostingClassifier\" => ENS.GradientBoostingClassifier,\n",
    "  \"RandomForestClassifier\" => ENS.RandomForestClassifier,\n",
    "  \"LDA\" => DA.LinearDiscriminantAnalysis,\n",
    "  \"QDA\" => DA.QuadraticDiscriminantAnalysis,\n",
    "  \"LogisticRegression\" => LM.LogisticRegression,\n",
    "  \"PassiveAggressiveClassifier\" => LM.PassiveAggressiveClassifier,\n",
    "  \"RidgeClassifier\" => LM.RidgeClassifier,\n",
    "  \"RidgeClassifierCV\" => LM.RidgeClassifierCV,\n",
    "  \"SGDClassifier\" => LM.SGDClassifier,\n",
    "  \"KNeighborsClassifier\" => NN.KNeighborsClassifier,\n",
    "  \"RadiusNeighborsClassifier\" => NN.RadiusNeighborsClassifier,\n",
    "  \"NearestCentroid\" => NN.NearestCentroid,\n",
    "  \"SVC\" => SVM.SVC,\n",
    "  \"LinearSVC\" => SVM.LinearSVC,\n",
    "  \"NuSVC\" => SVM.NuSVC,\n",
    "  \"MLPClassifier\" => ANN.MLPClassifier,\n",
    "  \"GaussianProcessClassifier\" => GP.GaussianProcessClassifier,\n",
    "  \"DecisionTreeClassifier\" => TREE.DecisionTreeClassifier,\n",
    "  \"GaussianNB\" => NB.GaussianNB,\n",
    "  \"MultinomialNB\" => NB.MultinomialNB,\n",
    "  \"ComplementNB\" => NB.ComplementNB,\n",
    "  \"BernoulliNB\" => NB.BernoulliNB\n",
    ");"
   ]
  },
  {
   "cell_type": "code",
   "execution_count": null,
   "metadata": {},
   "outputs": [],
   "source": [
    "function sktrain(learner,x,y)\n",
    "    model = learner()\n",
    "    xx = x |> Matrix\n",
    "    yy = y |> Array\n",
    "    model.fit(xx,yy)\n",
    "    return model\n",
    "end"
   ]
  },
  {
   "cell_type": "code",
   "execution_count": null,
   "metadata": {},
   "outputs": [],
   "source": [
    "function skpredict(themodel,x)\n",
    "    xx = x |> Matrix\n",
    "    return themodel.predict(xx) |> collect\n",
    "end"
   ]
  },
  {
   "cell_type": "code",
   "execution_count": null,
   "metadata": {},
   "outputs": [],
   "source": [
    "using Random\n",
    "rng = MersenneTwister(1234);\n",
    "ndx = shuffle(rng, Vector(1:nrow(cars)));"
   ]
  },
  {
   "cell_type": "code",
   "execution_count": null,
   "metadata": {},
   "outputs": [],
   "source": [
    "xtrain=cars[ndx[1:100],[2,4,5,6,7]] |> Matrix\n",
    "ytrain=cars[ndx[1:100],:Cylinders] .|> string;\n",
    "xtest=cars[ndx[101:end],[2,4,5,6,7]] |> Matrix\n",
    "ytest=cars[ndx[101:end],:Cylinders] .|> string;"
   ]
  },
  {
   "cell_type": "markdown",
   "metadata": {},
   "source": [
    "### Try ExtraTrees Classifier"
   ]
  },
  {
   "cell_type": "code",
   "execution_count": null,
   "metadata": {},
   "outputs": [],
   "source": [
    "modelLR = sktrain(learners[\"ExtraTreesClassifier\"],xtrain,ytrain)\n",
    "yhat = skpredict(modelLR,xtest);\n",
    "acc=sum(yhat .== ytest) / length(yhat)"
   ]
  },
  {
   "cell_type": "markdown",
   "metadata": {},
   "source": [
    "### Try AdaBoost Classifier"
   ]
  },
  {
   "cell_type": "code",
   "execution_count": null,
   "metadata": {},
   "outputs": [],
   "source": [
    "modelADA = sktrain(learners[\"AdaBoostClassifier\"],x,y)\n",
    "res = skpredict(modelADA,x);\n",
    "acc=sum(res .== y) / length(y)"
   ]
  },
  {
   "cell_type": "markdown",
   "metadata": {},
   "source": [
    "### Try RandomForest Classifier"
   ]
  },
  {
   "cell_type": "code",
   "execution_count": null,
   "metadata": {},
   "outputs": [],
   "source": [
    "modelRF = sktrain(learners[\"RandomForestClassifier\"],x,y)\n",
    "res = skpredict(modelRF,x);\n",
    "acc=sum(res .== y) / length(y)"
   ]
  },
  {
   "cell_type": "code",
   "execution_count": null,
   "metadata": {},
   "outputs": [],
   "source": [
    "cross_val_score(modelLR, x, y; cv=10) |> mean  # 5-fold"
   ]
  }
 ],
 "metadata": {
  "@webio": {
   "lastCommId": null,
   "lastKernelId": null
  },
  "kernelspec": {
   "display_name": "Julia 1.7.2",
   "language": "julia",
   "name": "julia-1.7"
  },
  "language_info": {
   "file_extension": ".jl",
   "mimetype": "application/julia",
   "name": "julia",
   "version": "1.7.2"
  }
 },
 "nbformat": 4,
 "nbformat_minor": 2
}
