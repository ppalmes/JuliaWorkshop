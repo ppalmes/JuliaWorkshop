{
 "cells": [
  {
   "cell_type": "markdown",
   "metadata": {},
   "source": [
    "## Julia Interfacing with R and Python"
   ]
  },
  {
   "cell_type": "code",
   "execution_count": 1,
   "metadata": {},
   "outputs": [],
   "source": [
    "using PyCall\n",
    "using RCall\n",
    "using DecisionTree\n",
    "using DataFrames\n",
    "using ScikitLearn\n",
    "using VegaDatasets\n",
    "ENV[\"COLUMNS\"]=1000; # for dataframe column size\n",
    "ENV[\"LINES\"]=10;\n",
    "warning = pyimport(\"warnings\")\n",
    "warning.filterwarnings(\"ignore\")"
   ]
  },
  {
   "cell_type": "markdown",
   "metadata": {},
   "source": [
    "### R\"\" vs py\"\" String Macro"
   ]
  },
  {
   "cell_type": "markdown",
   "metadata": {},
   "source": [
    "- R\"\" executes R commands inside the string and returns an R object \n",
    "- py\"\" executes Python commands with implicit conversion of python objects into Julia data type."
   ]
  },
  {
   "cell_type": "code",
   "execution_count": 2,
   "metadata": {},
   "outputs": [
    {
     "data": {
      "text/plain": [
       "2"
      ]
     },
     "execution_count": 2,
     "metadata": {},
     "output_type": "execute_result"
    }
   ],
   "source": [
    "py\"1+1\" # returns julia numeric value by implicit conversion"
   ]
  },
  {
   "cell_type": "code",
   "execution_count": 3,
   "metadata": {},
   "outputs": [
    {
     "data": {
      "text/plain": [
       "RObject{RealSxp}\n",
       "[1] 2\n"
      ]
     },
     "execution_count": 3,
     "metadata": {},
     "output_type": "execute_result"
    }
   ],
   "source": [
    "R\"result=1+1\" # returns an RObject"
   ]
  },
  {
   "cell_type": "code",
   "execution_count": 4,
   "metadata": {},
   "outputs": [
    {
     "data": {
      "text/plain": [
       "2.0"
      ]
     },
     "execution_count": 4,
     "metadata": {},
     "output_type": "execute_result"
    }
   ],
   "source": [
    "@rget result # use @rget macro to copy value from R to Julia"
   ]
  },
  {
   "cell_type": "code",
   "execution_count": 5,
   "metadata": {},
   "outputs": [
    {
     "data": {
      "text/plain": [
       "2.0"
      ]
     },
     "execution_count": 5,
     "metadata": {},
     "output_type": "execute_result"
    }
   ],
   "source": [
    "R\"1+1\" |> rcopy # or use rcopy to directoy convert R object into Julia data type "
   ]
  },
  {
   "cell_type": "markdown",
   "metadata": {},
   "source": [
    "### Defining a function in Python"
   ]
  },
  {
   "cell_type": "code",
   "execution_count": 6,
   "metadata": {},
   "outputs": [],
   "source": [
    "py\"\"\"\n",
    "\n",
    "import numpy as np\n",
    "\n",
    "def mysin(x):\n",
    "   return np.sin(x)\n",
    "\"\"\""
   ]
  },
  {
   "cell_type": "code",
   "execution_count": 7,
   "metadata": {},
   "outputs": [
    {
     "data": {
      "text/plain": [
       "-0.5440211108893699"
      ]
     },
     "execution_count": 7,
     "metadata": {},
     "output_type": "execute_result"
    }
   ],
   "source": [
    "py\"mysin(10)\" # calling python function"
   ]
  },
  {
   "cell_type": "code",
   "execution_count": 8,
   "metadata": {},
   "outputs": [
    {
     "data": {
      "text/plain": [
       "-0.5440211108893699"
      ]
     },
     "execution_count": 8,
     "metadata": {},
     "output_type": "execute_result"
    }
   ],
   "source": [
    "py\"np.sin(10)\"  # calling directly numpy sin function"
   ]
  },
  {
   "cell_type": "code",
   "execution_count": 9,
   "metadata": {},
   "outputs": [
    {
     "data": {
      "text/plain": [
       "-0.5440211108893699"
      ]
     },
     "execution_count": 9,
     "metadata": {},
     "output_type": "execute_result"
    }
   ],
   "source": [
    "pyimport(\"numpy\").sin(10) # import numpy and call sin directly"
   ]
  },
  {
   "cell_type": "markdown",
   "metadata": {},
   "source": [
    "### Defining a function in R"
   ]
  },
  {
   "cell_type": "code",
   "execution_count": 10,
   "metadata": {},
   "outputs": [],
   "source": [
    "R\"\"\"\n",
    "mysin <- function(x) {\n",
    "   sin(x)\n",
    "}\n",
    "\"\"\";"
   ]
  },
  {
   "cell_type": "code",
   "execution_count": 11,
   "metadata": {},
   "outputs": [
    {
     "data": {
      "text/plain": [
       "-0.5440211108893699"
      ]
     },
     "execution_count": 11,
     "metadata": {},
     "output_type": "execute_result"
    }
   ],
   "source": [
    "R\"mysin(10)\" |> rcopy   # R\"\" returns an object which rcopy converts to Julia data"
   ]
  },
  {
   "cell_type": "markdown",
   "metadata": {},
   "source": [
    "## Copying from-to R/Julia"
   ]
  },
  {
   "cell_type": "code",
   "execution_count": 12,
   "metadata": {},
   "outputs": [
    {
     "data": {
      "text/html": [
       "<div class=\"data-frame\"><p>5 rows × 5 columns</p><table class=\"data-frame\"><thead><tr><th></th><th>Sepal_Length</th><th>Sepal_Width</th><th>Petal_Length</th><th>Petal_Width</th><th>Species</th></tr><tr><th></th><th title=\"Float64\">Float64</th><th title=\"Float64\">Float64</th><th title=\"Float64\">Float64</th><th title=\"Float64\">Float64</th><th title=\"CategoricalArrays.CategoricalValue{String, UInt32}\">Cat…</th></tr></thead><tbody><tr><th>1</th><td>5.1</td><td>3.5</td><td>1.4</td><td>0.2</td><td>setosa</td></tr><tr><th>2</th><td>4.9</td><td>3.0</td><td>1.4</td><td>0.2</td><td>setosa</td></tr><tr><th>3</th><td>4.7</td><td>3.2</td><td>1.3</td><td>0.2</td><td>setosa</td></tr><tr><th>4</th><td>4.6</td><td>3.1</td><td>1.5</td><td>0.2</td><td>setosa</td></tr><tr><th>5</th><td>5.0</td><td>3.6</td><td>1.4</td><td>0.2</td><td>setosa</td></tr></tbody></table></div>"
      ],
      "text/latex": [
       "\\begin{tabular}{r|ccccc}\n",
       "\t& Sepal\\_Length & Sepal\\_Width & Petal\\_Length & Petal\\_Width & Species\\\\\n",
       "\t\\hline\n",
       "\t& Float64 & Float64 & Float64 & Float64 & Cat…\\\\\n",
       "\t\\hline\n",
       "\t1 & 5.1 & 3.5 & 1.4 & 0.2 & setosa \\\\\n",
       "\t2 & 4.9 & 3.0 & 1.4 & 0.2 & setosa \\\\\n",
       "\t3 & 4.7 & 3.2 & 1.3 & 0.2 & setosa \\\\\n",
       "\t4 & 4.6 & 3.1 & 1.5 & 0.2 & setosa \\\\\n",
       "\t5 & 5.0 & 3.6 & 1.4 & 0.2 & setosa \\\\\n",
       "\\end{tabular}\n"
      ],
      "text/plain": [
       "\u001b[1m5×5 DataFrame\u001b[0m\n",
       "\u001b[1m Row \u001b[0m│\u001b[1m Sepal_Length \u001b[0m\u001b[1m Sepal_Width \u001b[0m\u001b[1m Petal_Length \u001b[0m\u001b[1m Petal_Width \u001b[0m\u001b[1m Species \u001b[0m\n",
       "\u001b[1m     \u001b[0m│\u001b[90m Float64      \u001b[0m\u001b[90m Float64     \u001b[0m\u001b[90m Float64      \u001b[0m\u001b[90m Float64     \u001b[0m\u001b[90m Cat…    \u001b[0m\n",
       "─────┼───────────────────────────────────────────────────────────────\n",
       "   1 │          5.1          3.5           1.4          0.2  setosa\n",
       "  ⋮  │      ⋮             ⋮            ⋮             ⋮          ⋮\n",
       "\u001b[36m                                                       4 rows omitted\u001b[0m"
      ]
     },
     "execution_count": 12,
     "metadata": {},
     "output_type": "execute_result"
    }
   ],
   "source": [
    "iris = R\"iris\" |> rcopy # copy iris dataset from R to Julia\n",
    "iris |> (x->first(x,5))"
   ]
  },
  {
   "cell_type": "code",
   "execution_count": 13,
   "metadata": {},
   "outputs": [
    {
     "data": {
      "text/html": [
       "<div class=\"data-frame\"><p>5 rows × 2 columns</p><table class=\"data-frame\"><thead><tr><th></th><th>a</th><th>b</th></tr><tr><th></th><th title=\"Float64\">Float64</th><th title=\"Float64\">Float64</th></tr></thead><tbody><tr><th>1</th><td>0.909073</td><td>0.737494</td></tr><tr><th>2</th><td>0.508891</td><td>0.866433</td></tr><tr><th>3</th><td>0.737602</td><td>0.223443</td></tr><tr><th>4</th><td>0.0727541</td><td>0.628861</td></tr><tr><th>5</th><td>0.849127</td><td>0.426997</td></tr></tbody></table></div>"
      ],
      "text/latex": [
       "\\begin{tabular}{r|cc}\n",
       "\t& a & b\\\\\n",
       "\t\\hline\n",
       "\t& Float64 & Float64\\\\\n",
       "\t\\hline\n",
       "\t1 & 0.909073 & 0.737494 \\\\\n",
       "\t2 & 0.508891 & 0.866433 \\\\\n",
       "\t3 & 0.737602 & 0.223443 \\\\\n",
       "\t4 & 0.0727541 & 0.628861 \\\\\n",
       "\t5 & 0.849127 & 0.426997 \\\\\n",
       "\\end{tabular}\n"
      ],
      "text/plain": [
       "\u001b[1m5×2 DataFrame\u001b[0m\n",
       "\u001b[1m Row \u001b[0m│\u001b[1m a         \u001b[0m\u001b[1m b        \u001b[0m\n",
       "\u001b[1m     \u001b[0m│\u001b[90m Float64   \u001b[0m\u001b[90m Float64  \u001b[0m\n",
       "─────┼─────────────────────\n",
       "   1 │ 0.909073   0.737494\n",
       "  ⋮  │     ⋮         ⋮\n",
       "\u001b[36m             4 rows omitted\u001b[0m"
      ]
     },
     "execution_count": 13,
     "metadata": {},
     "output_type": "execute_result"
    }
   ],
   "source": [
    "df = DataFrame(a=rand(5),b=rand(5)) # create dataframe"
   ]
  },
  {
   "cell_type": "code",
   "execution_count": 14,
   "metadata": {},
   "outputs": [
    {
     "data": {
      "text/html": [
       "<div class=\"data-frame\"><p>5 rows × 2 columns</p><table class=\"data-frame\"><thead><tr><th></th><th>a</th><th>b</th></tr><tr><th></th><th title=\"Float64\">Float64</th><th title=\"Float64\">Float64</th></tr></thead><tbody><tr><th>1</th><td>0.909073</td><td>0.737494</td></tr><tr><th>2</th><td>0.508891</td><td>0.866433</td></tr><tr><th>3</th><td>0.737602</td><td>0.223443</td></tr><tr><th>4</th><td>0.0727541</td><td>0.628861</td></tr><tr><th>5</th><td>0.849127</td><td>0.426997</td></tr></tbody></table></div>"
      ],
      "text/latex": [
       "\\begin{tabular}{r|cc}\n",
       "\t& a & b\\\\\n",
       "\t\\hline\n",
       "\t& Float64 & Float64\\\\\n",
       "\t\\hline\n",
       "\t1 & 0.909073 & 0.737494 \\\\\n",
       "\t2 & 0.508891 & 0.866433 \\\\\n",
       "\t3 & 0.737602 & 0.223443 \\\\\n",
       "\t4 & 0.0727541 & 0.628861 \\\\\n",
       "\t5 & 0.849127 & 0.426997 \\\\\n",
       "\\end{tabular}\n"
      ],
      "text/plain": [
       "\u001b[1m5×2 DataFrame\u001b[0m\n",
       "\u001b[1m Row \u001b[0m│\u001b[1m a         \u001b[0m\u001b[1m b        \u001b[0m\n",
       "\u001b[1m     \u001b[0m│\u001b[90m Float64   \u001b[0m\u001b[90m Float64  \u001b[0m\n",
       "─────┼─────────────────────\n",
       "   1 │ 0.909073   0.737494\n",
       "  ⋮  │     ⋮         ⋮\n",
       "\u001b[36m             4 rows omitted\u001b[0m"
      ]
     },
     "execution_count": 14,
     "metadata": {},
     "output_type": "execute_result"
    }
   ],
   "source": [
    "@rput df # copy df to R"
   ]
  },
  {
   "cell_type": "code",
   "execution_count": 15,
   "metadata": {},
   "outputs": [
    {
     "data": {
      "text/plain": [
       "RObject{VecSxp}\n",
       "          a         b\n",
       "1 0.9090725 0.7374944\n",
       "2 0.5088908 0.8664333\n",
       "3 0.7376019 0.2234426\n",
       "4 0.0727541 0.6288608\n",
       "5 0.8491275 0.4269966\n"
      ]
     },
     "execution_count": 15,
     "metadata": {},
     "output_type": "execute_result"
    }
   ],
   "source": [
    "R\"df\" # check if R got df"
   ]
  },
  {
   "cell_type": "markdown",
   "metadata": {},
   "source": [
    "### Plotting with R and Python"
   ]
  },
  {
   "cell_type": "code",
   "execution_count": 16,
   "metadata": {},
   "outputs": [
    {
     "data": {
      "image/png": "[encoded data removed]"
     },
     "metadata": {},
     "output_type": "display_data"
    },
    {
     "data": {
      "text/plain": [
       "RObject{VecSxp}\n"
      ]
     },
     "execution_count": 16,
     "metadata": {},
     "output_type": "execute_result"
    }
   ],
   "source": [
    "R\"\"\"\n",
    "library(ggplot2)\n",
    "\n",
    "ggplot(iris,aes(x=Sepal.Length,y=Petal.Width))+geom_point(aes(color=Species))\n",
    "\"\"\""
   ]
  },
  {
   "cell_type": "code",
   "execution_count": 17,
   "metadata": {},
   "outputs": [
    {
     "data": {
      "image/png": "[encoded data removed]",
      "text/plain": [
       "Figure(PyObject <Figure size 640x480 with 1 Axes>)"
      ]
     },
     "metadata": {},
     "output_type": "display_data"
    },
    {
     "name": "stderr",
     "output_type": "stream",
     "text": [
      "┌ Warning: `vendor()` is deprecated, use `BLAS.get_config()` and inspect the output instead\n",
      "│   caller = npyinitialize() at numpy.jl:67\n",
      "└ @ PyCall /Users/ppalmes/.julia/packages/PyCall/L0fLP/src/numpy.jl:67\n"
     ]
    },
    {
     "data": {
      "text/plain": [
       "PyObject Text(0.5, 1.0, 'A sinusoidally modulated sinusoid')"
      ]
     },
     "execution_count": 17,
     "metadata": {},
     "output_type": "execute_result"
    }
   ],
   "source": [
    "using PyPlot\n",
    "x = range(0; stop=2*pi, length=1000); y = sin.(3 * x + 4 * cos.(2 * x));\n",
    "plot(x, y, color=\"red\", linewidth=2.0, linestyle=\"--\")\n",
    "title(\"A sinusoidally modulated sinusoid\")"
   ]
  },
  {
   "cell_type": "markdown",
   "metadata": {},
   "source": [
    "###   Scikitlearn classifiers using Julia bindings of Python (PyCall.jl)"
   ]
  },
  {
   "cell_type": "markdown",
   "metadata": {},
   "source": [
    "Let's load the `car` dataset for this example."
   ]
  },
  {
   "cell_type": "code",
   "execution_count": 18,
   "metadata": {},
   "outputs": [
    {
     "data": {
      "text/html": [
       "<div class=\"data-frame\"><p>5 rows × 9 columns</p><table class=\"data-frame\"><thead><tr><th></th><th>Name</th><th>Miles_per_Gallon</th><th>Cylinders</th><th>Displacement</th><th>Horsepower</th><th>Weight_in_lbs</th><th>Acceleration</th><th>Year</th><th>Origin</th></tr><tr><th></th><th title=\"String\">String</th><th title=\"Union{Missing, Float64}\">Float64?</th><th title=\"Int64\">Int64</th><th title=\"Float64\">Float64</th><th title=\"Union{Missing, Int64}\">Int64?</th><th title=\"Int64\">Int64</th><th title=\"Float64\">Float64</th><th title=\"String\">String</th><th title=\"String\">String</th></tr></thead><tbody><tr><th>1</th><td>chevrolet chevelle malibu</td><td>18.0</td><td>8</td><td>307.0</td><td>130</td><td>3504</td><td>12.0</td><td>1970-01-01</td><td>USA</td></tr><tr><th>2</th><td>buick skylark 320</td><td>15.0</td><td>8</td><td>350.0</td><td>165</td><td>3693</td><td>11.5</td><td>1970-01-01</td><td>USA</td></tr><tr><th>3</th><td>plymouth satellite</td><td>18.0</td><td>8</td><td>318.0</td><td>150</td><td>3436</td><td>11.0</td><td>1970-01-01</td><td>USA</td></tr><tr><th>4</th><td>amc rebel sst</td><td>16.0</td><td>8</td><td>304.0</td><td>150</td><td>3433</td><td>12.0</td><td>1970-01-01</td><td>USA</td></tr><tr><th>5</th><td>ford torino</td><td>17.0</td><td>8</td><td>302.0</td><td>140</td><td>3449</td><td>10.5</td><td>1970-01-01</td><td>USA</td></tr></tbody></table></div>"
      ],
      "text/latex": [
       "\\begin{tabular}{r|ccccccccc}\n",
       "\t& Name & Miles\\_per\\_Gallon & Cylinders & Displacement & Horsepower & Weight\\_in\\_lbs & Acceleration & Year & Origin\\\\\n",
       "\t\\hline\n",
       "\t& String & Float64? & Int64 & Float64 & Int64? & Int64 & Float64 & String & String\\\\\n",
       "\t\\hline\n",
       "\t1 & chevrolet chevelle malibu & 18.0 & 8 & 307.0 & 130 & 3504 & 12.0 & 1970-01-01 & USA \\\\\n",
       "\t2 & buick skylark 320 & 15.0 & 8 & 350.0 & 165 & 3693 & 11.5 & 1970-01-01 & USA \\\\\n",
       "\t3 & plymouth satellite & 18.0 & 8 & 318.0 & 150 & 3436 & 11.0 & 1970-01-01 & USA \\\\\n",
       "\t4 & amc rebel sst & 16.0 & 8 & 304.0 & 150 & 3433 & 12.0 & 1970-01-01 & USA \\\\\n",
       "\t5 & ford torino & 17.0 & 8 & 302.0 & 140 & 3449 & 10.5 & 1970-01-01 & USA \\\\\n",
       "\\end{tabular}\n"
      ],
      "text/plain": [
       "\u001b[1m5×9 DataFrame\u001b[0m\n",
       "\u001b[1m Row \u001b[0m│\u001b[1m Name                      \u001b[0m\u001b[1m Miles_per_Gallon \u001b[0m\u001b[1m Cylinders \u001b[0m\u001b[1m Displacement \u001b[0m\u001b[1m Horsepower \u001b[0m\u001b[1m Weight_in_lbs \u001b[0m\u001b[1m Acceleration \u001b[0m\u001b[1m Year       \u001b[0m\u001b[1m Origin \u001b[0m\n",
       "\u001b[1m     \u001b[0m│\u001b[90m String                    \u001b[0m\u001b[90m Float64?         \u001b[0m\u001b[90m Int64     \u001b[0m\u001b[90m Float64      \u001b[0m\u001b[90m Int64?     \u001b[0m\u001b[90m Int64         \u001b[0m\u001b[90m Float64      \u001b[0m\u001b[90m String     \u001b[0m\u001b[90m String \u001b[0m\n",
       "─────┼───────────────────────────────────────────────────────────────────────────────────────────────────────────────────────────────────\n",
       "   1 │ chevrolet chevelle malibu              18.0          8         307.0         130           3504          12.0  1970-01-01  USA\n",
       "  ⋮  │             ⋮                     ⋮              ⋮           ⋮            ⋮             ⋮             ⋮            ⋮         ⋮\n",
       "\u001b[36m                                                                                                                           4 rows omitted\u001b[0m"
      ]
     },
     "execution_count": 18,
     "metadata": {},
     "output_type": "execute_result"
    }
   ],
   "source": [
    "using VegaDatasets\n",
    "cars=dataset(\"cars\") |> DataFrame;\n",
    "first(cars,5)"
   ]
  },
  {
   "cell_type": "code",
   "execution_count": 19,
   "metadata": {},
   "outputs": [],
   "source": [
    "@rput cars\n",
    "cars = R\"cars = cars[complete.cases(cars),]\" |> rcopy;"
   ]
  },
  {
   "cell_type": "code",
   "execution_count": 20,
   "metadata": {},
   "outputs": [
    {
     "name": "stdout",
     "output_type": "stream",
     "text": [
      "accuracy: 0.951530612244898\n"
     ]
    }
   ],
   "source": [
    "using PyCall\n",
    "LNM = pyimport(\"sklearn.linear_model\");\n",
    "learner=LNM.LogisticRegression()\n",
    "\n",
    "x=cars[:,[2,4,5,6,7]] |> Matrix\n",
    "y=cars[:,:Cylinders] |> Array;\n",
    "\n",
    "model=learner.fit(x, y)\n",
    "yhat = model.predict(x)\n",
    "accuracy = sum(yhat .== y) / length(y)\n",
    "println(\"accuracy: $accuracy\")"
   ]
  },
  {
   "cell_type": "code",
   "execution_count": 21,
   "metadata": {},
   "outputs": [
    {
     "data": {
      "text/plain": [
       "RObject{IntSxp}\n",
       "   \n",
       "      3   4   5   6   8\n",
       "  3   4   0   0   0   0\n",
       "  4   0 196   3   4   0\n",
       "  5   0   1   0   1   0\n",
       "  6   0   2   0  75   5\n",
       "  8   0   0   0   3  98\n"
      ]
     },
     "execution_count": 21,
     "metadata": {},
     "output_type": "execute_result"
    }
   ],
   "source": [
    "R\"table($yhat,$y)\""
   ]
  },
  {
   "cell_type": "code",
   "execution_count": 22,
   "metadata": {},
   "outputs": [
    {
     "data": {
      "text/plain": [
       "PyObject LogisticRegression()"
      ]
     },
     "execution_count": 22,
     "metadata": {},
     "output_type": "execute_result"
    }
   ],
   "source": [
    "learner"
   ]
  },
  {
   "cell_type": "code",
   "execution_count": 23,
   "metadata": {},
   "outputs": [
    {
     "name": "stderr",
     "output_type": "stream",
     "text": [
      "┌ Warning: The least populated class in y has only 3 members, which is too few. The minimum number of labels for any class cannot be less than n_folds=10.\n",
      "└ @ ScikitLearn.Skcore /Users/ppalmes/.julia/packages/ScikitLearn/ssekP/src/cross_validation.jl:144\n"
     ]
    },
    {
     "data": {
      "text/plain": [
       "10-element Vector{Float64}:\n",
       " 0.8095238095238095\n",
       " 0.9523809523809523\n",
       " 0.9047619047619048\n",
       " ⋮\n",
       " 0.868421052631579\n",
       " 0.9459459459459459"
      ]
     },
     "execution_count": 23,
     "metadata": {},
     "output_type": "execute_result"
    }
   ],
   "source": [
    "using ScikitLearn.CrossValidation: cross_val_score\n",
    "\n",
    "KNN = pyimport(\"sklearn.neighbors\")\n",
    "\n",
    "modelKNN = KNN.KNeighborsClassifier(3)\n",
    "\n",
    "cross_val_score(modelKNN, x, y; cv=10)  # 5-fold"
   ]
  },
  {
   "cell_type": "code",
   "execution_count": 24,
   "metadata": {},
   "outputs": [
    {
     "data": {
      "text/plain": [
       "PyObject LogisticRegression()"
      ]
     },
     "execution_count": 24,
     "metadata": {},
     "output_type": "execute_result"
    }
   ],
   "source": [
    "using ScikitLearn.GridSearch: GridSearchCV\n",
    "\n",
    "GS=pyimport(\"sklearn.model_selection\");\n",
    "\n",
    "lbgfs=LNM.LogisticRegression(multi_class=\"auto\",solver=\"lbfgs\")"
   ]
  },
  {
   "cell_type": "code",
   "execution_count": 25,
   "metadata": {},
   "outputs": [
    {
     "name": "stdout",
     "output_type": "stream",
     "text": [
      "Best parameters: Dict{Any, Any}(\"C\" => 0.1)\n"
     ]
    }
   ],
   "source": [
    "gridsearch = GS.GridSearchCV(lbgfs, Dict(:C => 0.1:0.1:2.0))\n",
    "res=gridsearch.fit(x, y)\n",
    "println(\"Best parameters: $(res.best_params_)\")"
   ]
  },
  {
   "cell_type": "code",
   "execution_count": 26,
   "metadata": {},
   "outputs": [
    {
     "data": {
      "image/png": "[encoded data removed]"
     },
     "metadata": {},
     "output_type": "display_data"
    }
   ],
   "source": [
    "Cparams=convert.(Float64,res.cv_results_[\"param_C\"])\n",
    "score = res.cv_results_[\"std_test_score\"]\n",
    "R\"plot($Cparams,$score,type='l')\";"
   ]
  },
  {
   "cell_type": "code",
   "execution_count": 27,
   "metadata": {},
   "outputs": [
    {
     "data": {
      "text/plain": [
       "PyObject <module 'sklearn.isotonic' from '/Users/ppalmes/.local/lib/python3.9/site-packages/sklearn/isotonic.py'>"
      ]
     },
     "execution_count": 27,
     "metadata": {},
     "output_type": "execute_result"
    }
   ],
   "source": [
    "using PyCall\n",
    "const ENS=pyimport(\"sklearn.ensemble\")\n",
    "const LM=pyimport(\"sklearn.linear_model\")\n",
    "const DA=pyimport(\"sklearn.discriminant_analysis\")\n",
    "const NN=pyimport(\"sklearn.neighbors\")\n",
    "const SVM=pyimport(\"sklearn.svm\")\n",
    "const TREE=pyimport(\"sklearn.tree\")\n",
    "const ANN=pyimport(\"sklearn.neural_network\")\n",
    "const GP=pyimport(\"sklearn.gaussian_process\")\n",
    "const KR=pyimport(\"sklearn.kernel_ridge\")\n",
    "const NB=pyimport(\"sklearn.naive_bayes\")\n",
    "const ISO=pyimport(\"sklearn.isotonic\")"
   ]
  },
  {
   "cell_type": "code",
   "execution_count": 28,
   "metadata": {},
   "outputs": [],
   "source": [
    "learners = Dict(\n",
    "  \"AdaBoostClassifier\" => ENS.AdaBoostClassifier,\n",
    "  \"BaggingClassifier\" => ENS.BaggingClassifier,\n",
    "  \"ExtraTreesClassifier\" => ENS.ExtraTreesClassifier,\n",
    "  \"VotingClassifier\" => ENS.VotingClassifier,\n",
    "  \"GradientBoostingClassifier\" => ENS.GradientBoostingClassifier,\n",
    "  \"RandomForestClassifier\" => ENS.RandomForestClassifier,\n",
    "  \"LDA\" => DA.LinearDiscriminantAnalysis,\n",
    "  \"QDA\" => DA.QuadraticDiscriminantAnalysis,\n",
    "  \"LogisticRegression\" => LM.LogisticRegression,\n",
    "  \"PassiveAggressiveClassifier\" => LM.PassiveAggressiveClassifier,\n",
    "  \"RidgeClassifier\" => LM.RidgeClassifier,\n",
    "  \"RidgeClassifierCV\" => LM.RidgeClassifierCV,\n",
    "  \"SGDClassifier\" => LM.SGDClassifier,\n",
    "  \"KNeighborsClassifier\" => NN.KNeighborsClassifier,\n",
    "  \"RadiusNeighborsClassifier\" => NN.RadiusNeighborsClassifier,\n",
    "  \"NearestCentroid\" => NN.NearestCentroid,\n",
    "  \"SVC\" => SVM.SVC,\n",
    "  \"LinearSVC\" => SVM.LinearSVC,\n",
    "  \"NuSVC\" => SVM.NuSVC,\n",
    "  \"MLPClassifier\" => ANN.MLPClassifier,\n",
    "  \"GaussianProcessClassifier\" => GP.GaussianProcessClassifier,\n",
    "  \"DecisionTreeClassifier\" => TREE.DecisionTreeClassifier,\n",
    "  \"GaussianNB\" => NB.GaussianNB,\n",
    "  \"MultinomialNB\" => NB.MultinomialNB,\n",
    "  \"ComplementNB\" => NB.ComplementNB,\n",
    "  \"BernoulliNB\" => NB.BernoulliNB\n",
    ");"
   ]
  },
  {
   "cell_type": "code",
   "execution_count": 29,
   "metadata": {},
   "outputs": [
    {
     "data": {
      "text/plain": [
       "sktrain (generic function with 1 method)"
      ]
     },
     "execution_count": 29,
     "metadata": {},
     "output_type": "execute_result"
    }
   ],
   "source": [
    "function sktrain(learner,x,y)\n",
    "    model = learner()\n",
    "    xx = x |> Matrix\n",
    "    yy = y |> Array\n",
    "    model.fit(xx,yy)\n",
    "    return model\n",
    "end"
   ]
  },
  {
   "cell_type": "code",
   "execution_count": 30,
   "metadata": {},
   "outputs": [
    {
     "data": {
      "text/plain": [
       "skpredict (generic function with 1 method)"
      ]
     },
     "execution_count": 30,
     "metadata": {},
     "output_type": "execute_result"
    }
   ],
   "source": [
    "function skpredict(themodel,x)\n",
    "    xx = x |> Matrix\n",
    "    return themodel.predict(xx) |> collect\n",
    "end"
   ]
  },
  {
   "cell_type": "code",
   "execution_count": 31,
   "metadata": {},
   "outputs": [
    {
     "name": "stderr",
     "output_type": "stream",
     "text": [
      "┌ Warning: RCall.jl: Loading required package: lattice\n",
      "└ @ RCall /Users/ppalmes/.julia/packages/RCall/6kphM/src/io.jl:172\n"
     ]
    },
    {
     "data": {
      "text/plain": [
       "RObject{VecSxp}\n",
       "                                 Name Miles_per_Gallon Cylinders Displacement\n",
       "3                  plymouth satellite             18.0         8          318\n",
       "26       volkswagen 1131 deluxe sedan             26.0         4           97\n",
       "29                           saab 99e             25.0         4          104\n",
       "59                        peugeot 304             30.0         4           79\n",
       "61                toyota corolla 1200             31.0         4           71\n",
       "64                   plymouth cricket             26.0         4           91\n",
       "67                  volkswagen type 3             23.0         4           97\n",
       "70                   chevrolet impala             13.0         8          350\n",
       "80                   amc matador (sw)             15.0         8          304\n",
       "83     plymouth satellite custom (sw)             14.0         8          318\n",
       "87                    renault 12 (sw)             26.0         4           96\n",
       "91                    dodge colt (sw)             28.0         4           98\n",
       "94                        amc matador             14.0         8          304\n",
       "95                   chevrolet malibu             13.0         8          350\n",
       "103          buick electra 225 custom             12.0         8          455\n",
       "105                  plymouth valiant             18.0         6          225\n",
       "114          oldsmobile vista cruiser             12.0         8          350\n",
       "117                    chevrolet vega             21.0         4          140\n",
       "121                  mercury capri v6             21.0         6          155\n",
       "126                        opel manta             24.0         4          116\n",
       "139               toyota corolla 1200             32.0         4           71\n",
       "140                    chevrolet vega             25.0         4          140\n",
       "144                  ford gran torino             16.0         8          302\n",
       "148                  amc matador (sw)             14.0         8          304\n",
       "151                        opel manta             26.0         4           97\n",
       "153                        datsun 710             32.0         4           83\n",
       "155                          fiat 128             24.0         4           90\n",
       "161                    chevrolet nova             18.0         6          250\n",
       "162                   mercury monarch             15.0         6          250\n",
       "164                  pontiac catalina             16.0         8          400\n",
       "189                  honda civic cvcc             33.0         4           91\n",
       "195 chevrolet chevelle malibu classic             17.5         8          305\n",
       "197                       amc matador             15.5         8          304\n",
       "198                  ford gran torino             14.5         8          351\n",
       "201                     ford maverick             24.0         6          200\n",
       "204                   chevrolet woody             24.5         4           98\n",
       "210                     amc pacer d/l             17.5         6          258\n",
       "212                      datsun b-210             32.0         4           85\n",
       "221                         chevy c10             13.0         8          350\n",
       "225           buick opel isuzu deluxe             30.0         4          111\n",
       "231             dodge monaco brougham             15.5         8          318\n",
       "234                     buick skylark             20.5         6          231\n",
       "244               ford mustang ii 2+2             25.5         4          140\n",
       "269                   amc concord d/l             18.1         6          258\n",
       "270      chevrolet monte carlo landau             19.2         8          305\n",
       "280            oldsmobile starfire sx             23.8         4          151\n",
       "281                     datsun 200-sx             23.9         4          119\n",
       "287          honda Accelerationord lx             29.5         4           98\n",
       "290                   ford fairmont 4             22.3         4          140\n",
       "291                  amc concord dl 6             20.2         6          232\n",
       "294                   ford ltd landau             17.6         8          302\n",
       "295             mercury grand marquis             16.5         8          351\n",
       "299     chevrolet malibu classic (sw)             19.2         8          267\n",
       "301                  vw rabbit custom             31.9         4           89\n",
       "309                  plymouth horizon             34.2         4          105\n",
       "310              plymouth horizon tc3             34.5         4          105\n",
       "311                        datsun 210             31.8         4           85\n",
       "312                fiat strada custom             37.3         4           91\n",
       "314                chevrolet citation             28.8         6          173\n",
       "330                         mazda glc             46.6         4           86\n",
       "341                     datsun 280-zx             32.7         6          168\n",
       "348            dodge aries wagon (sw)             25.8         4          156\n",
       "353                  honda civic 1300             35.1         4           81\n",
       "355                        datsun 210             37.0         4           85\n",
       "356                     toyota tercel             37.7         4           89\n",
       "357                       mazda glc 4             34.1         4           91\n",
       "360                    ford escort 2h             29.9         4           98\n",
       "367         peugeot 505s turbo diesel             28.1         4          141\n",
       "372                     buick century             22.4         6          231\n",
       "374                   ford granada gl             20.2         6          200\n",
       "375            chrysler lebaron salon             17.6         6          225\n",
       "387            plymouth horizon miser             38.0         4          105\n",
       "395             buick century limited             25.0         6          181\n",
       "396 oldsmobile cutlass ciera (diesel)             38.0         6          262\n",
       "400                 dodge charger 2.2             36.0         4          135\n",
       "    Horsepower Weight_in_lbs Acceleration       Year Origin\n",
       "3          150          3436         11.0 1970-01-01    USA\n",
       "26          46          1835         20.5 1970-01-01 Europe\n",
       "29          95          2375         17.5 1970-01-01 Europe\n",
       "59          70          2074         19.5 1971-01-01 Europe\n",
       "61          65          1773         19.0 1971-01-01  Japan\n",
       "64          70          1955         20.5 1971-01-01    USA\n",
       "67          54          2254         23.5 1972-01-01 Europe\n",
       "70         165          4274         12.0 1972-01-01    USA\n",
       "80         150          3892         12.5 1972-01-01    USA\n",
       "83         150          4077         14.0 1972-01-01    USA\n",
       "87          69          2189         18.0 1972-01-01 Europe\n",
       "91          80          2164         15.0 1972-01-01    USA\n",
       "94         150          3672         11.5 1973-01-01    USA\n",
       "95         145          3988         13.0 1973-01-01    USA\n",
       "103        225          4951         11.0 1973-01-01    USA\n",
       "105        105          3121         16.5 1973-01-01    USA\n",
       "114        180          4499         12.5 1973-01-01    USA\n",
       "117         72          2401         19.5 1973-01-01    USA\n",
       "121        107          2472         14.0 1973-01-01    USA\n",
       "126         75          2158         15.5 1973-01-01 Europe\n",
       "139         65          1836         21.0 1974-01-01  Japan\n",
       "140         75          2542         17.0 1974-01-01    USA\n",
       "144        140          4141         14.0 1974-01-01    USA\n",
       "148        150          4257         15.5 1974-01-01    USA\n",
       "151         78          2300         14.5 1974-01-01 Europe\n",
       "153         61          2003         19.0 1974-01-01  Japan\n",
       "155         75          2108         15.5 1974-01-01 Europe\n",
       "161        105          3459         16.0 1975-01-01    USA\n",
       "162         72          3432         21.0 1975-01-01    USA\n",
       "164        170          4668         11.5 1975-01-01    USA\n",
       "189         53          1795         17.5 1975-01-01  Japan\n",
       "195        140          4215         13.0 1976-01-01    USA\n",
       "197        120          3962         13.9 1976-01-01    USA\n",
       "198        152          4215         12.8 1976-01-01    USA\n",
       "201         81          3012         17.6 1976-01-01    USA\n",
       "204         60          2164         22.1 1976-01-01    USA\n",
       "210         95          3193         17.8 1976-01-01    USA\n",
       "212         70          1990         17.0 1976-01-01  Japan\n",
       "221        145          4055         12.0 1976-01-01    USA\n",
       "225         80          2155         14.8 1977-01-01    USA\n",
       "231        145          4140         13.7 1977-01-01    USA\n",
       "234        105          3425         16.9 1977-01-01    USA\n",
       "244         89          2755         15.8 1977-01-01    USA\n",
       "269        120          3410         15.1 1978-01-01    USA\n",
       "270        145          3425         13.2 1978-01-01    USA\n",
       "280         85          2855         17.6 1978-01-01    USA\n",
       "281         97          2405         14.9 1978-01-01  Japan\n",
       "287         68          2135         16.6 1978-01-01  Japan\n",
       "290         88          2890         17.3 1979-01-01    USA\n",
       "291         90          3265         18.2 1979-01-01    USA\n",
       "294        129          3725         13.4 1979-01-01    USA\n",
       "295        138          3955         13.2 1979-01-01    USA\n",
       "299        125          3605         15.0 1979-01-01    USA\n",
       "301         71          1925         14.0 1979-01-01 Europe\n",
       "309         70          2200         13.2 1979-01-01    USA\n",
       "310         70          2150         14.9 1979-01-01    USA\n",
       "311         65          2020         19.2 1979-01-01  Japan\n",
       "312         69          2130         14.7 1979-01-01 Europe\n",
       "314        115          2595         11.3 1979-01-01    USA\n",
       "330         65          2110         17.9 1980-01-01  Japan\n",
       "341        132          2910         11.4 1980-01-01  Japan\n",
       "348         92          2620         14.4 1982-01-01    USA\n",
       "353         60          1760         16.1 1982-01-01  Japan\n",
       "355         65          1975         19.4 1982-01-01  Japan\n",
       "356         62          2050         17.3 1982-01-01  Japan\n",
       "357         68          1985         16.0 1982-01-01  Japan\n",
       "360         65          2380         20.7 1982-01-01    USA\n",
       "367         80          3230         20.4 1982-01-01 Europe\n",
       "372        110          3415         15.8 1982-01-01    USA\n",
       "374         88          3060         17.1 1982-01-01    USA\n",
       "375         85          3465         16.6 1982-01-01    USA\n",
       "387         63          2125         14.7 1982-01-01    USA\n",
       "395        110          2945         16.4 1982-01-01    USA\n",
       "396         85          3015         17.0 1982-01-01    USA\n",
       "400         84          2370         13.0 1982-01-01    USA\n"
      ]
     },
     "execution_count": 31,
     "metadata": {},
     "output_type": "execute_result"
    }
   ],
   "source": [
    "R\"\"\"\n",
    "library(caret)\n",
    "\n",
    "cars = cars[complete.cases(cars),]\n",
    "cars$Cylinders = as.factor(cars$Cylinders)\n",
    "\n",
    "trainIndex <- createDataPartition(cars$Cylinders, p = .8,list=F)\n",
    "\n",
    "train = cars[trainIndex,]\n",
    "test = cars[-trainIndex,]\n",
    "\"\"\""
   ]
  },
  {
   "cell_type": "code",
   "execution_count": 32,
   "metadata": {},
   "outputs": [
    {
     "data": {
      "text/html": [
       "<div class=\"data-frame\"><p>75 rows × 9 columns</p><table class=\"data-frame\"><thead><tr><th></th><th>Name</th><th>Miles_per_Gallon</th><th>Cylinders</th><th>Displacement</th><th>Horsepower</th><th>Weight_in_lbs</th><th>Acceleration</th><th>Year</th><th>Origin</th></tr><tr><th></th><th title=\"String\">String</th><th title=\"Float64\">Float64</th><th title=\"CategoricalArrays.CategoricalValue{String, UInt32}\">Cat…</th><th title=\"Float64\">Float64</th><th title=\"Int64\">Int64</th><th title=\"Int64\">Int64</th><th title=\"Float64\">Float64</th><th title=\"String\">String</th><th title=\"String\">String</th></tr></thead><tbody><tr><th>1</th><td>plymouth satellite</td><td>18.0</td><td>8</td><td>318.0</td><td>150</td><td>3436</td><td>11.0</td><td>1970-01-01</td><td>USA</td></tr><tr><th>2</th><td>volkswagen 1131 deluxe sedan</td><td>26.0</td><td>4</td><td>97.0</td><td>46</td><td>1835</td><td>20.5</td><td>1970-01-01</td><td>Europe</td></tr><tr><th>3</th><td>saab 99e</td><td>25.0</td><td>4</td><td>104.0</td><td>95</td><td>2375</td><td>17.5</td><td>1970-01-01</td><td>Europe</td></tr><tr><th>4</th><td>peugeot 304</td><td>30.0</td><td>4</td><td>79.0</td><td>70</td><td>2074</td><td>19.5</td><td>1971-01-01</td><td>Europe</td></tr><tr><th>5</th><td>toyota corolla 1200</td><td>31.0</td><td>4</td><td>71.0</td><td>65</td><td>1773</td><td>19.0</td><td>1971-01-01</td><td>Japan</td></tr><tr><th>6</th><td>plymouth cricket</td><td>26.0</td><td>4</td><td>91.0</td><td>70</td><td>1955</td><td>20.5</td><td>1971-01-01</td><td>USA</td></tr><tr><th>7</th><td>volkswagen type 3</td><td>23.0</td><td>4</td><td>97.0</td><td>54</td><td>2254</td><td>23.5</td><td>1972-01-01</td><td>Europe</td></tr><tr><th>8</th><td>chevrolet impala</td><td>13.0</td><td>8</td><td>350.0</td><td>165</td><td>4274</td><td>12.0</td><td>1972-01-01</td><td>USA</td></tr><tr><th>9</th><td>amc matador (sw)</td><td>15.0</td><td>8</td><td>304.0</td><td>150</td><td>3892</td><td>12.5</td><td>1972-01-01</td><td>USA</td></tr><tr><th>10</th><td>plymouth satellite custom (sw)</td><td>14.0</td><td>8</td><td>318.0</td><td>150</td><td>4077</td><td>14.0</td><td>1972-01-01</td><td>USA</td></tr><tr><th>&vellip;</th><td>&vellip;</td><td>&vellip;</td><td>&vellip;</td><td>&vellip;</td><td>&vellip;</td><td>&vellip;</td><td>&vellip;</td><td>&vellip;</td><td>&vellip;</td></tr></tbody></table></div>"
      ],
      "text/latex": [
       "\\begin{tabular}{r|ccccccccc}\n",
       "\t& Name & Miles\\_per\\_Gallon & Cylinders & Displacement & Horsepower & Weight\\_in\\_lbs & Acceleration & Year & Origin\\\\\n",
       "\t\\hline\n",
       "\t& String & Float64 & Cat… & Float64 & Int64 & Int64 & Float64 & String & String\\\\\n",
       "\t\\hline\n",
       "\t1 & plymouth satellite & 18.0 & 8 & 318.0 & 150 & 3436 & 11.0 & 1970-01-01 & USA \\\\\n",
       "\t2 & volkswagen 1131 deluxe sedan & 26.0 & 4 & 97.0 & 46 & 1835 & 20.5 & 1970-01-01 & Europe \\\\\n",
       "\t3 & saab 99e & 25.0 & 4 & 104.0 & 95 & 2375 & 17.5 & 1970-01-01 & Europe \\\\\n",
       "\t4 & peugeot 304 & 30.0 & 4 & 79.0 & 70 & 2074 & 19.5 & 1971-01-01 & Europe \\\\\n",
       "\t5 & toyota corolla 1200 & 31.0 & 4 & 71.0 & 65 & 1773 & 19.0 & 1971-01-01 & Japan \\\\\n",
       "\t6 & plymouth cricket & 26.0 & 4 & 91.0 & 70 & 1955 & 20.5 & 1971-01-01 & USA \\\\\n",
       "\t7 & volkswagen type 3 & 23.0 & 4 & 97.0 & 54 & 2254 & 23.5 & 1972-01-01 & Europe \\\\\n",
       "\t8 & chevrolet impala & 13.0 & 8 & 350.0 & 165 & 4274 & 12.0 & 1972-01-01 & USA \\\\\n",
       "\t9 & amc matador (sw) & 15.0 & 8 & 304.0 & 150 & 3892 & 12.5 & 1972-01-01 & USA \\\\\n",
       "\t10 & plymouth satellite custom (sw) & 14.0 & 8 & 318.0 & 150 & 4077 & 14.0 & 1972-01-01 & USA \\\\\n",
       "\t$\\dots$ & $\\dots$ & $\\dots$ & $\\dots$ & $\\dots$ & $\\dots$ & $\\dots$ & $\\dots$ & $\\dots$ & $\\dots$ \\\\\n",
       "\\end{tabular}\n"
      ],
      "text/plain": [
       "\u001b[1m75×9 DataFrame\u001b[0m\n",
       "\u001b[1m Row \u001b[0m│\u001b[1m Name                              \u001b[0m\u001b[1m Miles_per_Gallon \u001b[0m\u001b[1m Cylinders \u001b[0m\u001b[1m Displacement \u001b[0m\u001b[1m Horsepower \u001b[0m\u001b[1m Weight_in_lbs \u001b[0m\u001b[1m Acceleration \u001b[0m\u001b[1m Year       \u001b[0m\u001b[1m Origin \u001b[0m\n",
       "\u001b[1m     \u001b[0m│\u001b[90m String                            \u001b[0m\u001b[90m Float64          \u001b[0m\u001b[90m Cat…      \u001b[0m\u001b[90m Float64      \u001b[0m\u001b[90m Int64      \u001b[0m\u001b[90m Int64         \u001b[0m\u001b[90m Float64      \u001b[0m\u001b[90m String     \u001b[0m\u001b[90m String \u001b[0m\n",
       "─────┼───────────────────────────────────────────────────────────────────────────────────────────────────────────────────────────────────────────\n",
       "   1 │ plymouth satellite                             18.0  8                 318.0         150           3436          11.0  1970-01-01  USA\n",
       "  ⋮  │                 ⋮                         ⋮              ⋮           ⋮            ⋮             ⋮             ⋮            ⋮         ⋮\n",
       "\u001b[36m                                                                                                                                  74 rows omitted\u001b[0m"
      ]
     },
     "execution_count": 32,
     "metadata": {},
     "output_type": "execute_result"
    }
   ],
   "source": [
    "@rget train test"
   ]
  },
  {
   "cell_type": "code",
   "execution_count": 33,
   "metadata": {},
   "outputs": [],
   "source": [
    "xtrain=train[:,[2,4,5,6,7]] |> Matrix\n",
    "ytrain=train[:,:Cylinders] |> Array;\n",
    "xtest=test[:,[2,4,5,6,7]] |> Matrix\n",
    "ytest=test[:,:Cylinders] |> Array;"
   ]
  },
  {
   "cell_type": "markdown",
   "metadata": {},
   "source": [
    "### Try ExtraTrees Classifier"
   ]
  },
  {
   "cell_type": "code",
   "execution_count": 34,
   "metadata": {},
   "outputs": [
    {
     "data": {
      "text/plain": [
       "0.9866666666666667"
      ]
     },
     "execution_count": 34,
     "metadata": {},
     "output_type": "execute_result"
    }
   ],
   "source": [
    "modelLR = sktrain(learners[\"ExtraTreesClassifier\"],xtrain,ytrain)\n",
    "yhat = skpredict(modelLR,xtest);\n",
    "acc=sum(yhat .== ytest) / length(yhat)"
   ]
  },
  {
   "cell_type": "markdown",
   "metadata": {},
   "source": [
    "### Try AdaBoost Classifier"
   ]
  },
  {
   "cell_type": "code",
   "execution_count": 35,
   "metadata": {},
   "outputs": [
    {
     "data": {
      "text/plain": [
       "0.9733333333333334"
      ]
     },
     "execution_count": 35,
     "metadata": {},
     "output_type": "execute_result"
    }
   ],
   "source": [
    "modelLR = sktrain(learners[\"AdaBoostClassifier\"],xtrain,ytrain)\n",
    "res = skpredict(modelLR,xtest);\n",
    "acc=sum(res .== ytest) / length(ytest)"
   ]
  },
  {
   "cell_type": "markdown",
   "metadata": {},
   "source": [
    "### Try RandomForest Classifier"
   ]
  },
  {
   "cell_type": "code",
   "execution_count": 36,
   "metadata": {},
   "outputs": [
    {
     "data": {
      "text/plain": [
       "0.9733333333333334"
      ]
     },
     "execution_count": 36,
     "metadata": {},
     "output_type": "execute_result"
    }
   ],
   "source": [
    "modelLR = sktrain(learners[\"RandomForestClassifier\"],xtrain,ytrain)\n",
    "res = skpredict(modelLR,xtest);\n",
    "acc=sum(res .== ytest) / length(ytest)"
   ]
  },
  {
   "cell_type": "markdown",
   "metadata": {},
   "source": [
    "### Let's use R's Caret to predict Cars' Cylinders"
   ]
  },
  {
   "cell_type": "code",
   "execution_count": 37,
   "metadata": {},
   "outputs": [
    {
     "name": "stderr",
     "output_type": "stream",
     "text": [
      "┌ Warning: RCall.jl: randomForest 4.6-14\n",
      "│ Type rfNews() to see new features/changes/bug fixes.\n",
      "│ \n",
      "│ Attaching package: ‘randomForest’\n",
      "│ \n",
      "│ The following object is masked from ‘package:ggplot2’:\n",
      "│ \n",
      "│     margin\n",
      "│ \n",
      "└ @ RCall /Users/ppalmes/.julia/packages/RCall/6kphM/src/io.jl:172\n"
     ]
    },
    {
     "data": {
      "text/plain": [
       "RObject{StrSxp}\n",
       " [1] \"xgboost\"      \"randomForest\" \"e1071\"        \"caret\"        \"lattice\"     \n",
       " [6] \"ggplot2\"      \"stats\"        \"graphics\"     \"grDevices\"    \"utils\"       \n",
       "[11] \"datasets\"     \"methods\"      \"base\"        \n"
      ]
     },
     "execution_count": 37,
     "metadata": {},
     "output_type": "execute_result"
    }
   ],
   "source": [
    "using RCall\n",
    "R\"\"\"\n",
    "library(caret)\n",
    "library(e1071)\n",
    "library(randomForest)\n",
    "library(xgboost)\n",
    "\"\"\""
   ]
  },
  {
   "cell_type": "code",
   "execution_count": 38,
   "metadata": {},
   "outputs": [
    {
     "data": {
      "text/plain": [
       "crtrain (generic function with 1 method)"
      ]
     },
     "execution_count": 38,
     "metadata": {},
     "output_type": "execute_result"
    }
   ],
   "source": [
    "function crtrain(learner,x::DataFrame,y::Vector)\n",
    "    xx = x |> DataFrame # DataFrame(x)\n",
    "    yy = y |> Vector\n",
    "    model = rcall(:train,xx,yy,method=learner)\n",
    "    return model\n",
    "end"
   ]
  },
  {
   "cell_type": "code",
   "execution_count": 39,
   "metadata": {},
   "outputs": [
    {
     "data": {
      "text/plain": [
       "crtpredict (generic function with 1 method)"
      ]
     },
     "execution_count": 39,
     "metadata": {},
     "output_type": "execute_result"
    }
   ],
   "source": [
    "function crtpredict(model,x)\n",
    "    xx = x |> DataFrame\n",
    "    res = rcall(:predict,model,xx) #in robj\n",
    "    return rcopy(res) |> collect  # return extracted robj\n",
    "end"
   ]
  },
  {
   "cell_type": "markdown",
   "metadata": {},
   "source": [
    "### Let's try RandForest in R"
   ]
  },
  {
   "cell_type": "code",
   "execution_count": 40,
   "metadata": {},
   "outputs": [],
   "source": [
    "xtrain=train[:,[2,4,5,6,7]] |> DataFrame\n",
    "ytrain=train[:,:Cylinders] |> Array;\n",
    "xtest=test[:,[2,4,5,6,7]] |> DataFrame\n",
    "ytest=test[:,:Cylinders] |> Array;"
   ]
  },
  {
   "cell_type": "code",
   "execution_count": 41,
   "metadata": {},
   "outputs": [
    {
     "name": "stderr",
     "output_type": "stream",
     "text": [
      "┌ Warning: RCall.jl: Warning: model fit failed for Resample06: mtry=2 Error in randomForest.default(x, y, mtry = param$mtry, ...) : \n",
      "│   Can't have empty classes in y.\n",
      "│ \n",
      "│ Warning: model fit failed for Resample06: mtry=3 Error in randomForest.default(x, y, mtry = param$mtry, ...) : \n",
      "│   Can't have empty classes in y.\n",
      "│ \n",
      "│ Warning: model fit failed for Resample06: mtry=5 Error in randomForest.default(x, y, mtry = param$mtry, ...) : \n",
      "│   Can't have empty classes in y.\n",
      "│ \n",
      "│ Warning: model fit failed for Resample12: mtry=2 Error in randomForest.default(x, y, mtry = param$mtry, ...) : \n",
      "│   Can't have empty classes in y.\n",
      "│ \n",
      "│ Warning: model fit failed for Resample12: mtry=3 Error in randomForest.default(x, y, mtry = param$mtry, ...) : \n",
      "│   Can't have empty classes in y.\n",
      "│ \n",
      "│ Warning: model fit failed for Resample12: mtry=5 Error in randomForest.default(x, y, mtry = param$mtry, ...) : \n",
      "│   Can't have empty classes in y.\n",
      "│ \n",
      "│ Warning in nominalTrainWorkflow(x = x, y = y, wts = weights, info = trainInfo,  :\n",
      "│   There were missing values in resampled performance measures.\n",
      "└ @ RCall /Users/ppalmes/.julia/packages/RCall/6kphM/src/io.jl:172\n"
     ]
    },
    {
     "data": {
      "text/plain": [
       "0.9733333333333334"
      ]
     },
     "execution_count": 41,
     "metadata": {},
     "output_type": "execute_result"
    }
   ],
   "source": [
    "crtmodel = crtrain(\"rf\",xtrain,ytrain)\n",
    "ypred = crtpredict(crtmodel,xtest);\n",
    "acc = sum(ypred .== ytest) / length(ytest)"
   ]
  },
  {
   "cell_type": "code",
   "execution_count": 42,
   "metadata": {},
   "outputs": [
    {
     "data": {
      "text/plain": [
       "0.9466666666666667"
      ]
     },
     "execution_count": 42,
     "metadata": {},
     "output_type": "execute_result"
    }
   ],
   "source": [
    "crtmodel = crtrain(\"svmRadial\",xtrain,ytrain)\n",
    "ypred = crtpredict(crtmodel,xtest) \n",
    "sum(ypred .== ytest) / length(ytest)"
   ]
  },
  {
   "cell_type": "code",
   "execution_count": 43,
   "metadata": {},
   "outputs": [
    {
     "data": {
      "text/plain": [
       "0.9733333333333334"
      ]
     },
     "execution_count": 43,
     "metadata": {},
     "output_type": "execute_result"
    }
   ],
   "source": [
    "crtmodel = crtrain(\"treebag\",xtrain,ytrain)\n",
    "ypred = crtpredict(crtmodel,xtest) \n",
    "sum(ypred .== ytest) / length(ytest)"
   ]
  }
 ],
 "metadata": {
  "@webio": {
   "lastCommId": null,
   "lastKernelId": null
  },
  "kernelspec": {
   "display_name": "Julia 1.7.2",
   "language": "julia",
   "name": "julia-1.7"
  },
  "language_info": {
   "file_extension": ".jl",
   "mimetype": "application/julia",
   "name": "julia",
   "version": "1.7.2"
  }
 },
 "nbformat": 4,
 "nbformat_minor": 2
}
