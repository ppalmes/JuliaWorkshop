{
 "cells": [
  {
   "cell_type": "markdown",
   "metadata": {},
   "source": [
    "### Load Modules"
   ]
  },
  {
   "cell_type": "code",
   "execution_count": null,
   "metadata": {},
   "outputs": [],
   "source": [
    "using Random\n",
    "using AutoMLPipeline\n",
    "using DataFrames\n",
    "using AbstractTrees\n",
    "ENV[\"COLUMNS\"]=1000;"
   ]
  },
  {
   "cell_type": "markdown",
   "metadata": {},
   "source": [
    "### Load dataset\n",
    "- pro-football dataset\n",
    "- predict if the game is played home/away"
   ]
  },
  {
   "cell_type": "code",
   "execution_count": null,
   "metadata": {},
   "outputs": [],
   "source": [
    "using CSV\n",
    "profbdata = CSV.read(\"profb.csv\",DataFrame)\n",
    "first(profbdata,5)"
   ]
  },
  {
   "cell_type": "markdown",
   "metadata": {},
   "source": [
    "### Split data into input features and target output"
   ]
  },
  {
   "cell_type": "code",
   "execution_count": null,
   "metadata": {},
   "outputs": [],
   "source": [
    "X = profbdata[:,2:end] \n",
    "Y = profbdata[:,1] |> Vector;"
   ]
  },
  {
   "cell_type": "markdown",
   "metadata": {},
   "source": [
    "### Load the building blocks of modeling"
   ]
  },
  {
   "cell_type": "code",
   "execution_count": null,
   "metadata": {},
   "outputs": [],
   "source": [
    "# decomposition\n",
    "pca = SKPreprocessor(\"PCA\")\n",
    "fa = SKPreprocessor(\"FactorAnalysis\")\n",
    "ica = SKPreprocessor(\"FastICA\")\n",
    "# Scaler \n",
    "rb = SKPreprocessor(\"RobustScaler\")\n",
    "pt = SKPreprocessor(\"PowerTransformer\")\n",
    "norm = SKPreprocessor(\"Normalizer\")\n",
    "mx = SKPreprocessor(\"MinMaxScaler\")\n",
    "# categorical preprocessing\n",
    "ohe = OneHotEncoder()\n",
    "# Column selector\n",
    "disc = CatNumDiscriminator()\n",
    "catf = CatFeatureSelector()\n",
    "numf = NumFeatureSelector()\n",
    "# Learners\n",
    "rf = SKLearner(\"RandomForestClassifier\")\n",
    "gb = SKLearner(\"GradientBoostingClassifier\")\n",
    "lsvc = SKLearner(\"LinearSVC\")\n",
    "svc = SKLearner(\"SVC\")\n",
    "mlp = SKLearner(\"MLPClassifier\")\n",
    "ada = SKLearner(\"AdaBoostClassifier\");\n",
    "jrf = RandomForest();\n",
    "vote = VoteEnsemble();\n",
    "stack = StackEnsemble();\n",
    "best = BestLearner();"
   ]
  },
  {
   "cell_type": "markdown",
   "metadata": {},
   "source": [
    "### Define a pipeline composed of transformers and a learner at the end"
   ]
  },
  {
   "cell_type": "code",
   "execution_count": null,
   "metadata": {},
   "outputs": [],
   "source": [
    "pvote = ((catf |> ohe) + numf) |> vote\n",
    "pred = fit_transform!(pvote,X,Y)\n",
    "score(:accuracy,pred,Y)"
   ]
  },
  {
   "cell_type": "code",
   "execution_count": null,
   "metadata": {},
   "outputs": [],
   "source": [
    "pohe = numf + catf |> ohe \n",
    "pred = fit_transform!(pvote,X,Y)"
   ]
  },
  {
   "cell_type": "markdown",
   "metadata": {},
   "source": [
    "#### Corresponding function call"
   ]
  },
  {
   "cell_type": "code",
   "execution_count": null,
   "metadata": {},
   "outputs": [],
   "source": [
    "@pipelinex (catf |> ohe) + (numf) |> vote"
   ]
  },
  {
   "cell_type": "markdown",
   "metadata": {},
   "source": [
    "#### Tree representation"
   ]
  },
  {
   "cell_type": "code",
   "execution_count": null,
   "metadata": {},
   "outputs": [],
   "source": [
    "(@pipelinex (catf |> ohe) + (numf) |> vote) |> print_tree"
   ]
  },
  {
   "cell_type": "markdown",
   "metadata": {},
   "source": [
    "### Evaluate performance by 5-fold cross-validation"
   ]
  },
  {
   "cell_type": "code",
   "execution_count": null,
   "metadata": {},
   "outputs": [],
   "source": [
    "crossvalidate(pvote,X,Y,\"accuracy_score\",10)"
   ]
  },
  {
   "cell_type": "markdown",
   "metadata": {},
   "source": [
    "### Use similar workflow to discover optimal pipeline"
   ]
  },
  {
   "cell_type": "markdown",
   "metadata": {},
   "source": [
    "### RandomForest learner"
   ]
  },
  {
   "cell_type": "code",
   "execution_count": null,
   "metadata": {},
   "outputs": [],
   "source": [
    "prf = (numf |> rb |> pca) + (numf |> rb |> ica) + (catf |> ohe) + (numf |> rb |> fa) |> rf\n",
    "pred = fit_transform!(prf,X,Y)\n",
    "score(:accuracy,pred,Y)"
   ]
  },
  {
   "cell_type": "code",
   "execution_count": null,
   "metadata": {},
   "outputs": [],
   "source": [
    "@pipelinex (numf |> rb |> pca) + (numf |> rb |> ica) + (catf |> ohe) + (numf |> rb |> fa) |> rf"
   ]
  },
  {
   "cell_type": "code",
   "execution_count": null,
   "metadata": {},
   "outputs": [],
   "source": [
    "crossvalidate(prf,X,Y,\"accuracy_score\",10)"
   ]
  },
  {
   "cell_type": "markdown",
   "metadata": {},
   "source": [
    "### Gradient Boost Learner"
   ]
  },
  {
   "cell_type": "code",
   "execution_count": null,
   "metadata": {},
   "outputs": [],
   "source": [
    "pgb = @pipeline (numf |> rb |> pca) + (numf|>rb|>ica)  + (numf|>rb|>fa) |> gb\n",
    "pred = fit_transform!(pgb,X,Y)\n",
    "score(:accuracy,pred,Y)"
   ]
  },
  {
   "cell_type": "code",
   "execution_count": null,
   "metadata": {},
   "outputs": [],
   "source": [
    "crossvalidate(pgb,X,Y,\"accuracy_score\",10)"
   ]
  },
  {
   "cell_type": "markdown",
   "metadata": {},
   "source": [
    "### Linear Support Vector Machine for Classification"
   ]
  },
  {
   "cell_type": "code",
   "execution_count": null,
   "metadata": {},
   "outputs": [],
   "source": [
    "plsvc = @pipeline ((numf |> rb |> pca)+(numf |> rb |> fa)+(numf |> rb |> ica)+(catf |> ohe )) |> lsvc\n",
    "pred = fit_transform!(plsvc,X,Y)\n",
    "score(:accuracy,pred,Y)"
   ]
  },
  {
   "cell_type": "code",
   "execution_count": null,
   "metadata": {},
   "outputs": [],
   "source": [
    "crossvalidate(plsvc,X,Y,\"accuracy_score\",10)"
   ]
  },
  {
   "cell_type": "markdown",
   "metadata": {},
   "source": [
    "### RBF Kernel Support Vector Machine for Classification"
   ]
  },
  {
   "cell_type": "code",
   "execution_count": null,
   "metadata": {},
   "outputs": [],
   "source": [
    "psvc = @pipeline (numf |> pca) + numf + (numf|> ica) + (catf |> ohe) |> svc\n",
    "pred = fit_transform!(psvc,X,Y)\n",
    "score(:accuracy,pred,Y)"
   ]
  },
  {
   "cell_type": "code",
   "execution_count": null,
   "metadata": {},
   "outputs": [],
   "source": [
    "crossvalidate(psvc,X,Y,\"accuracy_score\",10)"
   ]
  },
  {
   "cell_type": "code",
   "execution_count": null,
   "metadata": {},
   "outputs": [],
   "source": [
    "using AutoMLPipeline\n",
    "using Distributed\n",
    "using DataFrames\n",
    "\n",
    "# disable truncation of dataframes columns\n",
    "import Base.show\n",
    "show(df::AbstractDataFrame) = show(df,truncate=0)\n",
    "show(io::IO,df::AbstractDataFrame) = show(io,df;truncate=0)\n",
    "\n",
    "# Add workers\n",
    "nprocs() == 1 && addprocs(;  exeflags=\"--project\");\n",
    "\n",
    "@sync @everywhere using AutoMLPipeline\n",
    "@sync @everywhere using DataFrames\n",
    "\n",
    "#### feature selectors\n",
    "catf   = CatFeatureSelector();\n",
    "numf   = NumFeatureSelector();\n",
    "# hot-bit encoder\n",
    "ohe    = OneHotEncoder();\n",
    "#### feature scalers\n",
    "rb     = SKPreprocessor(\"RobustScaler\");\n",
    "pt     = SKPreprocessor(\"PowerTransformer\");\n",
    "mx     = SKPreprocessor(\"MinMaxScaler\");\n",
    "std    = SKPreprocessor(\"StandardScaler\");\n",
    "norm   = SKPreprocessor(\"Normalizer\");\n",
    "#### feature extractors\n",
    "pca    = SKPreprocessor(\"PCA\", Dict(:autocomponent => true));\n",
    "ica    = SKPreprocessor(\"FastICA\", Dict(:autocomponent => true));\n",
    "fa     = SKPreprocessor(\"FactorAnalysis\", Dict(:autocomponent => true));\n",
    "#### Learners\n",
    "rf     = SKLearner(\"RandomForestClassifier\", Dict(:impl_args => Dict(:n_estimators => 10)));\n",
    "gb     = SKLearner(\"GradientBoostingClassifier\");\n",
    "lsvc   = SKLearner(\"LinearSVC\");\n",
    "mlp    = SKLearner(\"MLPClassifier\");\n",
    "stack  = StackEnsemble();\n",
    "rbfsvc = SKLearner(\"SVC\");\n",
    "ada    = SKLearner(\"AdaBoostClassifier\");\n",
    "vote   = VoteEnsemble();\n",
    "best   = BestLearner();\n",
    "tree   = PrunedTree();\n",
    "sgd    = SKLearner(\"SGDClassifier\");\n",
    "noop = Identity(Dict(:name => \"Noop\"));\n",
    "\n",
    "# Parallel Search for Datamining Optimal Pipelines\n",
    "function prpsearch()\n",
    "    learners = [rf,ada,sgd,tree,rbfsvc,lsvc,gb];\n",
    "    scalers = [rb,pt,norm,std,mx,noop];\n",
    "    extractors = [pca,ica,fa,noop];\n",
    "    dftable = @sync @distributed (vcat) for lr in learners\n",
    "    @distributed (vcat) for sc in scalers\n",
    "      @distributed (vcat) for xt  in extractors\n",
    "        pipe  = @pipeline (catf |> ohe) + (numf |> sc |> xt)  |> lr\n",
    "        scn   = sc.name[1:end - 4]; xtn = xt.name[1:end - 4]; lrn = lr.name[1:end - 4]\n",
    "        pname = \"$scn |> $xtn |> $lrn\"\n",
    "        ptime = @elapsed begin\n",
    "          mean, sd, kfold, _ = crossvalidate(pipe, X, Y, \"accuracy_score\", 3)\n",
    "        end\n",
    "        DataFrame(pipeline=pname, mean=mean, sd=sd, time=ptime, folds=kfold)\n",
    "      end\n",
    "    end\n",
    "    end\n",
    "    sort!(dftable, :mean, rev=true);\n",
    "    dftable\n",
    "end\n",
    "runtime = @elapsed begin\n",
    "    df = prpsearch()\n",
    "end;\n",
    "serialtime = df.time |> sum;\n",
    "(serialtime = \"$(round(serialtime / 60.0)) minutes\", paralleltime = \"$(round(runtime)) seconds\")"
   ]
  },
  {
   "cell_type": "markdown",
   "metadata": {},
   "source": [
    "#### Best pipelines"
   ]
  },
  {
   "cell_type": "code",
   "execution_count": null,
   "metadata": {},
   "outputs": [],
   "source": [
    "df"
   ]
  },
  {
   "cell_type": "code",
   "execution_count": null,
   "metadata": {},
   "outputs": [],
   "source": []
  }
 ],
 "metadata": {
  "@webio": {
   "lastCommId": null,
   "lastKernelId": null
  },
  "kernelspec": {
   "display_name": "Julia 1.7.2",
   "language": "julia",
   "name": "julia-1.7"
  },
  "language_info": {
   "file_extension": ".jl",
   "mimetype": "application/julia",
   "name": "julia",
   "version": "1.7.2"
  }
 },
 "nbformat": 4,
 "nbformat_minor": 2
}
