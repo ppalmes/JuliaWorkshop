{
 "cells": [
  {
   "cell_type": "markdown",
   "metadata": {},
   "source": [
    "## Load RCall\n",
    "- run R instance in the background\n",
    "- establish connection between Julia and R\n",
    "- uses the R_HOME or default R location in certain OS to run R binary\n"
   ]
  },
  {
   "cell_type": "code",
   "execution_count": null,
   "metadata": {},
   "outputs": [],
   "source": [
    "using RCall"
   ]
  },
  {
   "cell_type": "markdown",
   "metadata": {},
   "source": [
    "## R\"\" string macro\n",
    "- easiest way to interface with R\n",
    "- exact R statements\n",
    "- returns an R object which can be converted to Julia using rcopy"
   ]
  },
  {
   "cell_type": "code",
   "execution_count": null,
   "metadata": {},
   "outputs": [],
   "source": [
    "aq_j=R\"airquality\" |> rcopy # get an R data and covert to julia dataframe"
   ]
  },
  {
   "cell_type": "code",
   "execution_count": null,
   "metadata": {},
   "outputs": [],
   "source": [
    "first(aq_j,3)  # convert to Julia dataframe"
   ]
  },
  {
   "cell_type": "code",
   "execution_count": null,
   "metadata": {},
   "outputs": [],
   "source": [
    "using DataVoyager\n",
    "# aq_j |> Voyager"
   ]
  },
  {
   "cell_type": "markdown",
   "metadata": {},
   "source": [
    "## Let's load ggplot2 and plot airquality"
   ]
  },
  {
   "cell_type": "code",
   "execution_count": null,
   "metadata": {},
   "outputs": [],
   "source": [
    "R\"library(ggplot2)\""
   ]
  },
  {
   "cell_type": "code",
   "execution_count": null,
   "metadata": {},
   "outputs": [],
   "source": [
    "p1=R\"ggplot(data=airquality)+geom_point(aes(x=Wind,y=Solar.R,color=Temp))\""
   ]
  },
  {
   "cell_type": "code",
   "execution_count": null,
   "metadata": {},
   "outputs": [],
   "source": [
    "p1=R\"ggplot(data=airquality)+geom_point(aes(x=Wind,y=Ozone,color=Temp))+facet_grid(Month ~ .)\""
   ]
  },
  {
   "cell_type": "code",
   "execution_count": null,
   "metadata": {},
   "outputs": [],
   "source": [
    "rcopy(p1) # translate robj to julia which is a dictionary type"
   ]
  },
  {
   "cell_type": "code",
   "execution_count": null,
   "metadata": {},
   "outputs": [],
   "source": [
    "p1=R\"ggplot(data=airquality)+geom_point(aes(x=Ozone,y=Solar.R,color=Temp))\""
   ]
  },
  {
   "cell_type": "code",
   "execution_count": null,
   "metadata": {},
   "outputs": [],
   "source": [
    "R\"plot(airquality)\""
   ]
  },
  {
   "cell_type": "code",
   "execution_count": null,
   "metadata": {},
   "outputs": [],
   "source": [
    "R\"library(randomForest)\""
   ]
  },
  {
   "cell_type": "code",
   "execution_count": null,
   "metadata": {},
   "outputs": [],
   "source": [
    "R\"rfmodel=randomForest(Temp ~ .,data=airquality,na.action=na.omit)\" # regression"
   ]
  },
  {
   "cell_type": "code",
   "execution_count": null,
   "metadata": {},
   "outputs": [],
   "source": [
    "R\"varImpPlot(rfmodel)\""
   ]
  },
  {
   "cell_type": "code",
   "execution_count": null,
   "metadata": {},
   "outputs": [],
   "source": [
    "R\"rfmodel\""
   ]
  },
  {
   "cell_type": "code",
   "execution_count": null,
   "metadata": {},
   "outputs": [],
   "source": [
    "R\"randomForest(as.factor(Month) ~ .,data=airquality,na.action=na.omit)\" # classification"
   ]
  },
  {
   "cell_type": "code",
   "execution_count": null,
   "metadata": {},
   "outputs": [],
   "source": [
    "R\"library(caret)\""
   ]
  },
  {
   "cell_type": "code",
   "execution_count": null,
   "metadata": {},
   "outputs": [],
   "source": [
    "R\"crf=train(Temp ~ .,data=airquality,method='rf',na.action=na.omit)\""
   ]
  },
  {
   "cell_type": "code",
   "execution_count": null,
   "metadata": {},
   "outputs": [],
   "source": [
    "R\"ctreebag=train(Temp ~ .,data=airquality,method='treebag',na.action=na.omit)\""
   ]
  },
  {
   "cell_type": "code",
   "execution_count": null,
   "metadata": {},
   "outputs": [],
   "source": [
    "crf_j=rcopy(@rget crf);\n",
    "ctreebag_j=rcopy(@rget ctreebag)"
   ]
  },
  {
   "cell_type": "markdown",
   "metadata": {},
   "source": [
    "## Julia wrappers of R caret using RCall APIs"
   ]
  },
  {
   "cell_type": "code",
   "execution_count": null,
   "metadata": {},
   "outputs": [],
   "source": [
    "module RWrapper\n",
    "using DataFrames\n",
    "using RCall\n",
    "function fit!(learner,x,y)\n",
    "    xx = x |> DataFrame\n",
    "    yy = y |> Vector\n",
    "    rres = rcall(:train,xx,yy,method=learner)\n",
    "    rres\n",
    "end\n",
    "\n",
    "function transform!(model,x)\n",
    "    xx = x |> DataFrame\n",
    "    res = rcall(:predict,model,xx) #in robj\n",
    "    return rcopy(res) # return extracted robj\n",
    "end\n",
    "end\n"
   ]
  },
  {
   "cell_type": "code",
   "execution_count": null,
   "metadata": {},
   "outputs": [],
   "source": [
    "using DataFrames\n",
    "learner = \"rf\"\n",
    "iris=rcopy(R\"iris\")\n",
    "x=iris[:,1:4] \n",
    "y=iris[:,5] |> Vector{String}\n",
    "model = RWrapper.fit!(learner,x,y) #robject\n",
    "print(model)\n",
    "prediction=RWrapper.transform!(model,x) |> collect;"
   ]
  },
  {
   "cell_type": "code",
   "execution_count": null,
   "metadata": {},
   "outputs": [],
   "source": [
    "R\"table($prediction,$y)\""
   ]
  },
  {
   "cell_type": "markdown",
   "metadata": {},
   "source": [
    "## Grid search for parameter optimization"
   ]
  },
  {
   "cell_type": "code",
   "execution_count": null,
   "metadata": {},
   "outputs": [],
   "source": [
    "R\"tunegrid <- expand.grid(.mtry=c(1:10))\""
   ]
  },
  {
   "cell_type": "code",
   "execution_count": null,
   "metadata": {},
   "outputs": [],
   "source": [
    "R\"control <- trainControl(method='repeatedcv', number=3, repeats=3, search='grid')\""
   ]
  },
  {
   "cell_type": "code",
   "execution_count": null,
   "metadata": {},
   "outputs": [],
   "source": [
    "R\"crf=train(Temp ~ .,data=airquality,method='rf',na.action=na.omit,tuneGrid=tunegrid, trControl=control)\""
   ]
  },
  {
   "cell_type": "code",
   "execution_count": null,
   "metadata": {},
   "outputs": [],
   "source": [
    "R\"plot(crf)\""
   ]
  },
  {
   "cell_type": "code",
   "execution_count": null,
   "metadata": {},
   "outputs": [],
   "source": [
    "R\"dcomp=airquality[complete.cases(airquality),]\"\n",
    "R\"bestmtry <- tuneRF(dcomp[,-4],dcomp[,4], ntree=500)\""
   ]
  },
  {
   "cell_type": "code",
   "execution_count": null,
   "metadata": {},
   "outputs": [],
   "source": [
    "iris_j=rcopy(R\"iris\")"
   ]
  },
  {
   "cell_type": "code",
   "execution_count": null,
   "metadata": {},
   "outputs": [],
   "source": [
    "model=R\"train(Species ~ .,data=$iris_j,method='rf')\""
   ]
  },
  {
   "cell_type": "code",
   "execution_count": null,
   "metadata": {},
   "outputs": [],
   "source": [
    "rcopy(model)"
   ]
  }
 ],
 "metadata": {
  "@webio": {
   "lastCommId": null,
   "lastKernelId": null
  },
  "kernelspec": {
   "display_name": "Julia 1.7.2",
   "language": "julia",
   "name": "julia-1.7"
  },
  "language_info": {
   "file_extension": ".jl",
   "mimetype": "application/julia",
   "name": "julia",
   "version": "1.7.2"
  }
 },
 "nbformat": 4,
 "nbformat_minor": 2
}
