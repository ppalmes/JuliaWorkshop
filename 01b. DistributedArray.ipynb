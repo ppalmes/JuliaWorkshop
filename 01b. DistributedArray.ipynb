{
 "cells": [
  {
   "cell_type": "markdown",
   "metadata": {},
   "source": [
    "## Distributed Arrays"
   ]
  },
  {
   "cell_type": "code",
   "execution_count": 1,
   "metadata": {},
   "outputs": [],
   "source": [
    "using Distributed"
   ]
  },
  {
   "cell_type": "code",
   "execution_count": 2,
   "metadata": {},
   "outputs": [
    {
     "data": {
      "text/plain": [
       "8-element Vector{Int64}:\n",
       " 2\n",
       " 3\n",
       " 4\n",
       " 5\n",
       " 6\n",
       " 7\n",
       " 8\n",
       " 9"
      ]
     },
     "execution_count": 2,
     "metadata": {},
     "output_type": "execute_result"
    }
   ],
   "source": [
    "nprocs() == 1 && addprocs(;exeflags=\"--project\")"
   ]
  },
  {
   "cell_type": "code",
   "execution_count": 3,
   "metadata": {},
   "outputs": [],
   "source": [
    "@everywhere using DistributedArrays"
   ]
  },
  {
   "cell_type": "code",
   "execution_count": 4,
   "metadata": {},
   "outputs": [
    {
     "data": {
      "text/plain": [
       "8-element Vector{Int64}:\n",
       " 2\n",
       " 3\n",
       " 4\n",
       " 5\n",
       " 6\n",
       " 7\n",
       " 8\n",
       " 9"
      ]
     },
     "execution_count": 4,
     "metadata": {},
     "output_type": "execute_result"
    }
   ],
   "source": [
    "workers()"
   ]
  },
  {
   "cell_type": "markdown",
   "metadata": {},
   "source": [
    "#### Start with regular array"
   ]
  },
  {
   "cell_type": "code",
   "execution_count": 5,
   "metadata": {},
   "outputs": [
    {
     "data": {
      "text/plain": [
       "10000×10000 Matrix{Float64}:\n",
       " 0.123723  0.444996  0.246716    …  0.705871   0.655958   0.61486\n",
       " 0.649506  0.778737  0.731993       0.348227   0.0516317  0.566177\n",
       " 0.761093  0.405962  0.751093       0.867999   0.255145   0.405285\n",
       " 0.609628  0.272982  0.359789       0.976385   0.297469   0.71698\n",
       " 0.380213  0.159257  0.153968       0.35067    0.41966    0.430037\n",
       " 0.605719  0.540934  0.759018    …  0.461343   0.343755   0.639653\n",
       " 0.57235   0.707484  0.854691       0.0547383  0.683133   0.882455\n",
       " 0.271017  0.617553  0.59311        0.181349   0.495497   0.139849\n",
       " 0.978263  0.84524   0.439817       0.942757   0.660323   0.328855\n",
       " 0.947058  0.346634  0.497383       0.748693   0.158723   0.360928\n",
       " 0.6787    0.80356   0.899306    …  0.0999335  0.203494   0.151415\n",
       " 0.903023  0.71282   0.0341192      0.264255   0.151948   0.870035\n",
       " 0.979759  0.543438  0.3833         0.987089   0.7874     0.0592685\n",
       " ⋮                               ⋱                        \n",
       " 0.684499  0.827455  0.00167859     0.559993   0.106965   0.338261\n",
       " 0.38806   0.247348  0.349916       0.228758   0.262422   0.0653658\n",
       " 0.438276  0.902473  0.74632     …  0.649099   0.792058   0.563549\n",
       " 0.352981  0.705224  0.91568        0.717088   0.633822   0.988593\n",
       " 0.477591  0.796238  0.927959       0.521824   0.418011   0.998563\n",
       " 0.363489  0.817759  0.831698       0.704509   0.480748   0.0698723\n",
       " 0.789224  0.218166  0.113695       0.0889371  0.275093   0.852666\n",
       " 0.553892  0.804683  0.78146     …  0.963904   0.119565   0.281565\n",
       " 0.744301  0.290941  0.874901       0.146648   0.21759    0.971299\n",
       " 0.234427  0.245678  0.611159       0.0301386  0.246417   0.598994\n",
       " 0.354061  0.61435   0.904132       0.747305   0.684968   0.816317\n",
       " 0.708675  0.157653  0.0957778      0.238049   0.761464   0.176863"
      ]
     },
     "execution_count": 5,
     "metadata": {},
     "output_type": "execute_result"
    }
   ],
   "source": [
    "dat=rand(10000,10000)"
   ]
  },
  {
   "cell_type": "markdown",
   "metadata": {},
   "source": [
    "#### Process id 1 is assigned to regular array"
   ]
  },
  {
   "cell_type": "code",
   "execution_count": 6,
   "metadata": {},
   "outputs": [
    {
     "data": {
      "text/plain": [
       "10000×10000 Matrix{Int64}:\n",
       " 1  1  1  1  1  1  1  1  1  1  1  1  1  …  1  1  1  1  1  1  1  1  1  1  1  1\n",
       " 1  1  1  1  1  1  1  1  1  1  1  1  1     1  1  1  1  1  1  1  1  1  1  1  1\n",
       " 1  1  1  1  1  1  1  1  1  1  1  1  1     1  1  1  1  1  1  1  1  1  1  1  1\n",
       " 1  1  1  1  1  1  1  1  1  1  1  1  1     1  1  1  1  1  1  1  1  1  1  1  1\n",
       " 1  1  1  1  1  1  1  1  1  1  1  1  1     1  1  1  1  1  1  1  1  1  1  1  1\n",
       " 1  1  1  1  1  1  1  1  1  1  1  1  1  …  1  1  1  1  1  1  1  1  1  1  1  1\n",
       " 1  1  1  1  1  1  1  1  1  1  1  1  1     1  1  1  1  1  1  1  1  1  1  1  1\n",
       " 1  1  1  1  1  1  1  1  1  1  1  1  1     1  1  1  1  1  1  1  1  1  1  1  1\n",
       " 1  1  1  1  1  1  1  1  1  1  1  1  1     1  1  1  1  1  1  1  1  1  1  1  1\n",
       " 1  1  1  1  1  1  1  1  1  1  1  1  1     1  1  1  1  1  1  1  1  1  1  1  1\n",
       " 1  1  1  1  1  1  1  1  1  1  1  1  1  …  1  1  1  1  1  1  1  1  1  1  1  1\n",
       " 1  1  1  1  1  1  1  1  1  1  1  1  1     1  1  1  1  1  1  1  1  1  1  1  1\n",
       " 1  1  1  1  1  1  1  1  1  1  1  1  1     1  1  1  1  1  1  1  1  1  1  1  1\n",
       " ⋮              ⋮              ⋮        ⋱        ⋮              ⋮           \n",
       " 1  1  1  1  1  1  1  1  1  1  1  1  1     1  1  1  1  1  1  1  1  1  1  1  1\n",
       " 1  1  1  1  1  1  1  1  1  1  1  1  1     1  1  1  1  1  1  1  1  1  1  1  1\n",
       " 1  1  1  1  1  1  1  1  1  1  1  1  1  …  1  1  1  1  1  1  1  1  1  1  1  1\n",
       " 1  1  1  1  1  1  1  1  1  1  1  1  1     1  1  1  1  1  1  1  1  1  1  1  1\n",
       " 1  1  1  1  1  1  1  1  1  1  1  1  1     1  1  1  1  1  1  1  1  1  1  1  1\n",
       " 1  1  1  1  1  1  1  1  1  1  1  1  1     1  1  1  1  1  1  1  1  1  1  1  1\n",
       " 1  1  1  1  1  1  1  1  1  1  1  1  1     1  1  1  1  1  1  1  1  1  1  1  1\n",
       " 1  1  1  1  1  1  1  1  1  1  1  1  1  …  1  1  1  1  1  1  1  1  1  1  1  1\n",
       " 1  1  1  1  1  1  1  1  1  1  1  1  1     1  1  1  1  1  1  1  1  1  1  1  1\n",
       " 1  1  1  1  1  1  1  1  1  1  1  1  1     1  1  1  1  1  1  1  1  1  1  1  1\n",
       " 1  1  1  1  1  1  1  1  1  1  1  1  1     1  1  1  1  1  1  1  1  1  1  1  1\n",
       " 1  1  1  1  1  1  1  1  1  1  1  1  1     1  1  1  1  1  1  1  1  1  1  1  1"
      ]
     },
     "execution_count": 6,
     "metadata": {},
     "output_type": "execute_result"
    }
   ],
   "source": [
    "map(x->myid(),dat)"
   ]
  },
  {
   "cell_type": "markdown",
   "metadata": {},
   "source": [
    "#### Distribute ownership to other workers with distributed array"
   ]
  },
  {
   "cell_type": "code",
   "execution_count": 7,
   "metadata": {},
   "outputs": [
    {
     "data": {
      "text/plain": [
       "10000×10000 DArray{Float64, 2, Matrix{Float64}}:\n",
       " 0.123723  0.444996  0.246716    …  0.705871   0.655958   0.61486\n",
       " 0.649506  0.778737  0.731993       0.348227   0.0516317  0.566177\n",
       " 0.761093  0.405962  0.751093       0.867999   0.255145   0.405285\n",
       " 0.609628  0.272982  0.359789       0.976385   0.297469   0.71698\n",
       " 0.380213  0.159257  0.153968       0.35067    0.41966    0.430037\n",
       " 0.605719  0.540934  0.759018    …  0.461343   0.343755   0.639653\n",
       " 0.57235   0.707484  0.854691       0.0547383  0.683133   0.882455\n",
       " 0.271017  0.617553  0.59311        0.181349   0.495497   0.139849\n",
       " 0.978263  0.84524   0.439817       0.942757   0.660323   0.328855\n",
       " 0.947058  0.346634  0.497383       0.748693   0.158723   0.360928\n",
       " 0.6787    0.80356   0.899306    …  0.0999335  0.203494   0.151415\n",
       " 0.903023  0.71282   0.0341192      0.264255   0.151948   0.870035\n",
       " 0.979759  0.543438  0.3833         0.987089   0.7874     0.0592685\n",
       " ⋮                               ⋱                        \n",
       " 0.684499  0.827455  0.00167859     0.559993   0.106965   0.338261\n",
       " 0.38806   0.247348  0.349916       0.228758   0.262422   0.0653658\n",
       " 0.438276  0.902473  0.74632     …  0.649099   0.792058   0.563549\n",
       " 0.352981  0.705224  0.91568        0.717088   0.633822   0.988593\n",
       " 0.477591  0.796238  0.927959       0.521824   0.418011   0.998563\n",
       " 0.363489  0.817759  0.831698       0.704509   0.480748   0.0698723\n",
       " 0.789224  0.218166  0.113695       0.0889371  0.275093   0.852666\n",
       " 0.553892  0.804683  0.78146     …  0.963904   0.119565   0.281565\n",
       " 0.744301  0.290941  0.874901       0.146648   0.21759    0.971299\n",
       " 0.234427  0.245678  0.611159       0.0301386  0.246417   0.598994\n",
       " 0.354061  0.61435   0.904132       0.747305   0.684968   0.816317\n",
       " 0.708675  0.157653  0.0957778      0.238049   0.761464   0.176863"
      ]
     },
     "execution_count": 7,
     "metadata": {},
     "output_type": "execute_result"
    }
   ],
   "source": [
    "ddat=distribute(dat)"
   ]
  },
  {
   "cell_type": "markdown",
   "metadata": {},
   "source": [
    "#### Different workers are assigned to different blocks of data"
   ]
  },
  {
   "cell_type": "code",
   "execution_count": 8,
   "metadata": {},
   "outputs": [
    {
     "data": {
      "text/plain": [
       "10000×10000 DArray{Int64, 2, Matrix{Int64}}:\n",
       " 2  2  2  2  2  2  2  2  2  2  2  2  2  …  8  8  8  8  8  8  8  8  8  8  8  8\n",
       " 2  2  2  2  2  2  2  2  2  2  2  2  2     8  8  8  8  8  8  8  8  8  8  8  8\n",
       " 2  2  2  2  2  2  2  2  2  2  2  2  2     8  8  8  8  8  8  8  8  8  8  8  8\n",
       " 2  2  2  2  2  2  2  2  2  2  2  2  2     8  8  8  8  8  8  8  8  8  8  8  8\n",
       " 2  2  2  2  2  2  2  2  2  2  2  2  2     8  8  8  8  8  8  8  8  8  8  8  8\n",
       " 2  2  2  2  2  2  2  2  2  2  2  2  2  …  8  8  8  8  8  8  8  8  8  8  8  8\n",
       " 2  2  2  2  2  2  2  2  2  2  2  2  2     8  8  8  8  8  8  8  8  8  8  8  8\n",
       " 2  2  2  2  2  2  2  2  2  2  2  2  2     8  8  8  8  8  8  8  8  8  8  8  8\n",
       " 2  2  2  2  2  2  2  2  2  2  2  2  2     8  8  8  8  8  8  8  8  8  8  8  8\n",
       " 2  2  2  2  2  2  2  2  2  2  2  2  2     8  8  8  8  8  8  8  8  8  8  8  8\n",
       " 2  2  2  2  2  2  2  2  2  2  2  2  2  …  8  8  8  8  8  8  8  8  8  8  8  8\n",
       " 2  2  2  2  2  2  2  2  2  2  2  2  2     8  8  8  8  8  8  8  8  8  8  8  8\n",
       " 2  2  2  2  2  2  2  2  2  2  2  2  2     8  8  8  8  8  8  8  8  8  8  8  8\n",
       " ⋮              ⋮              ⋮        ⋱        ⋮              ⋮           \n",
       " 3  3  3  3  3  3  3  3  3  3  3  3  3     9  9  9  9  9  9  9  9  9  9  9  9\n",
       " 3  3  3  3  3  3  3  3  3  3  3  3  3     9  9  9  9  9  9  9  9  9  9  9  9\n",
       " 3  3  3  3  3  3  3  3  3  3  3  3  3  …  9  9  9  9  9  9  9  9  9  9  9  9\n",
       " 3  3  3  3  3  3  3  3  3  3  3  3  3     9  9  9  9  9  9  9  9  9  9  9  9\n",
       " 3  3  3  3  3  3  3  3  3  3  3  3  3     9  9  9  9  9  9  9  9  9  9  9  9\n",
       " 3  3  3  3  3  3  3  3  3  3  3  3  3     9  9  9  9  9  9  9  9  9  9  9  9\n",
       " 3  3  3  3  3  3  3  3  3  3  3  3  3     9  9  9  9  9  9  9  9  9  9  9  9\n",
       " 3  3  3  3  3  3  3  3  3  3  3  3  3  …  9  9  9  9  9  9  9  9  9  9  9  9\n",
       " 3  3  3  3  3  3  3  3  3  3  3  3  3     9  9  9  9  9  9  9  9  9  9  9  9\n",
       " 3  3  3  3  3  3  3  3  3  3  3  3  3     9  9  9  9  9  9  9  9  9  9  9  9\n",
       " 3  3  3  3  3  3  3  3  3  3  3  3  3     9  9  9  9  9  9  9  9  9  9  9  9\n",
       " 3  3  3  3  3  3  3  3  3  3  3  3  3     9  9  9  9  9  9  9  9  9  9  9  9"
      ]
     },
     "execution_count": 8,
     "metadata": {},
     "output_type": "execute_result"
    }
   ],
   "source": [
    "map(x->myid(),ddat)"
   ]
  },
  {
   "cell_type": "markdown",
   "metadata": {},
   "source": [
    "#### Process each chunk locally by the corresponding worker assigned to the chunk"
   ]
  },
  {
   "cell_type": "code",
   "execution_count": 9,
   "metadata": {},
   "outputs": [
    {
     "data": {
      "text/plain": [
       "8-element Vector{Future}:\n",
       " Future(2, 1, 5108, ReentrantLock(nothing, Base.GenericCondition{Base.Threads.SpinLock}(Base.InvasiveLinkedList{Task}(nothing, nothing), Base.Threads.SpinLock(0)), 0), nothing)\n",
       " Future(3, 1, 5109, ReentrantLock(nothing, Base.GenericCondition{Base.Threads.SpinLock}(Base.InvasiveLinkedList{Task}(nothing, nothing), Base.Threads.SpinLock(0)), 0), nothing)\n",
       " Future(4, 1, 5110, ReentrantLock(nothing, Base.GenericCondition{Base.Threads.SpinLock}(Base.InvasiveLinkedList{Task}(nothing, nothing), Base.Threads.SpinLock(0)), 0), nothing)\n",
       " Future(5, 1, 5111, ReentrantLock(nothing, Base.GenericCondition{Base.Threads.SpinLock}(Base.InvasiveLinkedList{Task}(nothing, nothing), Base.Threads.SpinLock(0)), 0), nothing)\n",
       " Future(6, 1, 5112, ReentrantLock(nothing, Base.GenericCondition{Base.Threads.SpinLock}(Base.InvasiveLinkedList{Task}(nothing, nothing), Base.Threads.SpinLock(0)), 0), nothing)\n",
       " Future(7, 1, 5113, ReentrantLock(nothing, Base.GenericCondition{Base.Threads.SpinLock}(Base.InvasiveLinkedList{Task}(nothing, nothing), Base.Threads.SpinLock(0)), 0), nothing)\n",
       " Future(8, 1, 5114, ReentrantLock(nothing, Base.GenericCondition{Base.Threads.SpinLock}(Base.InvasiveLinkedList{Task}(nothing, nothing), Base.Threads.SpinLock(0)), 0), nothing)\n",
       " Future(9, 1, 5115, ReentrantLock(nothing, Base.GenericCondition{Base.Threads.SpinLock}(Base.InvasiveLinkedList{Task}(nothing, nothing), Base.Threads.SpinLock(0)), 0), nothing)"
      ]
     },
     "execution_count": 9,
     "metadata": {},
     "output_type": "execute_result"
    }
   ],
   "source": [
    "[ @spawnat p sum(x->x*x,localpart(ddat)) for p in workers() ]"
   ]
  },
  {
   "cell_type": "markdown",
   "metadata": {},
   "source": [
    "#### Fetch the results from each worker working on their corresponding chunk of data"
   ]
  },
  {
   "cell_type": "code",
   "execution_count": 10,
   "metadata": {},
   "outputs": [
    {
     "data": {
      "text/plain": [
       "8-element Vector{Float64}:\n",
       " 4.165783090590872e6\n",
       " 4.166645246017161e6\n",
       " 4.1661054964631647e6\n",
       " 4.1655412539773807e6\n",
       " 4.167189334580513e6\n",
       " 4.1648296769934585e6\n",
       " 4.1674088697341075e6\n",
       " 4.1682965613832995e6"
      ]
     },
     "execution_count": 10,
     "metadata": {},
     "output_type": "execute_result"
    }
   ],
   "source": [
    "map(fetch,[ @spawnat p sum(x->x*x,localpart(ddat)) for p in workers() ])"
   ]
  },
  {
   "cell_type": "markdown",
   "metadata": {},
   "source": [
    "#### Finally reduce the returned results from each worker by adding them"
   ]
  },
  {
   "cell_type": "code",
   "execution_count": 11,
   "metadata": {},
   "outputs": [
    {
     "name": "stdout",
     "output_type": "stream",
     "text": [
      "  0.199132 seconds (317.34 k allocations: 17.165 MiB, 50.34% compilation time)\n"
     ]
    },
    {
     "data": {
      "text/plain": [
       "3.333179952973996e7"
      ]
     },
     "execution_count": 11,
     "metadata": {},
     "output_type": "execute_result"
    }
   ],
   "source": [
    "@time reduce(+,map(fetch,[ @spawnat p sum(x->x*x,localpart(ddat)) for p in workers() ]))"
   ]
  },
  {
   "cell_type": "code",
   "execution_count": 12,
   "metadata": {},
   "outputs": [
    {
     "name": "stdout",
     "output_type": "stream",
     "text": [
      "  1.782984 seconds (1.64 M allocations: 91.779 MiB, 37.66% compilation time)\n"
     ]
    },
    {
     "data": {
      "text/plain": [
       "3.333179952973996e7"
      ]
     },
     "execution_count": 12,
     "metadata": {},
     "output_type": "execute_result"
    }
   ],
   "source": [
    "@time sum(ddat .* ddat)"
   ]
  },
  {
   "cell_type": "code",
   "execution_count": 13,
   "metadata": {},
   "outputs": [
    {
     "name": "stdout",
     "output_type": "stream",
     "text": [
      "\t\u001b[0m.section\t\u001b[0m__TEXT\u001b[0m,\u001b[0m__text\u001b[0m,\u001b[0mregular\u001b[0m,\u001b[0mpure_instructions\n",
      "\u001b[90m; ┌ @ reducedim.jl:889 within `sum`\u001b[39m\n",
      "\t\u001b[96m\u001b[1msubq\u001b[22m\u001b[39m\t\u001b[33m$40\u001b[39m\u001b[0m, \u001b[0m%rsp\n",
      "\t\u001b[96m\u001b[1mmovq\u001b[22m\u001b[39m\t\u001b[0m%rsi\u001b[0m, \u001b[33m32\u001b[39m\u001b[33m(\u001b[39m\u001b[0m%rsp\u001b[33m)\u001b[39m\n",
      "\t\u001b[96m\u001b[1mmovq\u001b[22m\u001b[39m\t\u001b[33m(\u001b[39m\u001b[0m%rsi\u001b[33m)\u001b[39m\u001b[0m, \u001b[0m%rax\n",
      "\t\u001b[96m\u001b[1mmovabsq\u001b[22m\u001b[39m\t\u001b[93m$jl_system_image_data\u001b[39m\u001b[0m, \u001b[0m%rcx\n",
      "\u001b[90m; │┌ @ reducedim.jl:889 within `#sum#732`\u001b[39m\n",
      "\u001b[90m; ││┌ @ reducedim.jl:893 within `_sum`\u001b[39m\n",
      "\u001b[90m; │││┌ @ reducedim.jl:893 within `#_sum#734`\u001b[39m\n",
      "\u001b[90m; ││││┌ @ reducedim.jl:894 within `_sum`\u001b[39m\n",
      "\u001b[90m; │││││┌ @ reducedim.jl:894 within `#_sum#735`\u001b[39m\n",
      "\u001b[90m; ││││││┌ @ reducedim.jl:322 within `mapreduce`\u001b[39m\n",
      "\u001b[90m; │││││││┌ @ reducedim.jl:322 within `#mapreduce#725`\u001b[39m\n",
      "\u001b[90m; ││││││││┌ @ reducedim.jl:330 within `_mapreduce_dim`\u001b[39m\n",
      "\t\u001b[96m\u001b[1mmovq\u001b[22m\u001b[39m\t\u001b[0m%rcx\u001b[0m, \u001b[33m(\u001b[39m\u001b[0m%rsp\u001b[33m)\u001b[39m\n",
      "\t\u001b[96m\u001b[1mmovabsq\u001b[22m\u001b[39m\t\u001b[93m$jl_system_image_data\u001b[39m\u001b[0m, \u001b[0m%rcx\n",
      "\t\u001b[96m\u001b[1mmovq\u001b[22m\u001b[39m\t\u001b[0m%rcx\u001b[0m, \u001b[33m8\u001b[39m\u001b[33m(\u001b[39m\u001b[0m%rsp\u001b[33m)\u001b[39m\n",
      "\t\u001b[96m\u001b[1mmovabsq\u001b[22m\u001b[39m\t\u001b[93m$jl_system_image_data\u001b[39m\u001b[0m, \u001b[0m%rcx\n",
      "\t\u001b[96m\u001b[1mmovq\u001b[22m\u001b[39m\t\u001b[0m%rcx\u001b[0m, \u001b[33m16\u001b[39m\u001b[33m(\u001b[39m\u001b[0m%rsp\u001b[33m)\u001b[39m\n",
      "\t\u001b[96m\u001b[1mmovq\u001b[22m\u001b[39m\t\u001b[0m%rax\u001b[0m, \u001b[33m24\u001b[39m\u001b[33m(\u001b[39m\u001b[0m%rsp\u001b[33m)\u001b[39m\n",
      "\t\u001b[96m\u001b[1mmovabsq\u001b[22m\u001b[39m\t\u001b[93m$jl_invoke\u001b[39m\u001b[0m, \u001b[0m%rax\n",
      "\t\u001b[96m\u001b[1mmovabsq\u001b[22m\u001b[39m\t\u001b[93m$jl_system_image_data\u001b[39m\u001b[0m, \u001b[0m%rdi\n",
      "\t\u001b[96m\u001b[1mmovq\u001b[22m\u001b[39m\t\u001b[0m%rsp\u001b[0m, \u001b[0m%rsi\n",
      "\t\u001b[96m\u001b[1mmovabsq\u001b[22m\u001b[39m\t\u001b[33m$5948355408\u001b[39m\u001b[0m, \u001b[0m%rcx               \u001b[0m## \u001b[0mimm \u001b[0m= \u001b[33m0x1628CB350\u001b[39m\n",
      "\t\u001b[96m\u001b[1mmovl\u001b[22m\u001b[39m\t\u001b[33m$4\u001b[39m\u001b[0m, \u001b[0m%edx\n",
      "\t\u001b[96m\u001b[1mcallq\u001b[22m\u001b[39m\t\u001b[0m*\u001b[0m%rax\n",
      "\u001b[90m; │└└└└└└└└\u001b[39m\n",
      "\t\u001b[96m\u001b[1maddq\u001b[22m\u001b[39m\t\u001b[33m$40\u001b[39m\u001b[0m, \u001b[0m%rsp\n",
      "\t\u001b[96m\u001b[1mretq\u001b[22m\u001b[39m\n",
      "\u001b[90m; └\u001b[39m\n"
     ]
    }
   ],
   "source": [
    "@code_native sum(ddat .* ddat)"
   ]
  },
  {
   "cell_type": "code",
   "execution_count": 14,
   "metadata": {},
   "outputs": [
    {
     "data": {
      "text/html": [
       "67-element Vector{Method}:<ul><li> serialize(S::<b>Serialization.AbstractSerializer</b>, d::<b>DArray{T, N, A}</b>)<i> where {T, N, A}</i> in DistributedArrays at <a href=\"file:///Users/ppalmes/.julia/packages/DistributedArrays/fEM6l/src/serialize.jl\" target=\"_blank\">/Users/ppalmes/.julia/packages/DistributedArrays/fEM6l/src/serialize.jl:1</a><li> axpy!(α, x::<b>DArray</b>, y::<b>DArray</b>) in DistributedArrays at <a href=\"file:///Users/ppalmes/.julia/packages/DistributedArrays/fEM6l/src/linalg.jl\" target=\"_blank\">/Users/ppalmes/.julia/packages/DistributedArrays/fEM6l/src/linalg.jl:24</a><li> copyto!(dest::<b>DArray</b>, bc::<b>Base.Broadcast.Broadcasted</b>) in DistributedArrays at <a href=\"file:///Users/ppalmes/.julia/packages/DistributedArrays/fEM6l/src/broadcast.jl\" target=\"_blank\">/Users/ppalmes/.julia/packages/DistributedArrays/fEM6l/src/broadcast.jl:66</a><li> norm(x::<b>DArray</b>) in DistributedArrays at <a href=\"file:///Users/ppalmes/.julia/packages/DistributedArrays/fEM6l/src/linalg.jl\" target=\"_blank\">/Users/ppalmes/.julia/packages/DistributedArrays/fEM6l/src/linalg.jl:49</a><li> norm(x::<b>DArray</b>, p::<b>Real</b>) in DistributedArrays at <a href=\"file:///Users/ppalmes/.julia/packages/DistributedArrays/fEM6l/src/linalg.jl\" target=\"_blank\">/Users/ppalmes/.julia/packages/DistributedArrays/fEM6l/src/linalg.jl:49</a><li> rmul!(A::<b>DArray</b>, x::<b>Number</b>) in DistributedArrays at <a href=\"file:///Users/ppalmes/.julia/packages/DistributedArrays/fEM6l/src/linalg.jl\" target=\"_blank\">/Users/ppalmes/.julia/packages/DistributedArrays/fEM6l/src/linalg.jl:59</a><li> rand!(A::<b>DArray</b>, ::<b>Type{T}</b>)<i> where T</i> in DistributedArrays at <a href=\"file:///Users/ppalmes/.julia/packages/DistributedArrays/fEM6l/src/darray.jl\" target=\"_blank\">/Users/ppalmes/.julia/packages/DistributedArrays/fEM6l/src/darray.jl:856</a><li> nnz(A::<b>DArray</b>) in DistributedArrays at <a href=\"file:///Users/ppalmes/.julia/packages/DistributedArrays/fEM6l/src/mapreduce.jl\" target=\"_blank\">/Users/ppalmes/.julia/packages/DistributedArrays/fEM6l/src/mapreduce.jl:123</a><li> procs(d::<b>DArray</b>) in DistributedArrays at <a href=\"file:///Users/ppalmes/.julia/packages/DistributedArrays/fEM6l/src/core.jl\" target=\"_blank\">/Users/ppalmes/.julia/packages/DistributedArrays/fEM6l/src/core.jl:58</a><li> DArray(init, d::<b>DArray</b>) in DistributedArrays at <a href=\"file:///Users/ppalmes/.julia/packages/DistributedArrays/fEM6l/src/darray.jl\" target=\"_blank\">/Users/ppalmes/.julia/packages/DistributedArrays/fEM6l/src/darray.jl:249</a><li> close(d::<b>DArray</b>) in DistributedArrays at <a href=\"file:///Users/ppalmes/.julia/packages/DistributedArrays/fEM6l/src/core.jl\" target=\"_blank\">/Users/ppalmes/.julia/packages/DistributedArrays/fEM6l/src/core.jl:34</a><li> distribute(A::<b>AbstractArray</b>, DA::<b>DArray</b>) in DistributedArrays at <a href=\"file:///Users/ppalmes/.julia/packages/DistributedArrays/fEM6l/src/darray.jl\" target=\"_blank\">/Users/ppalmes/.julia/packages/DistributedArrays/fEM6l/src/darray.jl:559</a><li> localindices(d::<b>DArray</b>) in DistributedArrays at <a href=\"file:///Users/ppalmes/.julia/packages/DistributedArrays/fEM6l/src/darray.jl\" target=\"_blank\">/Users/ppalmes/.julia/packages/DistributedArrays/fEM6l/src/darray.jl:408</a><li> localpart(d::<b>DArray{T, N, A}</b>)<i> where {T, N, A}</i> in DistributedArrays at <a href=\"file:///Users/ppalmes/.julia/packages/DistributedArrays/fEM6l/src/darray.jl\" target=\"_blank\">/Users/ppalmes/.julia/packages/DistributedArrays/fEM6l/src/darray.jl:345</a><li> localpart(d::<b>DArray</b>, localidx...) in DistributedArrays at <a href=\"file:///Users/ppalmes/.julia/packages/DistributedArrays/fEM6l/src/darray.jl\" target=\"_blank\">/Users/ppalmes/.julia/packages/DistributedArrays/fEM6l/src/darray.jl:354</a><li> rem(A::<b>Array{T}</b>, B::<b>DArray{T}</b>)<i> where T</i> in DistributedArrays at <a href=\"file:///Users/ppalmes/.julia/packages/DistributedArrays/fEM6l/src/mapreduce.jl\" target=\"_blank\">/Users/ppalmes/.julia/packages/DistributedArrays/fEM6l/src/mapreduce.jl:199</a><li> rem(A::<b>DArray{T}</b>, B::<b>Array{T}</b>)<i> where T</i> in DistributedArrays at <a href=\"file:///Users/ppalmes/.julia/packages/DistributedArrays/fEM6l/src/mapreduce.jl\" target=\"_blank\">/Users/ppalmes/.julia/packages/DistributedArrays/fEM6l/src/mapreduce.jl:198</a><li> rem(A::<b>DArray{T}</b>, B::<b>DArray{T}</b>)<i> where T</i> in DistributedArrays at <a href=\"file:///Users/ppalmes/.julia/packages/DistributedArrays/fEM6l/src/mapreduce.jl\" target=\"_blank\">/Users/ppalmes/.julia/packages/DistributedArrays/fEM6l/src/mapreduce.jl:194</a><li> &(A::<b>Array{T}</b>, B::<b>DArray{T}</b>)<i> where T</i> in DistributedArrays at <a href=\"file:///Users/ppalmes/.julia/packages/DistributedArrays/fEM6l/src/mapreduce.jl\" target=\"_blank\">/Users/ppalmes/.julia/packages/DistributedArrays/fEM6l/src/mapreduce.jl:199</a><li> &(A::<b>DArray{T}</b>, B::<b>Array{T}</b>)<i> where T</i> in DistributedArrays at <a href=\"file:///Users/ppalmes/.julia/packages/DistributedArrays/fEM6l/src/mapreduce.jl\" target=\"_blank\">/Users/ppalmes/.julia/packages/DistributedArrays/fEM6l/src/mapreduce.jl:198</a><li> &(A::<b>DArray{T}</b>, B::<b>DArray{T}</b>)<i> where T</i> in DistributedArrays at <a href=\"file:///Users/ppalmes/.julia/packages/DistributedArrays/fEM6l/src/mapreduce.jl\" target=\"_blank\">/Users/ppalmes/.julia/packages/DistributedArrays/fEM6l/src/mapreduce.jl:194</a><li> +(A::<b>DArray{T}</b>, B::<b>Array{T}</b>)<i> where T</i> in DistributedArrays at <a href=\"file:///Users/ppalmes/.julia/packages/DistributedArrays/fEM6l/src/mapreduce.jl\" target=\"_blank\">/Users/ppalmes/.julia/packages/DistributedArrays/fEM6l/src/mapreduce.jl:198</a><li> +(A::<b>DArray{T}</b>, B::<b>DArray{T}</b>)<i> where T</i> in DistributedArrays at <a href=\"file:///Users/ppalmes/.julia/packages/DistributedArrays/fEM6l/src/mapreduce.jl\" target=\"_blank\">/Users/ppalmes/.julia/packages/DistributedArrays/fEM6l/src/mapreduce.jl:194</a><li> +(A::<b>Array{T}</b>, B::<b>DArray{T}</b>)<i> where T</i> in DistributedArrays at <a href=\"file:///Users/ppalmes/.julia/packages/DistributedArrays/fEM6l/src/mapreduce.jl\" target=\"_blank\">/Users/ppalmes/.julia/packages/DistributedArrays/fEM6l/src/mapreduce.jl:199</a><li> -(D::<b>DArray</b>) in DistributedArrays at <a href=\"file:///Users/ppalmes/.julia/packages/DistributedArrays/fEM6l/src/mapreduce.jl\" target=\"_blank\">/Users/ppalmes/.julia/packages/DistributedArrays/fEM6l/src/mapreduce.jl:146</a><li> -(A::<b>DArray{T}</b>, B::<b>Array{T}</b>)<i> where T</i> in DistributedArrays at <a href=\"file:///Users/ppalmes/.julia/packages/DistributedArrays/fEM6l/src/mapreduce.jl\" target=\"_blank\">/Users/ppalmes/.julia/packages/DistributedArrays/fEM6l/src/mapreduce.jl:198</a><li> -(A::<b>DArray{T}</b>, B::<b>DArray{T}</b>)<i> where T</i> in DistributedArrays at <a href=\"file:///Users/ppalmes/.julia/packages/DistributedArrays/fEM6l/src/mapreduce.jl\" target=\"_blank\">/Users/ppalmes/.julia/packages/DistributedArrays/fEM6l/src/mapreduce.jl:194</a><li> -(A::<b>Array{T}</b>, B::<b>DArray{T}</b>)<i> where T</i> in DistributedArrays at <a href=\"file:///Users/ppalmes/.julia/packages/DistributedArrays/fEM6l/src/mapreduce.jl\" target=\"_blank\">/Users/ppalmes/.julia/packages/DistributedArrays/fEM6l/src/mapreduce.jl:199</a><li> ==(d1::<b>SubArray{T, N, D} where {T, N, D<:DArray}</b>, d2::<b>DArray</b>) in DistributedArrays at <a href=\"file:///Users/ppalmes/.julia/packages/DistributedArrays/fEM6l/src/darray.jl\" target=\"_blank\">/Users/ppalmes/.julia/packages/DistributedArrays/fEM6l/src/darray.jl:438</a><li> ==(d1::<b>DArray</b>, d2::<b>SubArray{T, N, D} where {T, N, D<:DArray}</b>) in DistributedArrays at <a href=\"file:///Users/ppalmes/.julia/packages/DistributedArrays/fEM6l/src/darray.jl\" target=\"_blank\">/Users/ppalmes/.julia/packages/DistributedArrays/fEM6l/src/darray.jl:444</a><li> ==(d1::<b>DArray</b>, d2::<b>DArray</b>) in DistributedArrays at <a href=\"file:///Users/ppalmes/.julia/packages/DistributedArrays/fEM6l/src/darray.jl\" target=\"_blank\">/Users/ppalmes/.julia/packages/DistributedArrays/fEM6l/src/darray.jl:437</a><li> ==(a::<b>AbstractArray</b>, d::<b>DArray</b>) in DistributedArrays at <a href=\"file:///Users/ppalmes/.julia/packages/DistributedArrays/fEM6l/src/darray.jl\" target=\"_blank\">/Users/ppalmes/.julia/packages/DistributedArrays/fEM6l/src/darray.jl:435</a><li> ==(d::<b>DArray{<:Any, <:Any, A}</b>, a::<b>AbstractArray</b>)<i> where A</i> in DistributedArrays at <a href=\"file:///Users/ppalmes/.julia/packages/DistributedArrays/fEM6l/src/darray.jl\" target=\"_blank\">/Users/ppalmes/.julia/packages/DistributedArrays/fEM6l/src/darray.jl:417</a><li> count(f, A::<b>DArray</b>) in DistributedArrays at <a href=\"file:///Users/ppalmes/.julia/packages/DistributedArrays/fEM6l/src/mapreduce.jl\" target=\"_blank\">/Users/ppalmes/.julia/packages/DistributedArrays/fEM6l/src/mapreduce.jl:114</a><li> deepcopy(src::<b>DArray</b>) in DistributedArrays at <a href=\"file:///Users/ppalmes/.julia/packages/DistributedArrays/fEM6l/src/darray.jl\" target=\"_blank\">/Users/ppalmes/.julia/packages/DistributedArrays/fEM6l/src/darray.jl:695</a><li> div(A::<b>Array{T}</b>, B::<b>DArray{T}</b>)<i> where T</i> in DistributedArrays at <a href=\"file:///Users/ppalmes/.julia/packages/DistributedArrays/fEM6l/src/mapreduce.jl\" target=\"_blank\">/Users/ppalmes/.julia/packages/DistributedArrays/fEM6l/src/mapreduce.jl:199</a><li> div(A::<b>DArray{T}</b>, B::<b>Array{T}</b>)<i> where T</i> in DistributedArrays at <a href=\"file:///Users/ppalmes/.julia/packages/DistributedArrays/fEM6l/src/mapreduce.jl\" target=\"_blank\">/Users/ppalmes/.julia/packages/DistributedArrays/fEM6l/src/mapreduce.jl:198</a><li> div(A::<b>DArray{T}</b>, B::<b>DArray{T}</b>)<i> where T</i> in DistributedArrays at <a href=\"file:///Users/ppalmes/.julia/packages/DistributedArrays/fEM6l/src/mapreduce.jl\" target=\"_blank\">/Users/ppalmes/.julia/packages/DistributedArrays/fEM6l/src/mapreduce.jl:194</a><li> extrema(d::<b>DArray</b>) in DistributedArrays at <a href=\"file:///Users/ppalmes/.julia/packages/DistributedArrays/fEM6l/src/mapreduce.jl\" target=\"_blank\">/Users/ppalmes/.julia/packages/DistributedArrays/fEM6l/src/mapreduce.jl:130</a><li> fetch(d::<b>DArray{T, N, A}</b>, i)<i> where {T, N, A}</i> in DistributedArrays at <a href=\"file:///Users/ppalmes/.julia/packages/DistributedArrays/fEM6l/src/darray.jl\" target=\"_blank\">/Users/ppalmes/.julia/packages/DistributedArrays/fEM6l/src/darray.jl:400</a><li> fill!(A::<b>DArray</b>, x) in DistributedArrays at <a href=\"file:///Users/ppalmes/.julia/packages/DistributedArrays/fEM6l/src/darray.jl\" target=\"_blank\">/Users/ppalmes/.julia/packages/DistributedArrays/fEM6l/src/darray.jl:847</a><li> getindex(d::<b>DArray</b>) in DistributedArrays at <a href=\"file:///Users/ppalmes/.julia/packages/DistributedArrays/fEM6l/src/darray.jl\" target=\"_blank\">/Users/ppalmes/.julia/packages/DistributedArrays/fEM6l/src/darray.jl:663</a><li> getindex(d::<b>DArray</b>, i::<b>Int64</b>) in DistributedArrays at <a href=\"file:///Users/ppalmes/.julia/packages/DistributedArrays/fEM6l/src/darray.jl\" target=\"_blank\">/Users/ppalmes/.julia/packages/DistributedArrays/fEM6l/src/darray.jl:654</a><li> getindex(d::<b>DArray</b>, i::<b>Int64...</b>) in DistributedArrays at <a href=\"file:///Users/ppalmes/.julia/packages/DistributedArrays/fEM6l/src/darray.jl\" target=\"_blank\">/Users/ppalmes/.julia/packages/DistributedArrays/fEM6l/src/darray.jl:658</a><li> getindex(d::<b>DArray</b>, s::<b>Symbol</b>) in DistributedArrays at <a href=\"file:///Users/ppalmes/.julia/packages/DistributedArrays/fEM6l/src/darray.jl\" target=\"_blank\">/Users/ppalmes/.julia/packages/DistributedArrays/fEM6l/src/darray.jl:387</a><li> hash(d::<b>DArray</b>, h::<b>UInt64</b>) in DistributedArrays at <a href=\"file:///Users/ppalmes/.julia/packages/DistributedArrays/fEM6l/src/darray.jl\" target=\"_blank\">/Users/ppalmes/.julia/packages/DistributedArrays/fEM6l/src/darray.jl:76</a><li> isassigned(D::<b>DArray</b>, i::<b>Integer...</b>) in DistributedArrays at <a href=\"file:///Users/ppalmes/.julia/packages/DistributedArrays/fEM6l/src/darray.jl\" target=\"_blank\">/Users/ppalmes/.julia/packages/DistributedArrays/fEM6l/src/darray.jl:669</a><li> map(f, d0::<b>DArray</b>, ds::<b>AbstractArray...</b>) in DistributedArrays at <a href=\"file:///Users/ppalmes/.julia/packages/DistributedArrays/fEM6l/src/mapreduce.jl\" target=\"_blank\">/Users/ppalmes/.julia/packages/DistributedArrays/fEM6l/src/mapreduce.jl:6</a><li> map!(f::<b>F</b>, dest::<b>DArray</b>, src::<b>DArray{<:Any, <:Any, A}</b>)<i> where {F, A}</i> in DistributedArrays at <a href=\"file:///Users/ppalmes/.julia/packages/DistributedArrays/fEM6l/src/mapreduce.jl\" target=\"_blank\">/Users/ppalmes/.julia/packages/DistributedArrays/fEM6l/src/mapreduce.jl:8</a><li> mapslices(f, D::<b>DArray{T, N, A}</b>; <i>dims</i>)<i> where {T, N, A}</i> in DistributedArrays at <a href=\"file:///Users/ppalmes/.julia/packages/DistributedArrays/fEM6l/src/mapreduce.jl\" target=\"_blank\">/Users/ppalmes/.julia/packages/DistributedArrays/fEM6l/src/mapreduce.jl:203</a><li> mod(A::<b>Array{T}</b>, B::<b>DArray{T}</b>)<i> where T</i> in DistributedArrays at <a href=\"file:///Users/ppalmes/.julia/packages/DistributedArrays/fEM6l/src/mapreduce.jl\" target=\"_blank\">/Users/ppalmes/.julia/packages/DistributedArrays/fEM6l/src/mapreduce.jl:199</a><li> mod(A::<b>DArray{T}</b>, B::<b>Array{T}</b>)<i> where T</i> in DistributedArrays at <a href=\"file:///Users/ppalmes/.julia/packages/DistributedArrays/fEM6l/src/mapreduce.jl\" target=\"_blank\">/Users/ppalmes/.julia/packages/DistributedArrays/fEM6l/src/mapreduce.jl:198</a><li> mod(A::<b>DArray{T}</b>, B::<b>DArray{T}</b>)<i> where T</i> in DistributedArrays at <a href=\"file:///Users/ppalmes/.julia/packages/DistributedArrays/fEM6l/src/mapreduce.jl\" target=\"_blank\">/Users/ppalmes/.julia/packages/DistributedArrays/fEM6l/src/mapreduce.jl:194</a><li> reduce(f, d::<b>DArray</b>) in DistributedArrays at <a href=\"file:///Users/ppalmes/.julia/packages/DistributedArrays/fEM6l/src/mapreduce.jl\" target=\"_blank\">/Users/ppalmes/.julia/packages/DistributedArrays/fEM6l/src/mapreduce.jl:18</a><li> setindex!(d::<b>DArray{T, N, A}</b>, new_lp::<b>A</b>, s::<b>Symbol</b>)<i> where {T, N, A}</i> in DistributedArrays at <a href=\"file:///Users/ppalmes/.julia/packages/DistributedArrays/fEM6l/src/darray.jl\" target=\"_blank\">/Users/ppalmes/.julia/packages/DistributedArrays/fEM6l/src/darray.jl:392</a><li> setindex!(a::<b>Array</b>, d::<b>DArray</b>, I::<b>Union{Colon, StepRange{Int64, Int64}, UnitRange{Int64}, Vector{Int64}}...</b>) in DistributedArrays at <a href=\"file:///Users/ppalmes/.julia/packages/DistributedArrays/fEM6l/src/darray.jl\" target=\"_blank\">/Users/ppalmes/.julia/packages/DistributedArrays/fEM6l/src/darray.jl:708</a><li> similar(d::<b>DArray{T}</b>)<i> where T</i> in DistributedArrays at <a href=\"file:///Users/ppalmes/.julia/packages/DistributedArrays/fEM6l/src/darray.jl\" target=\"_blank\">/Users/ppalmes/.julia/packages/DistributedArrays/fEM6l/src/darray.jl:256</a><li> similar(d::<b>DArray{T}</b>, dims::<b>Tuple{Vararg{Int64, N}} where N</b>)<i> where T</i> in DistributedArrays at <a href=\"file:///Users/ppalmes/.julia/packages/DistributedArrays/fEM6l/src/darray.jl\" target=\"_blank\">/Users/ppalmes/.julia/packages/DistributedArrays/fEM6l/src/darray.jl:255</a><li> similar(d::<b>DArray</b>, T::<b>Type</b>) in DistributedArrays at <a href=\"file:///Users/ppalmes/.julia/packages/DistributedArrays/fEM6l/src/darray.jl\" target=\"_blank\">/Users/ppalmes/.julia/packages/DistributedArrays/fEM6l/src/darray.jl:254</a><li> similar(d::<b>DArray</b>, T::<b>Type</b>, dims::<b>Tuple{Vararg{Int64, N}} where N</b>) in DistributedArrays at <a href=\"file:///Users/ppalmes/.julia/packages/DistributedArrays/fEM6l/src/darray.jl\" target=\"_blank\">/Users/ppalmes/.julia/packages/DistributedArrays/fEM6l/src/darray.jl:253</a><li> size(d::<b>DArray</b>) in DistributedArrays at <a href=\"file:///Users/ppalmes/.julia/packages/DistributedArrays/fEM6l/src/darray.jl\" target=\"_blank\">/Users/ppalmes/.julia/packages/DistributedArrays/fEM6l/src/darray.jl:258</a><li> xor(A::<b>Array{T}</b>, B::<b>DArray{T}</b>)<i> where T</i> in DistributedArrays at <a href=\"file:///Users/ppalmes/.julia/packages/DistributedArrays/fEM6l/src/mapreduce.jl\" target=\"_blank\">/Users/ppalmes/.julia/packages/DistributedArrays/fEM6l/src/mapreduce.jl:199</a><li> xor(A::<b>DArray{T}</b>, B::<b>Array{T}</b>)<i> where T</i> in DistributedArrays at <a href=\"file:///Users/ppalmes/.julia/packages/DistributedArrays/fEM6l/src/mapreduce.jl\" target=\"_blank\">/Users/ppalmes/.julia/packages/DistributedArrays/fEM6l/src/mapreduce.jl:198</a><li> xor(A::<b>DArray{T}</b>, B::<b>DArray{T}</b>)<i> where T</i> in DistributedArrays at <a href=\"file:///Users/ppalmes/.julia/packages/DistributedArrays/fEM6l/src/mapreduce.jl\" target=\"_blank\">/Users/ppalmes/.julia/packages/DistributedArrays/fEM6l/src/mapreduce.jl:194</a><li> |(A::<b>Array{T}</b>, B::<b>DArray{T}</b>)<i> where T</i> in DistributedArrays at <a href=\"file:///Users/ppalmes/.julia/packages/DistributedArrays/fEM6l/src/mapreduce.jl\" target=\"_blank\">/Users/ppalmes/.julia/packages/DistributedArrays/fEM6l/src/mapreduce.jl:199</a><li> |(A::<b>DArray{T}</b>, B::<b>Array{T}</b>)<i> where T</i> in DistributedArrays at <a href=\"file:///Users/ppalmes/.julia/packages/DistributedArrays/fEM6l/src/mapreduce.jl\" target=\"_blank\">/Users/ppalmes/.julia/packages/DistributedArrays/fEM6l/src/mapreduce.jl:198</a><li> |(A::<b>DArray{T}</b>, B::<b>DArray{T}</b>)<i> where T</i> in DistributedArrays at <a href=\"file:///Users/ppalmes/.julia/packages/DistributedArrays/fEM6l/src/mapreduce.jl\" target=\"_blank\">/Users/ppalmes/.julia/packages/DistributedArrays/fEM6l/src/mapreduce.jl:194</a></ul>"
      ],
      "text/plain": [
       "[1] serialize(S::Serialization.AbstractSerializer, d::DArray{T, N, A}) where {T, N, A} in DistributedArrays at /Users/ppalmes/.julia/packages/DistributedArrays/fEM6l/src/serialize.jl:1\n",
       "[2] axpy!(α, x::DArray, y::DArray) in DistributedArrays at /Users/ppalmes/.julia/packages/DistributedArrays/fEM6l/src/linalg.jl:24\n",
       "[3] copyto!(dest::DArray, bc::Base.Broadcast.Broadcasted) in DistributedArrays at /Users/ppalmes/.julia/packages/DistributedArrays/fEM6l/src/broadcast.jl:66\n",
       "[4] norm(x::DArray) in DistributedArrays at /Users/ppalmes/.julia/packages/DistributedArrays/fEM6l/src/linalg.jl:49\n",
       "[5] norm(x::DArray, p::Real) in DistributedArrays at /Users/ppalmes/.julia/packages/DistributedArrays/fEM6l/src/linalg.jl:49\n",
       "[6] rmul!(A::DArray, x::Number) in DistributedArrays at /Users/ppalmes/.julia/packages/DistributedArrays/fEM6l/src/linalg.jl:59\n",
       "[7] rand!(A::DArray, ::Type{T}) where T in DistributedArrays at /Users/ppalmes/.julia/packages/DistributedArrays/fEM6l/src/darray.jl:856\n",
       "[8] nnz(A::DArray) in DistributedArrays at /Users/ppalmes/.julia/packages/DistributedArrays/fEM6l/src/mapreduce.jl:123\n",
       "[9] procs(d::DArray) in DistributedArrays at /Users/ppalmes/.julia/packages/DistributedArrays/fEM6l/src/core.jl:58\n",
       "[10] DArray(init, d::DArray) in DistributedArrays at /Users/ppalmes/.julia/packages/DistributedArrays/fEM6l/src/darray.jl:249\n",
       "[11] close(d::DArray) in DistributedArrays at /Users/ppalmes/.julia/packages/DistributedArrays/fEM6l/src/core.jl:34\n",
       "[12] distribute(A::AbstractArray, DA::DArray) in DistributedArrays at /Users/ppalmes/.julia/packages/DistributedArrays/fEM6l/src/darray.jl:559\n",
       "[13] localindices(d::DArray) in DistributedArrays at /Users/ppalmes/.julia/packages/DistributedArrays/fEM6l/src/darray.jl:408\n",
       "[14] localpart(d::DArray{T, N, A}) where {T, N, A} in DistributedArrays at /Users/ppalmes/.julia/packages/DistributedArrays/fEM6l/src/darray.jl:345\n",
       "[15] localpart(d::DArray, localidx...) in DistributedArrays at /Users/ppalmes/.julia/packages/DistributedArrays/fEM6l/src/darray.jl:354\n",
       "[16] rem(A::Array{T}, B::DArray{T}) where T in DistributedArrays at /Users/ppalmes/.julia/packages/DistributedArrays/fEM6l/src/mapreduce.jl:199\n",
       "[17] rem(A::DArray{T}, B::Array{T}) where T in DistributedArrays at /Users/ppalmes/.julia/packages/DistributedArrays/fEM6l/src/mapreduce.jl:198\n",
       "[18] rem(A::DArray{T}, B::DArray{T}) where T in DistributedArrays at /Users/ppalmes/.julia/packages/DistributedArrays/fEM6l/src/mapreduce.jl:194\n",
       "[19] &(A::Array{T}, B::DArray{T}) where T in DistributedArrays at /Users/ppalmes/.julia/packages/DistributedArrays/fEM6l/src/mapreduce.jl:199\n",
       "[20] &(A::DArray{T}, B::Array{T}) where T in DistributedArrays at /Users/ppalmes/.julia/packages/DistributedArrays/fEM6l/src/mapreduce.jl:198\n",
       "[21] &(A::DArray{T}, B::DArray{T}) where T in DistributedArrays at /Users/ppalmes/.julia/packages/DistributedArrays/fEM6l/src/mapreduce.jl:194\n",
       "[22] +(A::DArray{T}, B::Array{T}) where T in DistributedArrays at /Users/ppalmes/.julia/packages/DistributedArrays/fEM6l/src/mapreduce.jl:198\n",
       "[23] +(A::DArray{T}, B::DArray{T}) where T in DistributedArrays at /Users/ppalmes/.julia/packages/DistributedArrays/fEM6l/src/mapreduce.jl:194\n",
       "[24] +(A::Array{T}, B::DArray{T}) where T in DistributedArrays at /Users/ppalmes/.julia/packages/DistributedArrays/fEM6l/src/mapreduce.jl:199\n",
       "[25] -(D::DArray) in DistributedArrays at /Users/ppalmes/.julia/packages/DistributedArrays/fEM6l/src/mapreduce.jl:146\n",
       "[26] -(A::DArray{T}, B::Array{T}) where T in DistributedArrays at /Users/ppalmes/.julia/packages/DistributedArrays/fEM6l/src/mapreduce.jl:198\n",
       "[27] -(A::DArray{T}, B::DArray{T}) where T in DistributedArrays at /Users/ppalmes/.julia/packages/DistributedArrays/fEM6l/src/mapreduce.jl:194\n",
       "[28] -(A::Array{T}, B::DArray{T}) where T in DistributedArrays at /Users/ppalmes/.julia/packages/DistributedArrays/fEM6l/src/mapreduce.jl:199\n",
       "[29] ==(d1::SubArray{T, N, D} where {T, N, D<:DArray}, d2::DArray) in DistributedArrays at /Users/ppalmes/.julia/packages/DistributedArrays/fEM6l/src/darray.jl:438\n",
       "[30] ==(d1::DArray, d2::SubArray{T, N, D} where {T, N, D<:DArray}) in DistributedArrays at /Users/ppalmes/.julia/packages/DistributedArrays/fEM6l/src/darray.jl:444\n",
       "[31] ==(d1::DArray, d2::DArray) in DistributedArrays at /Users/ppalmes/.julia/packages/DistributedArrays/fEM6l/src/darray.jl:437\n",
       "[32] ==(a::AbstractArray, d::DArray) in DistributedArrays at /Users/ppalmes/.julia/packages/DistributedArrays/fEM6l/src/darray.jl:435\n",
       "[33] ==(d::DArray{<:Any, <:Any, A}, a::AbstractArray) where A in DistributedArrays at /Users/ppalmes/.julia/packages/DistributedArrays/fEM6l/src/darray.jl:417\n",
       "[34] count(f, A::DArray) in DistributedArrays at /Users/ppalmes/.julia/packages/DistributedArrays/fEM6l/src/mapreduce.jl:114\n",
       "[35] deepcopy(src::DArray) in DistributedArrays at /Users/ppalmes/.julia/packages/DistributedArrays/fEM6l/src/darray.jl:695\n",
       "[36] div(A::Array{T}, B::DArray{T}) where T in DistributedArrays at /Users/ppalmes/.julia/packages/DistributedArrays/fEM6l/src/mapreduce.jl:199\n",
       "[37] div(A::DArray{T}, B::Array{T}) where T in DistributedArrays at /Users/ppalmes/.julia/packages/DistributedArrays/fEM6l/src/mapreduce.jl:198\n",
       "[38] div(A::DArray{T}, B::DArray{T}) where T in DistributedArrays at /Users/ppalmes/.julia/packages/DistributedArrays/fEM6l/src/mapreduce.jl:194\n",
       "[39] extrema(d::DArray) in DistributedArrays at /Users/ppalmes/.julia/packages/DistributedArrays/fEM6l/src/mapreduce.jl:130\n",
       "[40] fetch(d::DArray{T, N, A}, i) where {T, N, A} in DistributedArrays at /Users/ppalmes/.julia/packages/DistributedArrays/fEM6l/src/darray.jl:400\n",
       "[41] fill!(A::DArray, x) in DistributedArrays at /Users/ppalmes/.julia/packages/DistributedArrays/fEM6l/src/darray.jl:847\n",
       "[42] getindex(d::DArray) in DistributedArrays at /Users/ppalmes/.julia/packages/DistributedArrays/fEM6l/src/darray.jl:663\n",
       "[43] getindex(d::DArray, i::Int64) in DistributedArrays at /Users/ppalmes/.julia/packages/DistributedArrays/fEM6l/src/darray.jl:654\n",
       "[44] getindex(d::DArray, i::Int64...) in DistributedArrays at /Users/ppalmes/.julia/packages/DistributedArrays/fEM6l/src/darray.jl:658\n",
       "[45] getindex(d::DArray, s::Symbol) in DistributedArrays at /Users/ppalmes/.julia/packages/DistributedArrays/fEM6l/src/darray.jl:387\n",
       "[46] hash(d::DArray, h::UInt64) in DistributedArrays at /Users/ppalmes/.julia/packages/DistributedArrays/fEM6l/src/darray.jl:76\n",
       "[47] isassigned(D::DArray, i::Integer...) in DistributedArrays at /Users/ppalmes/.julia/packages/DistributedArrays/fEM6l/src/darray.jl:669\n",
       "[48] map(f, d0::DArray, ds::AbstractArray...) in DistributedArrays at /Users/ppalmes/.julia/packages/DistributedArrays/fEM6l/src/mapreduce.jl:6\n",
       "[49] map!(f::F, dest::DArray, src::DArray{<:Any, <:Any, A}) where {F, A} in DistributedArrays at /Users/ppalmes/.julia/packages/DistributedArrays/fEM6l/src/mapreduce.jl:8\n",
       "[50] mapslices(f, D::DArray{T, N, A}; dims) where {T, N, A} in DistributedArrays at /Users/ppalmes/.julia/packages/DistributedArrays/fEM6l/src/mapreduce.jl:203\n",
       "[51] mod(A::Array{T}, B::DArray{T}) where T in DistributedArrays at /Users/ppalmes/.julia/packages/DistributedArrays/fEM6l/src/mapreduce.jl:199\n",
       "[52] mod(A::DArray{T}, B::Array{T}) where T in DistributedArrays at /Users/ppalmes/.julia/packages/DistributedArrays/fEM6l/src/mapreduce.jl:198\n",
       "[53] mod(A::DArray{T}, B::DArray{T}) where T in DistributedArrays at /Users/ppalmes/.julia/packages/DistributedArrays/fEM6l/src/mapreduce.jl:194\n",
       "[54] reduce(f, d::DArray) in DistributedArrays at /Users/ppalmes/.julia/packages/DistributedArrays/fEM6l/src/mapreduce.jl:18\n",
       "[55] setindex!(d::DArray{T, N, A}, new_lp::A, s::Symbol) where {T, N, A} in DistributedArrays at /Users/ppalmes/.julia/packages/DistributedArrays/fEM6l/src/darray.jl:392\n",
       "[56] setindex!(a::Array, d::DArray, I::Union{Colon, StepRange{Int64, Int64}, UnitRange{Int64}, Vector{Int64}}...) in DistributedArrays at /Users/ppalmes/.julia/packages/DistributedArrays/fEM6l/src/darray.jl:708\n",
       "[57] similar(d::DArray{T}) where T in DistributedArrays at /Users/ppalmes/.julia/packages/DistributedArrays/fEM6l/src/darray.jl:256\n",
       "[58] similar(d::DArray{T}, dims::Tuple{Vararg{Int64, N}} where N) where T in DistributedArrays at /Users/ppalmes/.julia/packages/DistributedArrays/fEM6l/src/darray.jl:255\n",
       "[59] similar(d::DArray, T::Type) in DistributedArrays at /Users/ppalmes/.julia/packages/DistributedArrays/fEM6l/src/darray.jl:254\n",
       "[60] similar(d::DArray, T::Type, dims::Tuple{Vararg{Int64, N}} where N) in DistributedArrays at /Users/ppalmes/.julia/packages/DistributedArrays/fEM6l/src/darray.jl:253\n",
       "[61] size(d::DArray) in DistributedArrays at /Users/ppalmes/.julia/packages/DistributedArrays/fEM6l/src/darray.jl:258\n",
       "[62] xor(A::Array{T}, B::DArray{T}) where T in DistributedArrays at /Users/ppalmes/.julia/packages/DistributedArrays/fEM6l/src/mapreduce.jl:199\n",
       "[63] xor(A::DArray{T}, B::Array{T}) where T in DistributedArrays at /Users/ppalmes/.julia/packages/DistributedArrays/fEM6l/src/mapreduce.jl:198\n",
       "[64] xor(A::DArray{T}, B::DArray{T}) where T in DistributedArrays at /Users/ppalmes/.julia/packages/DistributedArrays/fEM6l/src/mapreduce.jl:194\n",
       "[65] |(A::Array{T}, B::DArray{T}) where T in DistributedArrays at /Users/ppalmes/.julia/packages/DistributedArrays/fEM6l/src/mapreduce.jl:199\n",
       "[66] |(A::DArray{T}, B::Array{T}) where T in DistributedArrays at /Users/ppalmes/.julia/packages/DistributedArrays/fEM6l/src/mapreduce.jl:198\n",
       "[67] |(A::DArray{T}, B::DArray{T}) where T in DistributedArrays at /Users/ppalmes/.julia/packages/DistributedArrays/fEM6l/src/mapreduce.jl:194"
      ]
     },
     "execution_count": 14,
     "metadata": {},
     "output_type": "execute_result"
    }
   ],
   "source": [
    "methodswith(DArray)"
   ]
  },
  {
   "cell_type": "code",
   "execution_count": 15,
   "metadata": {},
   "outputs": [
    {
     "data": {
      "text/html": [
       "sum(a::<b>AbstractArray</b>; <i>dims, kw...</i>) in Base at <a href=\"https://github.com/JuliaLang/julia/tree/bf534986350a991e4a1b29126de0342ffd76205e/base/reducedim.jl#L889\" target=\"_blank\">reducedim.jl:889</a>"
      ],
      "text/plain": [
       "sum(a::AbstractArray; dims, kw...) in Base at reducedim.jl:889"
      ]
     },
     "execution_count": 15,
     "metadata": {},
     "output_type": "execute_result"
    }
   ],
   "source": [
    "@which sum(ddat .* ddat)"
   ]
  }
 ],
 "metadata": {
  "@webio": {
   "lastCommId": null,
   "lastKernelId": null
  },
  "kernelspec": {
   "display_name": "Julia 1.7.2",
   "language": "julia",
   "name": "julia-1.7"
  },
  "language_info": {
   "file_extension": ".jl",
   "mimetype": "application/julia",
   "name": "julia",
   "version": "1.7.2"
  }
 },
 "nbformat": 4,
 "nbformat_minor": 2
}
