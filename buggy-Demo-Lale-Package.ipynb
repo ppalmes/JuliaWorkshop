{
 "cells": [
  {
   "cell_type": "code",
   "execution_count": null,
   "metadata": {},
   "outputs": [],
   "source": [
    "using Lale"
   ]
  },
  {
   "cell_type": "code",
   "execution_count": null,
   "metadata": {},
   "outputs": [],
   "source": [
    "using Random\n",
    "using Statistics\n",
    "using Test\n",
    "using DataFrames: DataFrame, nrow"
   ]
  },
  {
   "cell_type": "code",
   "execution_count": null,
   "metadata": {},
   "outputs": [],
   "source": [
    "iris = getiris();\n",
    "trx,tstx = holdout(nrow(iris),0.30)\n",
    "training = iris[trx,:]\n",
    "testing = iris[tstx,:];"
   ]
  },
  {
   "cell_type": "code",
   "execution_count": null,
   "metadata": {},
   "outputs": [],
   "source": [
    "clf_tr_X = training[:,1:4] |> DataFrame\n",
    "clf_tr_y = training[:,5]   |> Vector\n",
    "clf_tst_X = testing[:,1:4] |> DataFrame\n",
    "clf_tst_y = testing[:,5] |> Vector;"
   ]
  },
  {
   "cell_type": "markdown",
   "metadata": {},
   "source": [
    "## AutoML for classifier pipeline\n",
    "\n",
    "This example uses Lale for combined algorithm selection and hyperparameter tuning\n",
    "on a classifier pipeline."
   ]
  },
  {
   "cell_type": "markdown",
   "metadata": {},
   "source": [
    "The first step to create a pipeline is to instantiate the operators. `laleoperator` takes the name of the operator and an optional package argument. The default package is sklearn, which means by default it will try to instantiate operators from sklearn."
   ]
  },
  {
   "cell_type": "code",
   "execution_count": null,
   "metadata": {},
   "outputs": [],
   "source": [
    "PCA = laleoperator(\"PCA\")\n",
    "RobustScaler = laleoperator(\"RobustScaler\")\n",
    "ConcatFeatures = laleoperator(\"ConcatFeatures\", \"lale\")\n",
    "LogisticRegression = laleoperator(\"LogisticRegression\")\n",
    "RandomForestClassifier = laleoperator(\"RandomForestClassifier\");"
   ]
  },
  {
   "cell_type": "markdown",
   "metadata": {},
   "source": [
    "The next step is to compose a pipeline using the operators and combinators defined in Lale. The table below summarizes the available pipeline combinators which can be used to define the pipeline directed acyclic graph:\n",
    "\n",
    "| Symbol | Name | Description  | Sklearn feature |\n",
    "| ------ | ---- | ------------ | --------------- |\n",
    "| >>     | pipe | Feed to next | `make_pipeline` |\n",
    "| &      | and  | Run both     | `make_union`, includes concat |\n",
    "| &#x7c; | or   | Choose one   | (missing) |\n"
   ]
  },
  {
   "cell_type": "code",
   "execution_count": null,
   "metadata": {},
   "outputs": [],
   "source": [
    "clf_planned = (PCA & RobustScaler) >> ConcatFeatures >> (LogisticRegression | RandomForestClassifier);"
   ]
  },
  {
   "cell_type": "markdown",
   "metadata": {},
   "source": [
    "`LalePipeOptimizer` takes the pipeline graph from above and we can provide a budget of the number of optimizer iterations along with other parameters such as cross validation number of folds. It internally uses hyperopt for performing the algorithm selection and hyperparameter tuning.\n",
    "Lale follows sklearn API, so `fit` is for trainind and `predict` for obtaining the predictions."
   ]
  },
  {
   "cell_type": "code",
   "execution_count": null,
   "metadata": {},
   "outputs": [],
   "source": [
    "clf_hopt = LalePipeOptimizer(clf_planned, max_evals=10, cv=3)\n",
    "clf_trained = fit(clf_hopt, clf_tr_X, clf_tr_y);"
   ]
  },
  {
   "cell_type": "code",
   "execution_count": null,
   "metadata": {},
   "outputs": [],
   "source": [
    "clf_pred = predict(clf_trained, clf_tst_X)\n",
    "clf_accu = score(:accuracy, clf_pred, clf_tst_y)"
   ]
  },
  {
   "cell_type": "markdown",
   "metadata": {},
   "source": [
    "## AutoML for regressor pipeline\n",
    "\n",
    "This example uses Lale for combined algorithm selection and hyperparameter tuning\n",
    "on a regressor pipeline."
   ]
  },
  {
   "cell_type": "code",
   "execution_count": null,
   "metadata": {},
   "outputs": [],
   "source": [
    "reg_tr_X = training[:,1:3] |> DataFrame\n",
    "reg_tr_y = training[:,4]   |> Vector\n",
    "reg_tst_X = testing[:,1:3] |> DataFrame\n",
    "reg_tst_y = testing[:,4]   |> Vector;"
   ]
  },
  {
   "cell_type": "code",
   "execution_count": null,
   "metadata": {},
   "outputs": [],
   "source": [
    "PCA = laleoperator(\"PCA\")\n",
    "NoOp = laleoperator(\"NoOp\", \"lale\")\n",
    "LinearRegression = laleoperator(\"LinearRegression\")\n",
    "RandomForestRegressor = laleoperator(\"RandomForestRegressor\");"
   ]
  },
  {
   "cell_type": "code",
   "execution_count": null,
   "metadata": {},
   "outputs": [],
   "source": [
    "reg_planned = (PCA | NoOp) >> (LinearRegression | RandomForestRegressor);"
   ]
  },
  {
   "cell_type": "code",
   "execution_count": null,
   "metadata": {},
   "outputs": [],
   "source": [
    "reg_hopt = LalePipeOptimizer(reg_planned, max_evals=10, cv=3)\n",
    "reg_trained = fit(reg_hopt, reg_tr_X, reg_tr_y);"
   ]
  },
  {
   "cell_type": "code",
   "execution_count": null,
   "metadata": {},
   "outputs": [],
   "source": [
    "reg_pred = predict(reg_trained, reg_tst_X)\n",
    "reg_rmse = score(:rmse, reg_pred, reg_tst_y)"
   ]
  },
  {
   "cell_type": "code",
   "execution_count": null,
   "metadata": {},
   "outputs": [],
   "source": [
    "using Distributed"
   ]
  },
  {
   "cell_type": "code",
   "execution_count": null,
   "metadata": {},
   "outputs": [],
   "source": [
    "nprocs() == 1 && addprocs(; exeflags=\"--project\")\n",
    "@everywhere using Lale\n",
    "@everywhere using Statistics\n",
    "@everywhere using Random: seed!\n",
    "@everywhere using DataFrames\n",
    "@everywhere using DataFrames: DataFrame, nrow"
   ]
  },
  {
   "cell_type": "code",
   "execution_count": null,
   "metadata": {},
   "outputs": [],
   "source": [
    "workers()"
   ]
  },
  {
   "cell_type": "code",
   "execution_count": null,
   "metadata": {},
   "outputs": [],
   "source": [
    "trials=10\n",
    "results = @distributed (vcat) for i in 1:trials\n",
    "    clf_planned = (PCA & RobustScaler) >> ConcatFeatures >> (LogisticRegression | RandomForestClassifier)\n",
    "    clf_hopt = LalePipeOptimizer(clf_planned, max_evals=5, cv=3)\n",
    "    clf_trained = fit(clf_hopt, clf_tr_X, clf_tr_y)\n",
    "    clf_pred = predict(clf_trained, clf_tst_X)\n",
    "    clf_accu = score(:accuracy, clf_pred, clf_tst_y)\n",
    "    println(clf_accu)\n",
    "    clf_accu\n",
    "end"
   ]
  },
  {
   "cell_type": "code",
   "execution_count": null,
   "metadata": {},
   "outputs": [],
   "source": [
    "results |> mean"
   ]
  }
 ],
 "metadata": {
  "@webio": {
   "lastCommId": null,
   "lastKernelId": null
  },
  "kernelspec": {
   "display_name": "Julia 1.7.2",
   "language": "julia",
   "name": "julia-1.7"
  },
  "language_info": {
   "file_extension": ".jl",
   "mimetype": "application/julia",
   "name": "julia",
   "version": "1.7.2"
  }
 },
 "nbformat": 4,
 "nbformat_minor": 4
}
