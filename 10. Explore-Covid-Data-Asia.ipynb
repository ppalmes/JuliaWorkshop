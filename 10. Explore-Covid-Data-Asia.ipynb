{
 "cells": [
  {
   "cell_type": "code",
   "execution_count": null,
   "metadata": {},
   "outputs": [],
   "source": [
    "using RCall\n",
    "using DataFrames, DataFramesMeta\n",
    "using CSV\n",
    "using DataVoyager\n",
    "ENV[\"LINES\"] = 10\n",
    "ENV[\"COLUMNS\"]=10000;"
   ]
  },
  {
   "cell_type": "markdown",
   "metadata": {},
   "source": [
    "### Load Covid Data\n",
    "\n",
    "source: https://covid.ourworldindata.org/data/owid-covid-data.csv"
   ]
  },
  {
   "cell_type": "code",
   "execution_count": null,
   "metadata": {},
   "outputs": [],
   "source": [
    "df = CSV.read(\"owid-covid-data-latest.csv\",DataFrame)"
   ]
  },
  {
   "cell_type": "markdown",
   "metadata": {},
   "source": [
    "### Check Data Summary"
   ]
  },
  {
   "cell_type": "code",
   "execution_count": null,
   "metadata": {},
   "outputs": [],
   "source": [
    "R\"summary($df)\""
   ]
  },
  {
   "cell_type": "code",
   "execution_count": null,
   "metadata": {},
   "outputs": [],
   "source": [
    "ENV[\"LINES\"] = 10\n",
    "describe(df)"
   ]
  },
  {
   "cell_type": "markdown",
   "metadata": {},
   "source": [
    "### Column Subset: Remove redundant columns"
   ]
  },
  {
   "cell_type": "code",
   "execution_count": null,
   "metadata": {},
   "outputs": [],
   "source": [
    "features = [:continent,:location,:date,:new_cases,:new_deaths,:population, :population_density]\n",
    "dfa = df[:,features]\n",
    "dfn = @chain dfa begin\n",
    "    @subset(:new_cases .>= 0)\n",
    "    @subset(:new_deaths .>= 0)\n",
    "end\n",
    "describe(dfn)"
   ]
  },
  {
   "cell_type": "markdown",
   "metadata": {},
   "source": [
    "### Row Subset: Filter  Asia"
   ]
  },
  {
   "cell_type": "code",
   "execution_count": null,
   "metadata": {},
   "outputs": [],
   "source": [
    "dfasia = R\"\"\"\n",
    "          options(warn=-1)\n",
    "          library(tidyverse)\n",
    "          $dfn %>% filter(continent == \"Asia\") %>% \n",
    "          filter(new_cases >= 0) %>% filter(new_deaths >= 0)\n",
    "        \"\"\" |> rcopy"
   ]
  },
  {
   "cell_type": "code",
   "execution_count": null,
   "metadata": {},
   "outputs": [],
   "source": [
    "dfasia=@subset(dfn, :continent .== \"Asia\")"
   ]
  },
  {
   "cell_type": "markdown",
   "metadata": {},
   "source": [
    "### Visualize Asia Covid Trend"
   ]
  },
  {
   "cell_type": "code",
   "execution_count": null,
   "metadata": {},
   "outputs": [],
   "source": [
    "# dfasia |> Voyager()"
   ]
  },
  {
   "cell_type": "markdown",
   "metadata": {},
   "source": [
    "### Zoom-in to Philippines"
   ]
  },
  {
   "cell_type": "code",
   "execution_count": null,
   "metadata": {},
   "outputs": [],
   "source": [
    "dfph=R\"$dfasia %>% filter(location=='Philippines')\" |> rcopy"
   ]
  },
  {
   "cell_type": "code",
   "execution_count": null,
   "metadata": {},
   "outputs": [],
   "source": [
    "# dfph |> Voyager()"
   ]
  },
  {
   "cell_type": "code",
   "execution_count": null,
   "metadata": {},
   "outputs": [],
   "source": [
    "dfcases = R\"$dfasia %>% select(location,date,new_cases,new_deaths)\" |> rcopy"
   ]
  },
  {
   "cell_type": "markdown",
   "metadata": {},
   "source": [
    "### All Asia"
   ]
  },
  {
   "cell_type": "code",
   "execution_count": null,
   "metadata": {},
   "outputs": [],
   "source": [
    "# dfcases |> Voyager()"
   ]
  },
  {
   "cell_type": "markdown",
   "metadata": {},
   "source": [
    "### Plot interesting trends from the visualization"
   ]
  },
  {
   "cell_type": "code",
   "execution_count": null,
   "metadata": {},
   "outputs": [],
   "source": [
    "RCall.rcall_p(:options, rcalljl_options=Dict(:width => 500, :height => 10000))\n",
    "R\"\"\"\n",
    "options(warn=-1)\n",
    "library(ggplot2)\n",
    "\n",
    "ggplot($dfcases,aes(date,new_cases))+\n",
    "  geom_point(aes(color=new_deaths))+ylim(0,10000)+\n",
    "  facet_grid(location ~ .)\n",
    "\"\"\""
   ]
  },
  {
   "cell_type": "code",
   "execution_count": null,
   "metadata": {},
   "outputs": [],
   "source": [
    "RCall.rcall_p(:options, rcalljl_options=Dict(:width => 700, :height => 300))\n",
    "\n",
    "function plotdeaths(df::DataFrame,ctry::String)\n",
    "  R\"\"\"\n",
    "     options(warn=-1)\n",
    "     library(ggplot2)\n",
    "     ctr = $df %>% filter(location == $ctry)\n",
    "     ggplot(ctr,aes(date,new_deaths))+\n",
    "        geom_point(aes(color=new_deaths))+\n",
    "        scale_x_date(date_breaks = \"1 month\", date_labels =  \"%b %Y\")+\n",
    "        theme(axis.text.x=element_text(angle=60, hjust=1))\n",
    "  \"\"\"\n",
    "end\n",
    "\n",
    "function plotcases(df::DataFrame,ctry::String)\n",
    "  R\"\"\"\n",
    "     options(warn=-1)\n",
    "     library(ggplot2)\n",
    "     ctr = $df %>% filter(location == $ctry)\n",
    "     ggplot(ctr,aes(date,new_cases))+\n",
    "        geom_point(aes(color=new_cases))+\n",
    "        scale_x_date(date_breaks = \"1 month\", date_labels =  \"%b %Y\")+\n",
    "        theme(axis.text.x=element_text(angle=60, hjust=1))\n",
    "  \"\"\"\n",
    "end\n",
    "function covidplot(df,ctry)\n",
    "    display(plotcases(df,ctry));\n",
    "    display(plotdeaths(df,ctry));\n",
    "end"
   ]
  },
  {
   "cell_type": "code",
   "execution_count": null,
   "metadata": {},
   "outputs": [],
   "source": [
    "covidplot(df,\"Philippines\")"
   ]
  },
  {
   "cell_type": "code",
   "execution_count": null,
   "metadata": {},
   "outputs": [],
   "source": [
    "covidplot(df,\"United Kingdom\")"
   ]
  },
  {
   "cell_type": "code",
   "execution_count": null,
   "metadata": {},
   "outputs": [],
   "source": [
    "covidplot(df,\"Ireland\")"
   ]
  },
  {
   "cell_type": "code",
   "execution_count": null,
   "metadata": {},
   "outputs": [],
   "source": [
    "covidplot(df,\"Israel\")"
   ]
  },
  {
   "cell_type": "code",
   "execution_count": null,
   "metadata": {},
   "outputs": [],
   "source": [
    "covidplot(df,\"India\")"
   ]
  },
  {
   "cell_type": "code",
   "execution_count": null,
   "metadata": {},
   "outputs": [],
   "source": [
    "covidplot(df,\"Thailand\")"
   ]
  },
  {
   "cell_type": "code",
   "execution_count": null,
   "metadata": {},
   "outputs": [],
   "source": [
    "covidplot(df,\"Indonesia\")"
   ]
  },
  {
   "cell_type": "code",
   "execution_count": null,
   "metadata": {},
   "outputs": [],
   "source": [
    "covidplot(df,\"Malaysia\")"
   ]
  },
  {
   "cell_type": "code",
   "execution_count": null,
   "metadata": {},
   "outputs": [],
   "source": [
    "covidplot(df,\"China\")"
   ]
  },
  {
   "cell_type": "code",
   "execution_count": null,
   "metadata": {},
   "outputs": [],
   "source": [
    "covidplot(df,\"Australia\")"
   ]
  },
  {
   "cell_type": "code",
   "execution_count": null,
   "metadata": {},
   "outputs": [],
   "source": [
    "covidplot(df,\"Russia\")"
   ]
  },
  {
   "cell_type": "code",
   "execution_count": null,
   "metadata": {},
   "outputs": [],
   "source": [
    "covidplot(df,\"Netherlands\")"
   ]
  },
  {
   "cell_type": "code",
   "execution_count": null,
   "metadata": {},
   "outputs": [],
   "source": [
    "covidplot(df,\"Sweden\")"
   ]
  },
  {
   "cell_type": "code",
   "execution_count": null,
   "metadata": {},
   "outputs": [],
   "source": [
    "covidplot(df,\"Brazil\")"
   ]
  },
  {
   "cell_type": "code",
   "execution_count": null,
   "metadata": {},
   "outputs": [],
   "source": [
    "covidplot(df,\"United States\")"
   ]
  },
  {
   "cell_type": "code",
   "execution_count": null,
   "metadata": {},
   "outputs": [],
   "source": [
    "covidplot(df,\"Argentina\")"
   ]
  },
  {
   "cell_type": "code",
   "execution_count": null,
   "metadata": {},
   "outputs": [],
   "source": []
  }
 ],
 "metadata": {
  "@webio": {
   "lastCommId": null,
   "lastKernelId": null
  },
  "kernelspec": {
   "display_name": "Julia 1.7.2",
   "language": "julia",
   "name": "julia-1.7"
  },
  "language_info": {
   "file_extension": ".jl",
   "mimetype": "application/julia",
   "name": "julia",
   "version": "1.7.2"
  }
 },
 "nbformat": 4,
 "nbformat_minor": 4
}
