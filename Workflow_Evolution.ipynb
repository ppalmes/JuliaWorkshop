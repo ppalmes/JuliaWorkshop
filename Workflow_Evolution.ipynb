{
 "cells": [
  {
   "cell_type": "markdown",
   "metadata": {
    "slideshow": {
     "slide_type": "slide"
    }
   },
   "source": [
    "# Workflow Evolution"
   ]
  },
  {
   "cell_type": "markdown",
   "metadata": {
    "slideshow": {
     "slide_type": "slide"
    }
   },
   "source": [
    "## INPUT -> PROCESS -> OUTPUT\n",
    "\n",
    "## Programming Language Types\n",
    "- ## Interpreter\n",
    "- ## Compiler\n",
    "- ## Bytecode Interpreter\n",
    "- ## Just-in-time Compiler"
   ]
  },
  {
   "cell_type": "markdown",
   "metadata": {
    "slideshow": {
     "slide_type": "slide"
    }
   },
   "source": [
    "# Traditional Approach (3 or more language problem)\n",
    "\n",
    "## 1. Preprocessing: shell scripting (grep, awk,  perl, cut, cat, sed, etc)\n",
    "\n",
    "## 2. Main Computation: C/C++/Fortran\n",
    "\n",
    "## 3. Stat Analysis: R/Matlab/Python/gnuplot\n",
    "\n",
    "- ## pipe is slow\n",
    "- ## development time is slow\n",
    "- ## interactivity is slow\n",
    "- ## error prone\n",
    "- ## many small steps, missing the bigger picture\n",
    "- ## many language dependencies to keep up with"
   ]
  },
  {
   "cell_type": "markdown",
   "metadata": {
    "slideshow": {
     "slide_type": "slide"
    }
   },
   "source": [
    "# Current Approach (2 language problem)\n",
    "\n",
    "## 1. Rapid prototyping: Write entire program in either Python, R, Ruby, Matlab (Interpreter)\n",
    "\n",
    "## 2. Profile the code to identify bottleneck\n",
    "\n",
    "## 3. Rewrite slow parts in C/C++/Fortran (Compiler)\n",
    "\n",
    "## 4. Identify parts to be parallelized and use certain libraries"
   ]
  },
  {
   "cell_type": "markdown",
   "metadata": {
    "collapsed": true,
    "slideshow": {
     "slide_type": "slide"
    }
   },
   "source": [
    "# Alternative Approach\n",
    "\n",
    "## 1. Rapid prototyping and development: Write entire program in one (JIT) language\n",
    "\n",
    "## 2. Profile code and optimize\n",
    "\n",
    "## 3. Identify codes that can be parallelized and use built-in parallelism"
   ]
  }
 ],
 "metadata": {
  "@webio": {
   "lastCommId": null,
   "lastKernelId": null
  },
  "kernelspec": {
   "display_name": "Julia 1.7.2",
   "language": "julia",
   "name": "julia-1.7"
  },
  "language_info": {
   "file_extension": ".jl",
   "mimetype": "application/julia",
   "name": "julia",
   "version": "1.6.2"
  }
 },
 "nbformat": 4,
 "nbformat_minor": 2
}
